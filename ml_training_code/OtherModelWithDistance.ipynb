{
 "cells": [
  {
   "cell_type": "code",
   "execution_count": 1,
   "metadata": {
    "collapsed": true
   },
   "outputs": [],
   "source": [
    "from sklearn import preprocessing\n",
    "from sklearn.preprocessing import LabelEncoder\n",
    "import math\n",
    "from collections import defaultdict\n",
    "import csv\n",
    "import pandas as pd\n",
    "import numpy as np\n",
    "from flask import jsonify\n",
    "from sklearn.ensemble import RandomForestRegressor\n",
    "from sklearn.metrics import mean_absolute_error\n",
    "from sklearn.model_selection import cross_val_score,GridSearchCV\n",
    "from sklearn.model_selection import ShuffleSplit\n",
    "from sklearn.model_selection import cross_val_predict\n",
    "from sklearn.model_selection import train_test_split\n",
    "from sklearn.linear_model import Ridge\n",
    "from sklearn.externals import joblib\n",
    "from sklearn.neural_network import MLPRegressor\n",
    "from sklearn.ensemble import GradientBoostingRegressor"
   ]
  },
  {
   "cell_type": "code",
   "execution_count": 2,
   "metadata": {
    "collapsed": true
   },
   "outputs": [],
   "source": [
    "data = pd.read_csv('house_prediction/data/output copy.csv')\n",
    "\n",
    "# Separate out the x_data and y_data.\n",
    "data_X = data.loc[:, [col for col in data.columns if col not in [\"price_sqft\",\"address\",\"url\",\"price\"]]]\n",
    "data_y = data.loc[:, \"price\"]\n",
    "#print data_X"
   ]
  },
  {
   "cell_type": "code",
   "execution_count": 3,
   "metadata": {
    "collapsed": true
   },
   "outputs": [],
   "source": [
    "\"\"\" about label encoder\n",
    "#https://stackoverflow.com/questions/24458645/label-encoding-across-multiple-columns-in-scikit-learn\n",
    "# Encoding the variable\n",
    "fit = df.apply(lambda x: d[x.name].fit_transform(x))\n",
    "# Inverse the encoded\n",
    "fit.apply(lambda x: d[x.name].inverse_transform(x))\n",
    "# Using the dictionary to label future data\n",
    "df.apply(lambda x: d[x.name].transform(x))\n",
    "\"\"\"\n",
    "encode_list = ['city','state']\n",
    "d = defaultdict(LabelEncoder)\n",
    "data_X_encoded = data_X.apply(lambda x: d[x.name].fit_transform(x) if x.name in encode_list else x)\n",
    "#print data_X_encoded"
   ]
  },
  {
   "cell_type": "code",
   "execution_count": 4,
   "metadata": {},
   "outputs": [
    {
     "name": "stdout",
     "output_type": "stream",
     "text": [
      "LabelEncoder()\n",
      "[0 1 2 3 4 5 6]\n"
     ]
    }
   ],
   "source": [
    "print d['city']\n",
    "np.save('city.npy', d['city'].classes_)\n",
    "np.save('state.npy', d['state'].classes_)\n",
    "le_city = LabelEncoder()\n",
    "le_city.classes_ = np.load('city.npy')\n",
    "le_state = LabelEncoder()\n",
    "le_state.classes_ = np.load('state.npy')\n",
    "print le_city.transform(['Atlanta','Brookhaven','College Park','Dunwoody','Marietta','Sandy Springs','Smyrna'])\n"
   ]
  },
  {
   "cell_type": "code",
   "execution_count": 5,
   "metadata": {
    "collapsed": true
   },
   "outputs": [],
   "source": [
    "#input format: latitude\tlongitude\tcity\tstate\tpostal_code\n",
    "#  #bedrooms\t#bathrooms\tsqft\td1\td2\td3\td4\td5\td6\td7\td8\td9\td10\td11\td12\td13\td14\td15\td16\td17\td18\td19\td20\n",
    "x_test = [33.913258,-84.451048,le_city.transform(['Atlanta'])[0],\n",
    "          le_state.transform(['GA'])[0],30339,5,7,8407]\n"
   ]
  },
  {
   "cell_type": "code",
   "execution_count": 6,
   "metadata": {
    "collapsed": true
   },
   "outputs": [],
   "source": [
    "from sklearn.metrics import fbeta_score, make_scorer\n",
    "def my_custom_loss_func(ground_truth, predictions):\n",
    "    diff = -np.abs((ground_truth - predictions)/ground_truth).mean()\n",
    "    return diff\n",
    "my_scorer = make_scorer(my_custom_loss_func, greater_is_better=True)\n",
    "cv_para = ShuffleSplit(n_splits=10, test_size=0.1, random_state=100)"
   ]
  },
  {
   "cell_type": "code",
   "execution_count": null,
   "metadata": {
    "collapsed": true
   },
   "outputs": [],
   "source": [
    "nn_model = MLPRegressor(hidden_layer_sizes=(1, ), activation='relu',\n",
    "             solver='adam', alpha=0.00001, batch_size='auto',\n",
    "             learning_rate='constant', learning_rate_init=0.001,\n",
    "             power_t=0.5, max_iter=500, shuffle=True,\n",
    "             random_state=None, tol=0.001, verbose=False, \n",
    "             warm_start=False, momentum=0.9, nesterovs_momentum=True, \n",
    "             early_stopping=False, validation_fraction=0.1,\n",
    "             beta_1=0.9, beta_2=0.999, epsilon=1e-08)\n",
    "\n",
    "\n",
    "#print 'cross validation score of rf_model: '+str(cross_val_score(nn_model, data_X_encoded, data_y,n_jobs=3,verbose=5,cv=cv_para, scoring=my_scorer).mean())\n",
    "   \n"
   ]
  },
  {
   "cell_type": "code",
   "execution_count": 8,
   "metadata": {
    "collapsed": true
   },
   "outputs": [
    {
     "name": "stdout",
     "output_type": "stream",
     "text": [
      "[CV]  ................................................................\n",
      "[CV]  ................................................................\n",
      "[CV]  ................................................................\n",
      "[CV] .......................... , score=-0.445100452412, total= 1.9min\n",
      "[CV]  ................................................................\n",
      "[CV] .......................... , score=-0.470782390186, total= 1.9min\n",
      "[CV]  ................................................................\n",
      "[CV] .......................... , score=-0.452445768503, total= 2.0min\n",
      "[CV]  ................................................................\n",
      "[CV] ............................ , score=-0.4398560679, total= 2.0min\n",
      "[CV]  ................................................................\n",
      "[CV] .......................... , score=-0.421575860156, total= 2.0min\n",
      "[CV]  ................................................................\n",
      "[CV] .......................... , score=-0.442935371971, total= 2.0min\n",
      "[CV]  ................................................................\n",
      "[CV] .......................... , score=-0.452050679409, total= 2.2min\n",
      "[CV]  ................................................................\n",
      "[CV] .......................... , score=-0.436864931687, total= 2.2min\n"
     ]
    },
    {
     "name": "stderr",
     "output_type": "stream",
     "text": [
      "[Parallel(n_jobs=3)]: Done   8 out of  10 | elapsed:  6.2min remaining:  1.5min\n"
     ]
    },
    {
     "name": "stdout",
     "output_type": "stream",
     "text": [
      "[CV] .......................... , score=-0.455498666279, total= 2.2min\n",
      "[CV] .......................... , score=-0.432285492063, total= 1.3min\n",
      "cross validation score of rf_model: -0.4449395680566049\n"
     ]
    },
    {
     "name": "stderr",
     "output_type": "stream",
     "text": [
      "[Parallel(n_jobs=3)]: Done  10 out of  10 | elapsed:  7.5min finished\n"
     ]
    }
   ],
   "source": [
    "from sklearn.svm import SVC\n",
    "svc_model = SVC()\n",
    "print 'cross validation score of rf_model: '+str(cross_val_score(svc_model, data_X_encoded, data_y,n_jobs=3,verbose=5,cv=cv_para, scoring=my_scorer).mean())\n",
    "   \n"
   ]
  },
  {
   "cell_type": "code",
   "execution_count": 7,
   "metadata": {},
   "outputs": [
    {
     "name": "stdout",
     "output_type": "stream",
     "text": [
      "[[ 0.17792227  0.54697493 -0.39687684 ... -1.14964386 -1.1644691\n",
      "  -0.37638128]\n",
      " [ 1.33052822 -0.77654031 -0.39687684 ...  0.75357237  0.85642363\n",
      "  -1.67750066]\n",
      " [-0.3522976   0.6008744  -0.39687684 ... -0.93166051 -1.13190351\n",
      "   0.21403126]\n",
      " ...\n",
      " [ 0.96056049 -1.64351593  3.1885446  ...  1.2120073   1.05967078\n",
      "  -1.57081208]\n",
      " [ 1.07629065 -1.28557789  3.1885446  ...  0.96539354  0.88456719\n",
      "  -1.88587205]\n",
      " [-0.17704909 -0.33560701 -0.39687684 ... -0.24112643 -0.80777282\n",
      "  -0.53490594]]\n"
     ]
    }
   ],
   "source": [
    "from sklearn.preprocessing import StandardScaler, normalize\n",
    "scaler = StandardScaler()\n",
    "scaler.fit(data_X_encoded)\n",
    "data_X_encoded_p = scaler.transform(data_X_encoded)\n",
    "print data_X_encoded_p"
   ]
  },
  {
   "cell_type": "code",
   "execution_count": 10,
   "metadata": {
    "collapsed": true
   },
   "outputs": [
    {
     "name": "stdout",
     "output_type": "stream",
     "text": [
      "Fitting 10 folds for each of 3 candidates, totalling 30 fits\n",
      "[CV] C=0.001 .........................................................\n",
      "[CV] C=0.001 .........................................................\n",
      "[CV] C=0.001 .........................................................\n",
      "[CV] ................... C=0.001, score=-0.548685773639, total= 1.6min\n",
      "[CV] C=0.001 .........................................................\n"
     ]
    },
    {
     "name": "stderr",
     "output_type": "stream",
     "text": [
      "[Parallel(n_jobs=3)]: Done   1 tasks      | elapsed: 13.2min\n"
     ]
    },
    {
     "name": "stdout",
     "output_type": "stream",
     "text": [
      "[CV] ................... C=0.001, score=-0.552738766195, total= 1.7min\n",
      "[CV] C=0.001 .........................................................\n"
     ]
    },
    {
     "name": "stderr",
     "output_type": "stream",
     "text": [
      "[Parallel(n_jobs=3)]: Done   2 tasks      | elapsed: 13.4min\n"
     ]
    },
    {
     "name": "stdout",
     "output_type": "stream",
     "text": [
      "[CV] ................... C=0.001, score=-0.555131516748, total= 1.7min\n",
      "[CV] C=0.001 .........................................................\n"
     ]
    },
    {
     "name": "stderr",
     "output_type": "stream",
     "text": [
      "[Parallel(n_jobs=3)]: Done   3 tasks      | elapsed: 13.4min\n"
     ]
    },
    {
     "name": "stdout",
     "output_type": "stream",
     "text": [
      "[CV] ................... C=0.001, score=-0.548157195611, total= 1.7min\n",
      "[CV] C=0.001 .........................................................\n"
     ]
    },
    {
     "name": "stderr",
     "output_type": "stream",
     "text": [
      "[Parallel(n_jobs=3)]: Done   4 tasks      | elapsed: 26.9min\n"
     ]
    },
    {
     "name": "stdout",
     "output_type": "stream",
     "text": [
      "[CV] ................... C=0.001, score=-0.545654846005, total= 1.7min\n",
      "[CV] C=0.001 .........................................................\n"
     ]
    },
    {
     "name": "stderr",
     "output_type": "stream",
     "text": [
      "[Parallel(n_jobs=3)]: Done   5 tasks      | elapsed: 27.2min\n"
     ]
    },
    {
     "name": "stdout",
     "output_type": "stream",
     "text": [
      "[CV] ................... C=0.001, score=-0.534930729332, total= 1.7min\n",
      "[CV] C=0.001 .........................................................\n"
     ]
    },
    {
     "name": "stderr",
     "output_type": "stream",
     "text": [
      "[Parallel(n_jobs=3)]: Done   6 tasks      | elapsed: 27.2min\n"
     ]
    },
    {
     "name": "stdout",
     "output_type": "stream",
     "text": [
      "[CV] ................... C=0.001, score=-0.533347070178, total= 1.8min\n",
      "[CV] C=0.001 .........................................................\n"
     ]
    },
    {
     "name": "stderr",
     "output_type": "stream",
     "text": [
      "[Parallel(n_jobs=3)]: Done   7 tasks      | elapsed: 40.4min\n"
     ]
    },
    {
     "name": "stdout",
     "output_type": "stream",
     "text": [
      "[CV] ................... C=0.001, score=-0.550977461554, total= 1.7min\n",
      "[CV] C=0.1 ...........................................................\n"
     ]
    },
    {
     "name": "stderr",
     "output_type": "stream",
     "text": [
      "[Parallel(n_jobs=3)]: Done   8 tasks      | elapsed: 40.6min\n"
     ]
    },
    {
     "name": "stdout",
     "output_type": "stream",
     "text": [
      "[CV] .................... C=0.001, score=-0.53593552453, total= 1.8min\n",
      "[CV] C=0.1 ...........................................................\n"
     ]
    },
    {
     "name": "stderr",
     "output_type": "stream",
     "text": [
      "[Parallel(n_jobs=3)]: Done   9 tasks      | elapsed: 40.6min\n"
     ]
    },
    {
     "name": "stdout",
     "output_type": "stream",
     "text": [
      "[CV] ................... C=0.001, score=-0.532168792498, total= 1.6min\n",
      "[CV] C=0.1 ...........................................................\n"
     ]
    },
    {
     "name": "stderr",
     "output_type": "stream",
     "text": [
      "[Parallel(n_jobs=3)]: Done  10 tasks      | elapsed: 53.3min\n"
     ]
    },
    {
     "name": "stdout",
     "output_type": "stream",
     "text": [
      "[CV] ..................... C=0.1, score=-0.512999129091, total= 1.8min\n",
      "[CV] C=0.1 ...........................................................\n"
     ]
    },
    {
     "name": "stderr",
     "output_type": "stream",
     "text": [
      "[Parallel(n_jobs=3)]: Done  11 tasks      | elapsed: 53.6min\n"
     ]
    },
    {
     "name": "stdout",
     "output_type": "stream",
     "text": [
      "[CV] ..................... C=0.1, score=-0.539343393199, total= 1.8min\n",
      "[CV] C=0.1 ...........................................................\n"
     ]
    },
    {
     "name": "stderr",
     "output_type": "stream",
     "text": [
      "[Parallel(n_jobs=3)]: Done  12 tasks      | elapsed: 53.9min\n"
     ]
    },
    {
     "name": "stdout",
     "output_type": "stream",
     "text": [
      "[CV] ..................... C=0.1, score=-0.545937478782, total= 1.6min\n",
      "[CV] C=0.1 ...........................................................\n"
     ]
    },
    {
     "name": "stderr",
     "output_type": "stream",
     "text": [
      "[Parallel(n_jobs=3)]: Done  13 tasks      | elapsed: 66.8min\n"
     ]
    },
    {
     "name": "stdout",
     "output_type": "stream",
     "text": [
      "[CV] ..................... C=0.1, score=-0.528407793823, total= 1.6min\n",
      "[CV] C=0.1 ...........................................................\n"
     ]
    },
    {
     "name": "stderr",
     "output_type": "stream",
     "text": [
      "[Parallel(n_jobs=3)]: Done  14 tasks      | elapsed: 67.0min\n"
     ]
    },
    {
     "name": "stdout",
     "output_type": "stream",
     "text": [
      "[CV] ..................... C=0.1, score=-0.528119564538, total= 1.8min\n",
      "[CV] C=0.1 ...........................................................\n"
     ]
    },
    {
     "name": "stderr",
     "output_type": "stream",
     "text": [
      "[Parallel(n_jobs=3)]: Done  15 tasks      | elapsed: 67.8min\n"
     ]
    },
    {
     "name": "stdout",
     "output_type": "stream",
     "text": [
      "[CV] ..................... C=0.1, score=-0.512727107672, total= 1.6min\n",
      "[CV] C=0.1 ...........................................................\n"
     ]
    },
    {
     "name": "stderr",
     "output_type": "stream",
     "text": [
      "[Parallel(n_jobs=3)]: Done  16 tasks      | elapsed: 80.2min\n"
     ]
    },
    {
     "name": "stdout",
     "output_type": "stream",
     "text": [
      "[CV] ..................... C=0.1, score=-0.518674200596, total= 1.7min\n",
      "[CV] C=0.1 ...........................................................\n"
     ]
    },
    {
     "name": "stderr",
     "output_type": "stream",
     "text": [
      "[Parallel(n_jobs=3)]: Done  17 tasks      | elapsed: 80.7min\n"
     ]
    },
    {
     "name": "stdout",
     "output_type": "stream",
     "text": [
      "[CV] ..................... C=0.1, score=-0.501351772866, total= 1.8min\n",
      "[CV] C=10 ............................................................\n"
     ]
    },
    {
     "name": "stderr",
     "output_type": "stream",
     "text": [
      "[Parallel(n_jobs=3)]: Done  18 tasks      | elapsed: 81.6min\n"
     ]
    },
    {
     "name": "stdout",
     "output_type": "stream",
     "text": [
      "[CV] ..................... C=0.1, score=-0.520999955173, total= 1.7min\n",
      "[CV] C=10 ............................................................\n"
     ]
    },
    {
     "name": "stderr",
     "output_type": "stream",
     "text": [
      "[Parallel(n_jobs=3)]: Done  19 tasks      | elapsed: 93.7min\n"
     ]
    },
    {
     "name": "stdout",
     "output_type": "stream",
     "text": [
      "[CV] ..................... C=0.1, score=-0.500796081487, total= 1.7min\n",
      "[CV] C=10 ............................................................\n"
     ]
    },
    {
     "name": "stderr",
     "output_type": "stream",
     "text": [
      "[Parallel(n_jobs=3)]: Done  20 tasks      | elapsed: 94.3min\n"
     ]
    },
    {
     "name": "stdout",
     "output_type": "stream",
     "text": [
      "[CV] ...................... C=10, score=-0.316858560113, total= 1.8min\n",
      "[CV] C=10 ............................................................\n"
     ]
    },
    {
     "name": "stderr",
     "output_type": "stream",
     "text": [
      "[Parallel(n_jobs=3)]: Done  21 tasks      | elapsed: 96.0min\n"
     ]
    },
    {
     "name": "stdout",
     "output_type": "stream",
     "text": [
      "[CV] ...................... C=10, score=-0.281243343678, total= 1.9min\n",
      "[CV] C=10 ............................................................\n"
     ]
    },
    {
     "name": "stderr",
     "output_type": "stream",
     "text": [
      "[Parallel(n_jobs=3)]: Done  22 tasks      | elapsed: 106.7min\n"
     ]
    },
    {
     "name": "stdout",
     "output_type": "stream",
     "text": [
      "[CV] ...................... C=10, score=-0.297324297149, total= 2.1min\n",
      "[CV] C=10 ............................................................\n"
     ]
    },
    {
     "name": "stderr",
     "output_type": "stream",
     "text": [
      "[Parallel(n_jobs=3)]: Done  23 tasks      | elapsed: 107.6min\n"
     ]
    },
    {
     "name": "stdout",
     "output_type": "stream",
     "text": [
      "[CV] ...................... C=10, score=-0.286778631176, total= 2.1min\n",
      "[CV] C=10 ............................................................\n"
     ]
    },
    {
     "name": "stderr",
     "output_type": "stream",
     "text": [
      "[Parallel(n_jobs=3)]: Done  24 tasks      | elapsed: 108.9min\n"
     ]
    },
    {
     "name": "stdout",
     "output_type": "stream",
     "text": [
      "[CV] ...................... C=10, score=-0.309979289059, total= 1.7min\n",
      "[CV] C=10 ............................................................\n"
     ]
    },
    {
     "name": "stderr",
     "output_type": "stream",
     "text": [
      "[Parallel(n_jobs=3)]: Done  25 tasks      | elapsed: 120.3min\n"
     ]
    },
    {
     "name": "stdout",
     "output_type": "stream",
     "text": [
      "[CV] ...................... C=10, score=-0.283317941585, total= 1.9min\n",
      "[CV] C=10 ............................................................\n",
      "[CV] ...................... C=10, score=-0.282718548203, total= 2.1min\n",
      "[CV] C=10 ............................................................\n"
     ]
    },
    {
     "name": "stderr",
     "output_type": "stream",
     "text": [
      "[Parallel(n_jobs=3)]: Done  27 out of  30 | elapsed: 122.6min remaining: 13.6min\n"
     ]
    },
    {
     "name": "stdout",
     "output_type": "stream",
     "text": [
      "[CV] ...................... C=10, score=-0.300966422183, total= 1.8min\n",
      "[CV] ...................... C=10, score=-0.279754663472, total= 1.8min\n",
      "[CV] ...................... C=10, score=-0.298554558536, total= 2.0min\n"
     ]
    },
    {
     "name": "stderr",
     "output_type": "stream",
     "text": [
      "[Parallel(n_jobs=3)]: Done  30 out of  30 | elapsed: 136.4min finished\n"
     ]
    },
    {
     "name": "stdout",
     "output_type": "stream",
     "text": [
      "('rf best para:', {'C': 10})\n",
      "('rf best score:', -0.29374962551542405)\n",
      "('results', {'rank_test_score': array([3, 2, 1], dtype=int32), 'split6_test_score': array([-0.55097746, -0.5186742 , -0.28271855]), 'split7_train_score': array([-0.54306008, -0.50473224, -0.26990705]), 'split0_train_score': array([-0.54092719, -0.53135959, -0.26207476]), 'split2_test_score': array([-0.55273877, -0.54593748, -0.2973243 ]), 'mean_fit_time': array([23.0485775 , 27.40124047, 32.89755569]), 'split3_train_score': array([-0.54170212, -0.53037595, -0.26812942]), 'param_C': masked_array(data=[0.001, 0.1, 10],\n",
      "             mask=[False, False, False],\n",
      "       fill_value='?',\n",
      "            dtype=object), 'split6_train_score': array([-0.54138875, -0.51006339, -0.2698514 ]), 'split9_test_score': array([-0.53216879, -0.50079608, -0.29855456]), 'std_test_score': array([0.00831368, 0.01412797, 0.01231559]), 'params': [{'C': 0.001}, {'C': 0.1}, {'C': 10}], 'std_fit_time': array([0.66708845, 1.10692699, 2.36115997]), 'std_score_time': array([3.18911441, 4.73898781, 7.66547425]), 'split8_test_score': array([-0.53334707, -0.52099996, -0.27975466]), 'std_train_score': array([0.00092374, 0.01165462, 0.00212143]), 'split4_test_score': array([-0.54565485, -0.52811956, -0.30997929]), 'split1_train_score': array([-0.54164338, -0.51570353, -0.26760427]), 'split2_train_score': array([-0.54119305, -0.53741542, -0.26818623]), 'split4_train_score': array([-0.54198015, -0.51563524, -0.26876268]), 'mean_score_time': array([78.79711342, 74.34305592, 82.37868516]), 'split9_train_score': array([-0.5434786 , -0.49909402, -0.26853745]), 'split5_test_score': array([-0.53493073, -0.51272711, -0.28331794]), 'mean_train_score': array([-0.54218927, -0.51716177, -0.26787046]), 'split8_train_score': array([-0.54334768, -0.51127197, -0.26879009]), 'split7_test_score': array([-0.53593552, -0.50135177, -0.30096642]), 'split0_test_score': array([-0.55513152, -0.53934339, -0.31685856]), 'mean_test_score': array([-0.54377277, -0.52093565, -0.29374963]), 'split3_test_score': array([-0.5481572 , -0.52840779, -0.28677863]), 'split5_train_score': array([-0.54317172, -0.51596639, -0.2668612 ]), 'split1_test_score': array([-0.54868577, -0.51299913, -0.28124334])})\n"
     ]
    }
   ],
   "source": [
    "parameters = {'C':[0.001,0.1,10]}\n",
    "clf = GridSearchCV(svc_model, parameters,scoring=my_scorer,cv=cv_para,verbose=30,n_jobs=3)\n",
    "clf.fit(data_X_encoded_p,data_y)\n",
    "print (\"rf best para:\",clf.best_params_)\n",
    "print (\"rf best score:\",clf.best_score_)\n",
    "print (\"results\",clf.cv_results_)"
   ]
  },
  {
   "cell_type": "code",
   "execution_count": 8,
   "metadata": {},
   "outputs": [
    {
     "name": "stdout",
     "output_type": "stream",
     "text": [
      "Fitting 10 folds for each of 16 candidates, totalling 160 fits\n",
      "[CV] alpha=0.0001, hidden_layer_sizes=(2,) ...........................\n",
      "[CV] alpha=0.0001, hidden_layer_sizes=(2,) ...........................\n",
      "[CV] alpha=0.0001, hidden_layer_sizes=(2,) ...........................\n"
     ]
    },
    {
     "name": "stderr",
     "output_type": "stream",
     "text": [
      "/Users/wqshen/anaconda2/lib/python2.7/site-packages/sklearn/neural_network/multilayer_perceptron.py:564: ConvergenceWarning: Stochastic Optimizer: Maximum iterations (1000) reached and the optimization hasn't converged yet.\n",
      "  % self.max_iter, ConvergenceWarning)\n"
     ]
    },
    {
     "name": "stdout",
     "output_type": "stream",
     "text": [
      "[CV]  alpha=0.0001, hidden_layer_sizes=(2,), score=-0.999799980276, total=  15.3s\n",
      "[CV] alpha=0.0001, hidden_layer_sizes=(2,) ...........................\n"
     ]
    },
    {
     "name": "stderr",
     "output_type": "stream",
     "text": [
      "/Users/wqshen/anaconda2/lib/python2.7/site-packages/sklearn/neural_network/multilayer_perceptron.py:564: ConvergenceWarning: Stochastic Optimizer: Maximum iterations (1000) reached and the optimization hasn't converged yet.\n",
      "  % self.max_iter, ConvergenceWarning)\n"
     ]
    },
    {
     "name": "stdout",
     "output_type": "stream",
     "text": [
      "[CV]  alpha=0.0001, hidden_layer_sizes=(2,), score=-0.999801029937, total=  15.5s\n"
     ]
    },
    {
     "name": "stderr",
     "output_type": "stream",
     "text": [
      "[Parallel(n_jobs=3)]: Done   1 tasks      | elapsed:   15.4s\n"
     ]
    },
    {
     "name": "stdout",
     "output_type": "stream",
     "text": [
      "[CV] alpha=0.0001, hidden_layer_sizes=(2,) ...........................\n"
     ]
    },
    {
     "name": "stderr",
     "output_type": "stream",
     "text": [
      "[Parallel(n_jobs=3)]: Done   2 tasks      | elapsed:   15.6s\n",
      "/Users/wqshen/anaconda2/lib/python2.7/site-packages/sklearn/neural_network/multilayer_perceptron.py:564: ConvergenceWarning: Stochastic Optimizer: Maximum iterations (1000) reached and the optimization hasn't converged yet.\n",
      "  % self.max_iter, ConvergenceWarning)\n"
     ]
    },
    {
     "name": "stdout",
     "output_type": "stream",
     "text": [
      "[CV]  alpha=0.0001, hidden_layer_sizes=(2,), score=-0.999791486125, total=  15.9s\n",
      "[CV] alpha=0.0001, hidden_layer_sizes=(2,) ...........................\n"
     ]
    },
    {
     "name": "stderr",
     "output_type": "stream",
     "text": [
      "[Parallel(n_jobs=3)]: Done   3 tasks      | elapsed:   16.0s\n"
     ]
    },
    {
     "name": "stdout",
     "output_type": "stream",
     "text": [
      "[CV]  alpha=0.0001, hidden_layer_sizes=(2,), score=-0.891013142532, total=  16.6s\n",
      "[CV] alpha=0.0001, hidden_layer_sizes=(2,) ...........................\n",
      "[CV]  alpha=0.0001, hidden_layer_sizes=(2,), score=-0.903491518958, total=  17.0s\n"
     ]
    },
    {
     "name": "stderr",
     "output_type": "stream",
     "text": [
      "[Parallel(n_jobs=3)]: Done   4 tasks      | elapsed:   32.3s\n",
      "[Parallel(n_jobs=3)]: Done   5 tasks      | elapsed:   32.5s\n"
     ]
    },
    {
     "name": "stdout",
     "output_type": "stream",
     "text": [
      "[CV] alpha=0.0001, hidden_layer_sizes=(2,) ...........................\n",
      "[CV]  alpha=0.0001, hidden_layer_sizes=(2,), score=-0.893466855114, total=  16.7s\n",
      "[CV] alpha=0.0001, hidden_layer_sizes=(2,) ...........................\n"
     ]
    },
    {
     "name": "stderr",
     "output_type": "stream",
     "text": [
      "[Parallel(n_jobs=3)]: Done   6 tasks      | elapsed:   32.7s\n"
     ]
    },
    {
     "name": "stdout",
     "output_type": "stream",
     "text": [
      "[CV]  alpha=0.0001, hidden_layer_sizes=(2,), score=-0.905972633108, total=  16.9s\n",
      "[CV] alpha=0.0001, hidden_layer_sizes=(2,) ...........................\n",
      "[CV]  alpha=0.0001, hidden_layer_sizes=(2,), score=-0.899006324652, total=  16.9s\n",
      "[CV] alpha=0.0001, hidden_layer_sizes=(20,) ..........................\n"
     ]
    },
    {
     "name": "stderr",
     "output_type": "stream",
     "text": [
      "[Parallel(n_jobs=3)]: Done   7 tasks      | elapsed:   49.3s\n",
      "[Parallel(n_jobs=3)]: Done   8 tasks      | elapsed:   49.4s\n"
     ]
    },
    {
     "name": "stdout",
     "output_type": "stream",
     "text": [
      "[CV]  alpha=0.0001, hidden_layer_sizes=(2,), score=-0.89965958998, total=  16.9s\n",
      "[CV] alpha=0.0001, hidden_layer_sizes=(20,) ..........................\n"
     ]
    },
    {
     "name": "stderr",
     "output_type": "stream",
     "text": [
      "[Parallel(n_jobs=3)]: Done   9 tasks      | elapsed:   49.7s\n"
     ]
    },
    {
     "name": "stdout",
     "output_type": "stream",
     "text": [
      "[CV]  alpha=0.0001, hidden_layer_sizes=(2,), score=-0.926401273164, total=  19.2s\n",
      "[CV] alpha=0.0001, hidden_layer_sizes=(20,) ..........................\n"
     ]
    },
    {
     "name": "stderr",
     "output_type": "stream",
     "text": [
      "[Parallel(n_jobs=3)]: Done  10 tasks      | elapsed:  1.1min\n"
     ]
    },
    {
     "name": "stdout",
     "output_type": "stream",
     "text": [
      "[CV]  alpha=0.0001, hidden_layer_sizes=(20,), score=-0.601774844415, total=  25.1s\n",
      "[CV] alpha=0.0001, hidden_layer_sizes=(20,) ..........................\n"
     ]
    },
    {
     "name": "stderr",
     "output_type": "stream",
     "text": [
      "[Parallel(n_jobs=3)]: Done  11 tasks      | elapsed:  1.2min\n"
     ]
    },
    {
     "name": "stdout",
     "output_type": "stream",
     "text": [
      "[CV]  alpha=0.0001, hidden_layer_sizes=(20,), score=-0.599226776672, total=  25.2s\n",
      "[CV] alpha=0.0001, hidden_layer_sizes=(20,) ..........................\n"
     ]
    },
    {
     "name": "stderr",
     "output_type": "stream",
     "text": [
      "[Parallel(n_jobs=3)]: Done  12 tasks      | elapsed:  1.2min\n"
     ]
    },
    {
     "name": "stdout",
     "output_type": "stream",
     "text": [
      "[CV]  alpha=0.0001, hidden_layer_sizes=(20,), score=-0.623901816557, total=  28.7s\n",
      "[CV] alpha=0.0001, hidden_layer_sizes=(20,) ..........................\n"
     ]
    },
    {
     "name": "stderr",
     "output_type": "stream",
     "text": [
      "[Parallel(n_jobs=3)]: Done  13 tasks      | elapsed:  1.6min\n"
     ]
    },
    {
     "name": "stdout",
     "output_type": "stream",
     "text": [
      "[CV]  alpha=0.0001, hidden_layer_sizes=(20,), score=-0.589483910916, total=  28.9s\n",
      "[CV] alpha=0.0001, hidden_layer_sizes=(20,) ..........................\n"
     ]
    },
    {
     "name": "stderr",
     "output_type": "stream",
     "text": [
      "[Parallel(n_jobs=3)]: Done  14 tasks      | elapsed:  1.7min\n"
     ]
    },
    {
     "name": "stdout",
     "output_type": "stream",
     "text": [
      "[CV]  alpha=0.0001, hidden_layer_sizes=(20,), score=-0.6168197344, total=  29.7s\n",
      "[CV] alpha=0.0001, hidden_layer_sizes=(20,) ..........................\n"
     ]
    },
    {
     "name": "stderr",
     "output_type": "stream",
     "text": [
      "[Parallel(n_jobs=3)]: Done  15 tasks      | elapsed:  1.7min\n"
     ]
    },
    {
     "name": "stdout",
     "output_type": "stream",
     "text": [
      "[CV]  alpha=0.0001, hidden_layer_sizes=(20,), score=-0.614038689326, total=  28.3s\n",
      "[CV] alpha=0.0001, hidden_layer_sizes=(20,) ..........................\n"
     ]
    },
    {
     "name": "stderr",
     "output_type": "stream",
     "text": [
      "[Parallel(n_jobs=3)]: Done  16 tasks      | elapsed:  2.1min\n"
     ]
    },
    {
     "name": "stdout",
     "output_type": "stream",
     "text": [
      "[CV]  alpha=0.0001, hidden_layer_sizes=(20,), score=-0.631375595912, total=  28.0s\n",
      "[CV] alpha=0.0001, hidden_layer_sizes=(20,) ..........................\n"
     ]
    },
    {
     "name": "stderr",
     "output_type": "stream",
     "text": [
      "[Parallel(n_jobs=3)]: Done  17 tasks      | elapsed:  2.2min\n"
     ]
    },
    {
     "name": "stdout",
     "output_type": "stream",
     "text": [
      "[CV]  alpha=0.0001, hidden_layer_sizes=(20,), score=-0.609503840598, total=  28.0s\n",
      "[CV] alpha=0.0001, hidden_layer_sizes=(50,) ..........................\n"
     ]
    },
    {
     "name": "stderr",
     "output_type": "stream",
     "text": [
      "[Parallel(n_jobs=3)]: Done  18 tasks      | elapsed:  2.2min\n"
     ]
    },
    {
     "name": "stdout",
     "output_type": "stream",
     "text": [
      "[CV]  alpha=0.0001, hidden_layer_sizes=(20,), score=-0.616648900307, total=  27.4s\n",
      "[CV] alpha=0.0001, hidden_layer_sizes=(50,) ..........................\n"
     ]
    },
    {
     "name": "stderr",
     "output_type": "stream",
     "text": [
      "[Parallel(n_jobs=3)]: Done  19 tasks      | elapsed:  2.6min\n"
     ]
    },
    {
     "name": "stdout",
     "output_type": "stream",
     "text": [
      "[CV]  alpha=0.0001, hidden_layer_sizes=(20,), score=-0.5727184953, total=  27.6s\n",
      "[CV] alpha=0.0001, hidden_layer_sizes=(50,) ..........................\n"
     ]
    },
    {
     "name": "stderr",
     "output_type": "stream",
     "text": [
      "[Parallel(n_jobs=3)]: Done  20 tasks      | elapsed:  2.7min\n"
     ]
    },
    {
     "name": "stdout",
     "output_type": "stream",
     "text": [
      "[CV]  alpha=0.0001, hidden_layer_sizes=(50,), score=-0.575240251791, total=  36.3s\n",
      "[CV] alpha=0.0001, hidden_layer_sizes=(50,) ..........................\n"
     ]
    },
    {
     "name": "stderr",
     "output_type": "stream",
     "text": [
      "[Parallel(n_jobs=3)]: Done  21 tasks      | elapsed:  2.8min\n"
     ]
    },
    {
     "name": "stdout",
     "output_type": "stream",
     "text": [
      "[CV]  alpha=0.0001, hidden_layer_sizes=(50,), score=-0.513182534585, total=  35.3s\n",
      "[CV] alpha=0.0001, hidden_layer_sizes=(50,) ..........................\n"
     ]
    },
    {
     "name": "stderr",
     "output_type": "stream",
     "text": [
      "[Parallel(n_jobs=3)]: Done  22 tasks      | elapsed:  3.1min\n"
     ]
    },
    {
     "name": "stdout",
     "output_type": "stream",
     "text": [
      "[CV]  alpha=0.0001, hidden_layer_sizes=(50,), score=-0.5605807875, total=  34.7s\n",
      "[CV] alpha=0.0001, hidden_layer_sizes=(50,) ..........................\n"
     ]
    },
    {
     "name": "stderr",
     "output_type": "stream",
     "text": [
      "[Parallel(n_jobs=3)]: Done  23 tasks      | elapsed:  3.2min\n"
     ]
    },
    {
     "name": "stdout",
     "output_type": "stream",
     "text": [
      "[CV]  alpha=0.0001, hidden_layer_sizes=(50,), score=-0.518734833952, total=  33.5s\n",
      "[CV] alpha=0.0001, hidden_layer_sizes=(50,) ..........................\n"
     ]
    },
    {
     "name": "stderr",
     "output_type": "stream",
     "text": [
      "[Parallel(n_jobs=3)]: Done  24 tasks      | elapsed:  3.4min\n"
     ]
    },
    {
     "name": "stdout",
     "output_type": "stream",
     "text": [
      "[CV]  alpha=0.0001, hidden_layer_sizes=(50,), score=-0.578092117799, total=  34.5s\n",
      "[CV] alpha=0.0001, hidden_layer_sizes=(50,) ..........................\n"
     ]
    },
    {
     "name": "stderr",
     "output_type": "stream",
     "text": [
      "[Parallel(n_jobs=3)]: Done  25 tasks      | elapsed:  3.7min\n"
     ]
    },
    {
     "name": "stdout",
     "output_type": "stream",
     "text": [
      "[CV]  alpha=0.0001, hidden_layer_sizes=(50,), score=-0.55613889634, total=  34.7s\n",
      "[CV] alpha=0.0001, hidden_layer_sizes=(50,) ..........................\n"
     ]
    },
    {
     "name": "stderr",
     "output_type": "stream",
     "text": [
      "[Parallel(n_jobs=3)]: Done  26 tasks      | elapsed:  3.8min\n"
     ]
    },
    {
     "name": "stdout",
     "output_type": "stream",
     "text": [
      "[CV]  alpha=0.0001, hidden_layer_sizes=(50,), score=-0.545126426802, total=  34.8s\n",
      "[CV] alpha=0.0001, hidden_layer_sizes=(50,) ..........................\n"
     ]
    },
    {
     "name": "stderr",
     "output_type": "stream",
     "text": [
      "[Parallel(n_jobs=3)]: Done  27 tasks      | elapsed:  4.0min\n"
     ]
    },
    {
     "name": "stdout",
     "output_type": "stream",
     "text": [
      "[CV]  alpha=0.0001, hidden_layer_sizes=(50,), score=-0.549311677963, total=  33.8s\n",
      "[CV] alpha=0.0001, hidden_layer_sizes=(100,) .........................\n"
     ]
    },
    {
     "name": "stderr",
     "output_type": "stream",
     "text": [
      "[Parallel(n_jobs=3)]: Done  28 tasks      | elapsed:  4.3min\n"
     ]
    },
    {
     "name": "stdout",
     "output_type": "stream",
     "text": [
      "[CV]  alpha=0.0001, hidden_layer_sizes=(50,), score=-0.518000500414, total=  33.8s\n",
      "[CV] alpha=0.0001, hidden_layer_sizes=(100,) .........................\n"
     ]
    },
    {
     "name": "stderr",
     "output_type": "stream",
     "text": [
      "[Parallel(n_jobs=3)]: Done  29 tasks      | elapsed:  4.4min\n"
     ]
    },
    {
     "name": "stdout",
     "output_type": "stream",
     "text": [
      "[CV]  alpha=0.0001, hidden_layer_sizes=(50,), score=-0.528068645079, total=  33.7s\n",
      "[CV] alpha=0.0001, hidden_layer_sizes=(100,) .........................\n"
     ]
    },
    {
     "name": "stderr",
     "output_type": "stream",
     "text": [
      "[Parallel(n_jobs=3)]: Done  30 tasks      | elapsed:  4.5min\n"
     ]
    },
    {
     "name": "stdout",
     "output_type": "stream",
     "text": [
      "[CV]  alpha=0.0001, hidden_layer_sizes=(100,), score=-0.492532454139, total=  45.3s\n",
      "[CV] alpha=0.0001, hidden_layer_sizes=(100,) .........................\n"
     ]
    },
    {
     "name": "stderr",
     "output_type": "stream",
     "text": [
      "[Parallel(n_jobs=3)]: Done  31 tasks      | elapsed:  5.0min\n"
     ]
    },
    {
     "name": "stdout",
     "output_type": "stream",
     "text": [
      "[CV]  alpha=0.0001, hidden_layer_sizes=(100,), score=-0.433171161198, total=  46.1s\n",
      "[CV] alpha=0.0001, hidden_layer_sizes=(100,) .........................\n"
     ]
    },
    {
     "name": "stderr",
     "output_type": "stream",
     "text": [
      "[Parallel(n_jobs=3)]: Done  32 tasks      | elapsed:  5.1min\n"
     ]
    },
    {
     "name": "stdout",
     "output_type": "stream",
     "text": [
      "[CV]  alpha=0.0001, hidden_layer_sizes=(100,), score=-0.473689405756, total=  46.8s\n",
      "[CV] alpha=0.0001, hidden_layer_sizes=(100,) .........................\n"
     ]
    },
    {
     "name": "stderr",
     "output_type": "stream",
     "text": [
      "[Parallel(n_jobs=3)]: Done  33 tasks      | elapsed:  5.3min\n"
     ]
    },
    {
     "name": "stdout",
     "output_type": "stream",
     "text": [
      "[CV]  alpha=0.0001, hidden_layer_sizes=(100,), score=-0.43004316539, total=  46.9s\n",
      "[CV] alpha=0.0001, hidden_layer_sizes=(100,) .........................\n"
     ]
    },
    {
     "name": "stderr",
     "output_type": "stream",
     "text": [
      "[Parallel(n_jobs=3)]: Done  34 tasks      | elapsed:  5.8min\n"
     ]
    },
    {
     "name": "stdout",
     "output_type": "stream",
     "text": [
      "[CV]  alpha=0.0001, hidden_layer_sizes=(100,), score=-0.501880840598, total=  47.5s\n",
      "[CV] alpha=0.0001, hidden_layer_sizes=(100,) .........................\n"
     ]
    },
    {
     "name": "stderr",
     "output_type": "stream",
     "text": [
      "[Parallel(n_jobs=3)]: Done  35 tasks      | elapsed:  5.9min\n"
     ]
    },
    {
     "name": "stdout",
     "output_type": "stream",
     "text": [
      "[CV]  alpha=0.0001, hidden_layer_sizes=(100,), score=-0.469617731762, total=  47.5s\n",
      "[CV] alpha=0.0001, hidden_layer_sizes=(100,) .........................\n"
     ]
    },
    {
     "name": "stderr",
     "output_type": "stream",
     "text": [
      "[Parallel(n_jobs=3)]: Done  36 tasks      | elapsed:  6.1min\n"
     ]
    },
    {
     "name": "stdout",
     "output_type": "stream",
     "text": [
      "[CV]  alpha=0.0001, hidden_layer_sizes=(100,), score=-0.469797953137, total=  47.3s\n",
      "[CV] alpha=0.0001, hidden_layer_sizes=(100,) .........................\n"
     ]
    },
    {
     "name": "stderr",
     "output_type": "stream",
     "text": [
      "[Parallel(n_jobs=3)]: Done  37 tasks      | elapsed:  6.6min\n"
     ]
    },
    {
     "name": "stdout",
     "output_type": "stream",
     "text": [
      "[CV]  alpha=0.0001, hidden_layer_sizes=(100,), score=-0.488409771808, total=  46.5s\n",
      "[CV] alpha=0.01, hidden_layer_sizes=(2,) .............................\n"
     ]
    },
    {
     "name": "stderr",
     "output_type": "stream",
     "text": [
      "[Parallel(n_jobs=3)]: Done  38 tasks      | elapsed:  6.7min\n"
     ]
    },
    {
     "name": "stdout",
     "output_type": "stream",
     "text": [
      "[CV]  alpha=0.0001, hidden_layer_sizes=(100,), score=-0.468048427715, total=  47.1s\n",
      "[CV] alpha=0.01, hidden_layer_sizes=(2,) .............................\n"
     ]
    },
    {
     "name": "stderr",
     "output_type": "stream",
     "text": [
      "[Parallel(n_jobs=3)]: Done  39 tasks      | elapsed:  6.9min\n"
     ]
    },
    {
     "name": "stdout",
     "output_type": "stream",
     "text": [
      "[CV]  alpha=0.01, hidden_layer_sizes=(2,), score=-0.945142944739, total=  19.1s\n",
      "[CV] alpha=0.01, hidden_layer_sizes=(2,) .............................\n"
     ]
    },
    {
     "name": "stderr",
     "output_type": "stream",
     "text": [
      "[Parallel(n_jobs=3)]: Done  40 tasks      | elapsed:  7.0min\n"
     ]
    },
    {
     "name": "stdout",
     "output_type": "stream",
     "text": [
      "[CV]  alpha=0.01, hidden_layer_sizes=(2,), score=-0.949855647282, total=  17.5s\n",
      "[CV] alpha=0.01, hidden_layer_sizes=(2,) .............................\n"
     ]
    },
    {
     "name": "stderr",
     "output_type": "stream",
     "text": [
      "[Parallel(n_jobs=3)]: Done  41 tasks      | elapsed:  7.2min\n"
     ]
    },
    {
     "name": "stdout",
     "output_type": "stream",
     "text": [
      "[CV]  alpha=0.0001, hidden_layer_sizes=(100,), score=-0.475643930293, total=  40.1s\n",
      "[CV] alpha=0.01, hidden_layer_sizes=(2,) .............................\n"
     ]
    },
    {
     "name": "stderr",
     "output_type": "stream",
     "text": [
      "[Parallel(n_jobs=3)]: Done  42 tasks      | elapsed:  7.3min\n"
     ]
    },
    {
     "name": "stdout",
     "output_type": "stream",
     "text": [
      "[CV]  alpha=0.01, hidden_layer_sizes=(2,), score=-0.949734520882, total=  17.1s\n",
      "[CV] alpha=0.01, hidden_layer_sizes=(2,) .............................\n"
     ]
    },
    {
     "name": "stderr",
     "output_type": "stream",
     "text": [
      "[Parallel(n_jobs=3)]: Done  43 tasks      | elapsed:  7.3min\n"
     ]
    },
    {
     "name": "stdout",
     "output_type": "stream",
     "text": [
      "[CV]  alpha=0.01, hidden_layer_sizes=(2,), score=-0.951378639805, total=  16.8s\n",
      "[CV] alpha=0.01, hidden_layer_sizes=(2,) .............................\n"
     ]
    },
    {
     "name": "stderr",
     "output_type": "stream",
     "text": [
      "[Parallel(n_jobs=3)]: Done  44 tasks      | elapsed:  7.5min\n"
     ]
    },
    {
     "name": "stdout",
     "output_type": "stream",
     "text": [
      "[CV]  alpha=0.01, hidden_layer_sizes=(2,), score=-0.891242262594, total=  17.1s\n",
      "[CV] alpha=0.01, hidden_layer_sizes=(2,) .............................\n"
     ]
    },
    {
     "name": "stderr",
     "output_type": "stream",
     "text": [
      "[Parallel(n_jobs=3)]: Done  45 tasks      | elapsed:  7.6min\n"
     ]
    },
    {
     "name": "stdout",
     "output_type": "stream",
     "text": [
      "[CV]  alpha=0.01, hidden_layer_sizes=(2,), score=-0.932452786976, total=  17.0s\n",
      "[CV] alpha=0.01, hidden_layer_sizes=(2,) .............................\n"
     ]
    },
    {
     "name": "stderr",
     "output_type": "stream",
     "text": [
      "[Parallel(n_jobs=3)]: Done  46 tasks      | elapsed:  7.6min\n"
     ]
    },
    {
     "name": "stdout",
     "output_type": "stream",
     "text": [
      "[CV]  alpha=0.01, hidden_layer_sizes=(2,), score=-0.919215275009, total=  17.9s\n",
      "[CV] alpha=0.01, hidden_layer_sizes=(2,) .............................\n"
     ]
    },
    {
     "name": "stderr",
     "output_type": "stream",
     "text": [
      "[Parallel(n_jobs=3)]: Done  47 tasks      | elapsed:  7.8min\n"
     ]
    },
    {
     "name": "stdout",
     "output_type": "stream",
     "text": [
      "[CV]  alpha=0.01, hidden_layer_sizes=(2,), score=-0.873104290714, total=  17.5s\n",
      "[CV] alpha=0.01, hidden_layer_sizes=(20,) ............................\n"
     ]
    },
    {
     "name": "stderr",
     "output_type": "stream",
     "text": [
      "[Parallel(n_jobs=3)]: Done  48 tasks      | elapsed:  7.9min\n"
     ]
    },
    {
     "name": "stdout",
     "output_type": "stream",
     "text": [
      "[CV]  alpha=0.01, hidden_layer_sizes=(2,), score=-0.94952771336, total=  16.8s\n",
      "[CV] alpha=0.01, hidden_layer_sizes=(20,) ............................\n"
     ]
    },
    {
     "name": "stderr",
     "output_type": "stream",
     "text": [
      "[Parallel(n_jobs=3)]: Done  49 tasks      | elapsed:  7.9min\n"
     ]
    },
    {
     "name": "stdout",
     "output_type": "stream",
     "text": [
      "[CV]  alpha=0.01, hidden_layer_sizes=(2,), score=-0.943813652088, total=  18.5s\n",
      "[CV] alpha=0.01, hidden_layer_sizes=(20,) ............................\n"
     ]
    },
    {
     "name": "stderr",
     "output_type": "stream",
     "text": [
      "[Parallel(n_jobs=3)]: Done  50 tasks      | elapsed:  8.1min\n"
     ]
    },
    {
     "name": "stdout",
     "output_type": "stream",
     "text": [
      "[CV]  alpha=0.01, hidden_layer_sizes=(20,), score=-0.681410650315, total=  24.3s\n",
      "[CV] alpha=0.01, hidden_layer_sizes=(20,) ............................\n"
     ]
    },
    {
     "name": "stderr",
     "output_type": "stream",
     "text": [
      "[Parallel(n_jobs=3)]: Done  51 tasks      | elapsed:  8.3min\n"
     ]
    },
    {
     "name": "stdout",
     "output_type": "stream",
     "text": [
      "[CV]  alpha=0.01, hidden_layer_sizes=(20,), score=-0.594242789553, total=  24.4s\n",
      "[CV] alpha=0.01, hidden_layer_sizes=(20,) ............................\n"
     ]
    },
    {
     "name": "stderr",
     "output_type": "stream",
     "text": [
      "[Parallel(n_jobs=3)]: Done  52 tasks      | elapsed:  8.3min\n"
     ]
    },
    {
     "name": "stdout",
     "output_type": "stream",
     "text": [
      "[CV]  alpha=0.01, hidden_layer_sizes=(20,), score=-0.622614914034, total=  24.3s\n",
      "[CV] alpha=0.01, hidden_layer_sizes=(20,) ............................\n"
     ]
    },
    {
     "name": "stderr",
     "output_type": "stream",
     "text": [
      "[Parallel(n_jobs=3)]: Done  53 tasks      | elapsed:  8.5min\n"
     ]
    },
    {
     "name": "stdout",
     "output_type": "stream",
     "text": [
      "[CV]  alpha=0.01, hidden_layer_sizes=(20,), score=-0.591729020083, total=  24.3s\n",
      "[CV] alpha=0.01, hidden_layer_sizes=(20,) ............................\n"
     ]
    },
    {
     "name": "stderr",
     "output_type": "stream",
     "text": [
      "[Parallel(n_jobs=3)]: Done  54 tasks      | elapsed:  8.7min\n"
     ]
    },
    {
     "name": "stdout",
     "output_type": "stream",
     "text": [
      "[CV]  alpha=0.01, hidden_layer_sizes=(20,), score=-0.619735555007, total=  23.5s\n",
      "[CV] alpha=0.01, hidden_layer_sizes=(20,) ............................\n"
     ]
    },
    {
     "name": "stderr",
     "output_type": "stream",
     "text": [
      "[Parallel(n_jobs=3)]: Done  55 tasks      | elapsed:  8.7min\n"
     ]
    },
    {
     "name": "stdout",
     "output_type": "stream",
     "text": [
      "[CV]  alpha=0.01, hidden_layer_sizes=(20,), score=-0.573206311885, total=  23.9s\n",
      "[CV] alpha=0.01, hidden_layer_sizes=(20,) ............................\n"
     ]
    },
    {
     "name": "stderr",
     "output_type": "stream",
     "text": [
      "[Parallel(n_jobs=3)]: Done  56 tasks      | elapsed:  8.9min\n"
     ]
    },
    {
     "name": "stdout",
     "output_type": "stream",
     "text": [
      "[CV]  alpha=0.01, hidden_layer_sizes=(20,), score=-0.63856177051, total=  24.3s\n",
      "[CV] alpha=0.01, hidden_layer_sizes=(20,) ............................\n"
     ]
    },
    {
     "name": "stderr",
     "output_type": "stream",
     "text": [
      "[Parallel(n_jobs=3)]: Done  57 tasks      | elapsed:  9.1min\n"
     ]
    },
    {
     "name": "stdout",
     "output_type": "stream",
     "text": [
      "[CV]  alpha=0.01, hidden_layer_sizes=(20,), score=-0.600513586092, total=  24.4s\n",
      "[CV] alpha=0.01, hidden_layer_sizes=(50,) ............................\n"
     ]
    },
    {
     "name": "stderr",
     "output_type": "stream",
     "text": [
      "[Parallel(n_jobs=3)]: Done  58 tasks      | elapsed:  9.1min\n"
     ]
    },
    {
     "name": "stdout",
     "output_type": "stream",
     "text": [
      "[CV]  alpha=0.01, hidden_layer_sizes=(20,), score=-0.616580542071, total=  26.8s\n",
      "[CV] alpha=0.01, hidden_layer_sizes=(50,) ............................\n"
     ]
    },
    {
     "name": "stderr",
     "output_type": "stream",
     "text": [
      "[Parallel(n_jobs=3)]: Done  59 tasks      | elapsed:  9.3min\n"
     ]
    },
    {
     "name": "stdout",
     "output_type": "stream",
     "text": [
      "[CV]  alpha=0.01, hidden_layer_sizes=(20,), score=-0.591789066736, total=  38.5s\n",
      "[CV] alpha=0.01, hidden_layer_sizes=(50,) ............................\n"
     ]
    },
    {
     "name": "stderr",
     "output_type": "stream",
     "text": [
      "[Parallel(n_jobs=3)]: Done  60 tasks      | elapsed:  9.7min\n"
     ]
    },
    {
     "name": "stdout",
     "output_type": "stream",
     "text": [
      "[CV]  alpha=0.01, hidden_layer_sizes=(50,), score=-0.57405977202, total=  47.6s\n",
      "[CV] alpha=0.01, hidden_layer_sizes=(50,) ............................\n"
     ]
    },
    {
     "name": "stderr",
     "output_type": "stream",
     "text": [
      "[Parallel(n_jobs=3)]: Done  61 tasks      | elapsed:  9.9min\n"
     ]
    },
    {
     "name": "stdout",
     "output_type": "stream",
     "text": [
      "[CV]  alpha=0.01, hidden_layer_sizes=(50,), score=-0.544365414082, total=  46.1s\n",
      "[CV] alpha=0.01, hidden_layer_sizes=(50,) ............................\n"
     ]
    },
    {
     "name": "stderr",
     "output_type": "stream",
     "text": [
      "[Parallel(n_jobs=3)]: Done  62 tasks      | elapsed: 10.1min\n"
     ]
    },
    {
     "name": "stdout",
     "output_type": "stream",
     "text": [
      "[CV]  alpha=0.01, hidden_layer_sizes=(50,), score=-0.555029911006, total=  35.8s\n",
      "[CV] alpha=0.01, hidden_layer_sizes=(50,) ............................\n"
     ]
    },
    {
     "name": "stderr",
     "output_type": "stream",
     "text": [
      "[Parallel(n_jobs=3)]: Done  63 tasks      | elapsed: 10.3min\n"
     ]
    },
    {
     "name": "stdout",
     "output_type": "stream",
     "text": [
      "[CV]  alpha=0.01, hidden_layer_sizes=(50,), score=-0.507913841569, total=  33.6s\n",
      "[CV] alpha=0.01, hidden_layer_sizes=(50,) ............................\n"
     ]
    },
    {
     "name": "stderr",
     "output_type": "stream",
     "text": [
      "[Parallel(n_jobs=3)]: Done  64 tasks      | elapsed: 10.4min\n"
     ]
    },
    {
     "name": "stdout",
     "output_type": "stream",
     "text": [
      "[CV]  alpha=0.01, hidden_layer_sizes=(50,), score=-0.575076914637, total=  34.3s\n",
      "[CV] alpha=0.01, hidden_layer_sizes=(50,) ............................\n"
     ]
    },
    {
     "name": "stderr",
     "output_type": "stream",
     "text": [
      "[Parallel(n_jobs=3)]: Done  65 tasks      | elapsed: 10.7min\n"
     ]
    },
    {
     "name": "stdout",
     "output_type": "stream",
     "text": [
      "[CV]  alpha=0.01, hidden_layer_sizes=(50,), score=-0.553262087366, total=  33.8s\n",
      "[CV] alpha=0.01, hidden_layer_sizes=(50,) ............................\n"
     ]
    },
    {
     "name": "stderr",
     "output_type": "stream",
     "text": [
      "[Parallel(n_jobs=3)]: Done  66 tasks      | elapsed: 10.9min\n"
     ]
    },
    {
     "name": "stdout",
     "output_type": "stream",
     "text": [
      "[CV]  alpha=0.01, hidden_layer_sizes=(50,), score=-0.545138087958, total=  33.9s\n",
      "[CV] alpha=0.01, hidden_layer_sizes=(50,) ............................\n"
     ]
    },
    {
     "name": "stderr",
     "output_type": "stream",
     "text": [
      "[Parallel(n_jobs=3)]: Done  67 tasks      | elapsed: 11.0min\n"
     ]
    },
    {
     "name": "stdout",
     "output_type": "stream",
     "text": [
      "[CV]  alpha=0.01, hidden_layer_sizes=(50,), score=-0.561059447152, total=  34.0s\n",
      "[CV] alpha=0.01, hidden_layer_sizes=(100,) ...........................\n"
     ]
    },
    {
     "name": "stderr",
     "output_type": "stream",
     "text": [
      "[Parallel(n_jobs=3)]: Done  68 tasks      | elapsed: 11.2min\n"
     ]
    },
    {
     "name": "stdout",
     "output_type": "stream",
     "text": [
      "[CV]  alpha=0.01, hidden_layer_sizes=(50,), score=-0.538723890967, total=  34.6s\n",
      "[CV] alpha=0.01, hidden_layer_sizes=(100,) ...........................\n"
     ]
    },
    {
     "name": "stderr",
     "output_type": "stream",
     "text": [
      "[Parallel(n_jobs=3)]: Done  69 tasks      | elapsed: 11.5min\n"
     ]
    },
    {
     "name": "stdout",
     "output_type": "stream",
     "text": [
      "[CV]  alpha=0.01, hidden_layer_sizes=(50,), score=-0.539089741905, total=  38.0s\n",
      "[CV] alpha=0.01, hidden_layer_sizes=(100,) ...........................\n"
     ]
    },
    {
     "name": "stderr",
     "output_type": "stream",
     "text": [
      "[Parallel(n_jobs=3)]: Done  70 tasks      | elapsed: 11.6min\n"
     ]
    },
    {
     "name": "stdout",
     "output_type": "stream",
     "text": [
      "[CV]  alpha=0.01, hidden_layer_sizes=(100,), score=-0.488451066504, total= 1.1min\n",
      "[CV] alpha=0.01, hidden_layer_sizes=(100,) ...........................\n"
     ]
    },
    {
     "name": "stderr",
     "output_type": "stream",
     "text": [
      "[Parallel(n_jobs=3)]: Done  71 tasks      | elapsed: 12.3min\n"
     ]
    },
    {
     "name": "stdout",
     "output_type": "stream",
     "text": [
      "[CV]  alpha=0.01, hidden_layer_sizes=(100,), score=-0.428942220524, total= 1.1min\n",
      "[CV] alpha=0.01, hidden_layer_sizes=(100,) ...........................\n"
     ]
    },
    {
     "name": "stderr",
     "output_type": "stream",
     "text": [
      "[Parallel(n_jobs=3)]: Done  72 tasks      | elapsed: 12.6min\n"
     ]
    },
    {
     "name": "stdout",
     "output_type": "stream",
     "text": [
      "[CV]  alpha=0.01, hidden_layer_sizes=(100,), score=-0.47157037065, total= 1.1min\n",
      "[CV] alpha=0.01, hidden_layer_sizes=(100,) ...........................\n"
     ]
    },
    {
     "name": "stderr",
     "output_type": "stream",
     "text": [
      "[Parallel(n_jobs=3)]: Done  73 tasks      | elapsed: 12.7min\n"
     ]
    },
    {
     "name": "stdout",
     "output_type": "stream",
     "text": [
      "[CV]  alpha=0.01, hidden_layer_sizes=(100,), score=-0.436831376934, total=  55.2s\n",
      "[CV] alpha=0.01, hidden_layer_sizes=(100,) ...........................\n"
     ]
    },
    {
     "name": "stderr",
     "output_type": "stream",
     "text": [
      "[Parallel(n_jobs=3)]: Done  74 tasks      | elapsed: 13.2min\n"
     ]
    },
    {
     "name": "stdout",
     "output_type": "stream",
     "text": [
      "[CV]  alpha=0.01, hidden_layer_sizes=(100,), score=-0.504951304202, total=  57.7s\n",
      "[CV] alpha=0.01, hidden_layer_sizes=(100,) ...........................\n"
     ]
    },
    {
     "name": "stderr",
     "output_type": "stream",
     "text": [
      "[Parallel(n_jobs=3)]: Done  75 tasks      | elapsed: 13.5min\n"
     ]
    },
    {
     "name": "stdout",
     "output_type": "stream",
     "text": [
      "[CV]  alpha=0.01, hidden_layer_sizes=(100,), score=-0.468961188959, total=  57.8s\n",
      "[CV] alpha=0.01, hidden_layer_sizes=(100,) ...........................\n"
     ]
    },
    {
     "name": "stderr",
     "output_type": "stream",
     "text": [
      "[Parallel(n_jobs=3)]: Done  76 tasks      | elapsed: 13.7min\n"
     ]
    },
    {
     "name": "stdout",
     "output_type": "stream",
     "text": [
      "[CV]  alpha=0.01, hidden_layer_sizes=(100,), score=-0.45809533953, total=  54.9s\n",
      "[CV] alpha=0.01, hidden_layer_sizes=(100,) ...........................\n"
     ]
    },
    {
     "name": "stderr",
     "output_type": "stream",
     "text": [
      "[Parallel(n_jobs=3)]: Done  77 tasks      | elapsed: 14.2min\n"
     ]
    },
    {
     "name": "stdout",
     "output_type": "stream",
     "text": [
      "[CV]  alpha=0.01, hidden_layer_sizes=(100,), score=-0.472539606626, total=  54.3s\n",
      "[CV] alpha=1.0, hidden_layer_sizes=(2,) ..............................\n"
     ]
    },
    {
     "name": "stderr",
     "output_type": "stream",
     "text": [
      "[Parallel(n_jobs=3)]: Done  78 tasks      | elapsed: 14.4min\n"
     ]
    },
    {
     "name": "stdout",
     "output_type": "stream",
     "text": [
      "[CV]  alpha=0.01, hidden_layer_sizes=(100,), score=-0.466958233226, total=  53.2s\n",
      "[CV] alpha=1.0, hidden_layer_sizes=(2,) ..............................\n"
     ]
    },
    {
     "name": "stderr",
     "output_type": "stream",
     "text": [
      "[Parallel(n_jobs=3)]: Done  79 tasks      | elapsed: 14.6min\n"
     ]
    },
    {
     "name": "stdout",
     "output_type": "stream",
     "text": [
      "[CV]  alpha=1.0, hidden_layer_sizes=(2,), score=-0.930860005062, total=  22.5s\n",
      "[CV] alpha=1.0, hidden_layer_sizes=(2,) ..............................\n"
     ]
    },
    {
     "name": "stderr",
     "output_type": "stream",
     "text": [
      "[Parallel(n_jobs=3)]: Done  80 tasks      | elapsed: 14.8min\n"
     ]
    },
    {
     "name": "stdout",
     "output_type": "stream",
     "text": [
      "[CV]  alpha=0.01, hidden_layer_sizes=(100,), score=-0.476775452422, total=  46.1s\n",
      "[CV] alpha=1.0, hidden_layer_sizes=(2,) ..............................\n"
     ]
    },
    {
     "name": "stderr",
     "output_type": "stream",
     "text": [
      "[Parallel(n_jobs=3)]: Done  81 tasks      | elapsed: 14.9min\n"
     ]
    },
    {
     "name": "stdout",
     "output_type": "stream",
     "text": [
      "[CV]  alpha=1.0, hidden_layer_sizes=(2,), score=-0.949726764274, total=  21.4s\n",
      "[CV] alpha=1.0, hidden_layer_sizes=(2,) ..............................\n"
     ]
    },
    {
     "name": "stderr",
     "output_type": "stream",
     "text": [
      "[Parallel(n_jobs=3)]: Done  82 tasks      | elapsed: 14.9min\n"
     ]
    },
    {
     "name": "stdout",
     "output_type": "stream",
     "text": [
      "[CV]  alpha=1.0, hidden_layer_sizes=(2,), score=-0.99979569449, total=  18.4s\n",
      "[CV] alpha=1.0, hidden_layer_sizes=(2,) ..............................\n"
     ]
    },
    {
     "name": "stderr",
     "output_type": "stream",
     "text": [
      "[Parallel(n_jobs=3)]: Done  83 tasks      | elapsed: 15.1min\n"
     ]
    },
    {
     "name": "stdout",
     "output_type": "stream",
     "text": [
      "[CV]  alpha=1.0, hidden_layer_sizes=(2,), score=-0.929335259707, total=  17.8s\n",
      "[CV] alpha=1.0, hidden_layer_sizes=(2,) ..............................\n"
     ]
    },
    {
     "name": "stderr",
     "output_type": "stream",
     "text": [
      "[Parallel(n_jobs=3)]: Done  84 tasks      | elapsed: 15.2min\n"
     ]
    },
    {
     "name": "stdout",
     "output_type": "stream",
     "text": [
      "[CV]  alpha=1.0, hidden_layer_sizes=(2,), score=-0.927613285024, total=  17.5s\n",
      "[CV] alpha=1.0, hidden_layer_sizes=(2,) ..............................\n"
     ]
    },
    {
     "name": "stderr",
     "output_type": "stream",
     "text": [
      "[Parallel(n_jobs=3)]: Done  85 tasks      | elapsed: 15.2min\n"
     ]
    },
    {
     "name": "stdout",
     "output_type": "stream",
     "text": [
      "[CV]  alpha=1.0, hidden_layer_sizes=(2,), score=-0.999799953839, total=  17.9s\n",
      "[CV] alpha=1.0, hidden_layer_sizes=(2,) ..............................\n"
     ]
    },
    {
     "name": "stderr",
     "output_type": "stream",
     "text": [
      "[Parallel(n_jobs=3)]: Done  86 tasks      | elapsed: 15.4min\n"
     ]
    },
    {
     "name": "stdout",
     "output_type": "stream",
     "text": [
      "[CV]  alpha=1.0, hidden_layer_sizes=(2,), score=-0.999800334125, total=  18.5s\n",
      "[CV] alpha=1.0, hidden_layer_sizes=(2,) ..............................\n"
     ]
    },
    {
     "name": "stderr",
     "output_type": "stream",
     "text": [
      "[Parallel(n_jobs=3)]: Done  87 tasks      | elapsed: 15.5min\n"
     ]
    },
    {
     "name": "stdout",
     "output_type": "stream",
     "text": [
      "[CV]  alpha=1.0, hidden_layer_sizes=(2,), score=-0.899586463314, total=  18.8s\n",
      "[CV] alpha=1.0, hidden_layer_sizes=(20,) .............................\n"
     ]
    },
    {
     "name": "stderr",
     "output_type": "stream",
     "text": [
      "[Parallel(n_jobs=3)]: Done  88 tasks      | elapsed: 15.5min\n"
     ]
    },
    {
     "name": "stdout",
     "output_type": "stream",
     "text": [
      "[CV]  alpha=1.0, hidden_layer_sizes=(2,), score=-0.949290227492, total=  19.9s\n",
      "[CV] alpha=1.0, hidden_layer_sizes=(20,) .............................\n"
     ]
    },
    {
     "name": "stderr",
     "output_type": "stream",
     "text": [
      "[Parallel(n_jobs=3)]: Done  89 tasks      | elapsed: 15.7min\n"
     ]
    },
    {
     "name": "stdout",
     "output_type": "stream",
     "text": [
      "[CV]  alpha=1.0, hidden_layer_sizes=(2,), score=-0.943514083838, total=  20.5s\n",
      "[CV] alpha=1.0, hidden_layer_sizes=(20,) .............................\n"
     ]
    },
    {
     "name": "stderr",
     "output_type": "stream",
     "text": [
      "[Parallel(n_jobs=3)]: Done  90 tasks      | elapsed: 15.9min\n"
     ]
    },
    {
     "name": "stdout",
     "output_type": "stream",
     "text": [
      "[CV]  alpha=1.0, hidden_layer_sizes=(20,), score=-0.594107292371, total=  24.7s\n",
      "[CV] alpha=1.0, hidden_layer_sizes=(20,) .............................\n"
     ]
    },
    {
     "name": "stderr",
     "output_type": "stream",
     "text": [
      "[Parallel(n_jobs=3)]: Done  91 tasks      | elapsed: 16.0min\n"
     ]
    },
    {
     "name": "stdout",
     "output_type": "stream",
     "text": [
      "[CV]  alpha=1.0, hidden_layer_sizes=(20,), score=-0.56250749742, total=  27.4s\n",
      "[CV] alpha=1.0, hidden_layer_sizes=(20,) .............................\n"
     ]
    },
    {
     "name": "stderr",
     "output_type": "stream",
     "text": [
      "[Parallel(n_jobs=3)]: Done  92 tasks      | elapsed: 16.2min\n"
     ]
    },
    {
     "name": "stdout",
     "output_type": "stream",
     "text": [
      "[CV]  alpha=1.0, hidden_layer_sizes=(20,), score=-0.586422298793, total=  27.4s\n",
      "[CV] alpha=1.0, hidden_layer_sizes=(20,) .............................\n"
     ]
    },
    {
     "name": "stderr",
     "output_type": "stream",
     "text": [
      "[Parallel(n_jobs=3)]: Done  93 tasks      | elapsed: 16.3min\n"
     ]
    },
    {
     "name": "stdout",
     "output_type": "stream",
     "text": [
      "[CV]  alpha=1.0, hidden_layer_sizes=(20,), score=-0.545963471676, total=  27.0s\n",
      "[CV] alpha=1.0, hidden_layer_sizes=(20,) .............................\n"
     ]
    },
    {
     "name": "stderr",
     "output_type": "stream",
     "text": [
      "[Parallel(n_jobs=3)]: Done  94 tasks      | elapsed: 16.4min\n"
     ]
    },
    {
     "name": "stdout",
     "output_type": "stream",
     "text": [
      "[CV]  alpha=1.0, hidden_layer_sizes=(20,), score=-0.596153054228, total=  26.3s\n",
      "[CV] alpha=1.0, hidden_layer_sizes=(20,) .............................\n"
     ]
    },
    {
     "name": "stderr",
     "output_type": "stream",
     "text": [
      "[Parallel(n_jobs=3)]: Done  95 tasks      | elapsed: 16.6min\n"
     ]
    },
    {
     "name": "stdout",
     "output_type": "stream",
     "text": [
      "[CV]  alpha=1.0, hidden_layer_sizes=(20,), score=-0.585808341302, total=  26.4s\n",
      "[CV] alpha=1.0, hidden_layer_sizes=(20,) .............................\n"
     ]
    },
    {
     "name": "stderr",
     "output_type": "stream",
     "text": [
      "[Parallel(n_jobs=3)]: Done  96 tasks      | elapsed: 16.8min\n"
     ]
    },
    {
     "name": "stdout",
     "output_type": "stream",
     "text": [
      "[CV]  alpha=1.0, hidden_layer_sizes=(20,), score=-0.62530797643, total=  26.0s\n",
      "[CV] alpha=1.0, hidden_layer_sizes=(20,) .............................\n"
     ]
    },
    {
     "name": "stderr",
     "output_type": "stream",
     "text": [
      "[Parallel(n_jobs=3)]: Done  97 tasks      | elapsed: 16.8min\n"
     ]
    },
    {
     "name": "stdout",
     "output_type": "stream",
     "text": [
      "[CV]  alpha=1.0, hidden_layer_sizes=(20,), score=-0.594484765184, total=  26.1s\n",
      "[CV] alpha=1.0, hidden_layer_sizes=(50,) .............................\n"
     ]
    },
    {
     "name": "stderr",
     "output_type": "stream",
     "text": [
      "[Parallel(n_jobs=3)]: Done  98 tasks      | elapsed: 17.1min\n"
     ]
    },
    {
     "name": "stdout",
     "output_type": "stream",
     "text": [
      "[CV]  alpha=1.0, hidden_layer_sizes=(20,), score=-0.594572511759, total=  25.8s\n",
      "[CV] alpha=1.0, hidden_layer_sizes=(50,) .............................\n"
     ]
    },
    {
     "name": "stderr",
     "output_type": "stream",
     "text": [
      "[Parallel(n_jobs=3)]: Done  99 tasks      | elapsed: 17.2min\n"
     ]
    },
    {
     "name": "stdout",
     "output_type": "stream",
     "text": [
      "[CV]  alpha=1.0, hidden_layer_sizes=(20,), score=-0.58847758962, total=  26.0s\n",
      "[CV] alpha=1.0, hidden_layer_sizes=(50,) .............................\n"
     ]
    },
    {
     "name": "stderr",
     "output_type": "stream",
     "text": [
      "[Parallel(n_jobs=3)]: Done 100 tasks      | elapsed: 17.3min\n"
     ]
    },
    {
     "name": "stdout",
     "output_type": "stream",
     "text": [
      "[CV]  alpha=1.0, hidden_layer_sizes=(50,), score=-0.611797185168, total=  36.1s\n",
      "[CV] alpha=1.0, hidden_layer_sizes=(50,) .............................\n"
     ]
    },
    {
     "name": "stderr",
     "output_type": "stream",
     "text": [
      "[Parallel(n_jobs=3)]: Done 101 tasks      | elapsed: 17.7min\n"
     ]
    },
    {
     "name": "stdout",
     "output_type": "stream",
     "text": [
      "[CV]  alpha=1.0, hidden_layer_sizes=(50,), score=-0.567888828059, total=  36.6s\n",
      "[CV] alpha=1.0, hidden_layer_sizes=(50,) .............................\n"
     ]
    },
    {
     "name": "stderr",
     "output_type": "stream",
     "text": [
      "[Parallel(n_jobs=3)]: Done 102 tasks      | elapsed: 17.8min\n"
     ]
    },
    {
     "name": "stdout",
     "output_type": "stream",
     "text": [
      "[CV]  alpha=1.0, hidden_layer_sizes=(50,), score=-0.557356208441, total=  37.1s\n",
      "[CV] alpha=1.0, hidden_layer_sizes=(50,) .............................\n"
     ]
    },
    {
     "name": "stderr",
     "output_type": "stream",
     "text": [
      "[Parallel(n_jobs=3)]: Done 103 tasks      | elapsed: 17.9min\n"
     ]
    },
    {
     "name": "stdout",
     "output_type": "stream",
     "text": [
      "[CV]  alpha=1.0, hidden_layer_sizes=(50,), score=-0.513319673247, total=  35.6s\n",
      "[CV] alpha=1.0, hidden_layer_sizes=(50,) .............................\n"
     ]
    },
    {
     "name": "stderr",
     "output_type": "stream",
     "text": [
      "[Parallel(n_jobs=3)]: Done 104 tasks      | elapsed: 18.3min\n"
     ]
    },
    {
     "name": "stdout",
     "output_type": "stream",
     "text": [
      "[CV]  alpha=1.0, hidden_layer_sizes=(50,), score=-0.58185479929, total=  35.8s\n",
      "[CV] alpha=1.0, hidden_layer_sizes=(50,) .............................\n"
     ]
    },
    {
     "name": "stderr",
     "output_type": "stream",
     "text": [
      "[Parallel(n_jobs=3)]: Done 105 tasks      | elapsed: 18.4min\n"
     ]
    },
    {
     "name": "stdout",
     "output_type": "stream",
     "text": [
      "[CV]  alpha=1.0, hidden_layer_sizes=(50,), score=-0.560775342021, total=  35.7s\n",
      "[CV] alpha=1.0, hidden_layer_sizes=(50,) .............................\n"
     ]
    },
    {
     "name": "stderr",
     "output_type": "stream",
     "text": [
      "[Parallel(n_jobs=3)]: Done 106 tasks      | elapsed: 18.5min\n"
     ]
    },
    {
     "name": "stdout",
     "output_type": "stream",
     "text": [
      "[CV]  alpha=1.0, hidden_layer_sizes=(50,), score=-0.54755875116, total=  36.5s\n",
      "[CV] alpha=1.0, hidden_layer_sizes=(50,) .............................\n"
     ]
    },
    {
     "name": "stderr",
     "output_type": "stream",
     "text": [
      "[Parallel(n_jobs=3)]: Done 107 tasks      | elapsed: 18.9min\n"
     ]
    },
    {
     "name": "stdout",
     "output_type": "stream",
     "text": [
      "[CV]  alpha=1.0, hidden_layer_sizes=(50,), score=-0.558221244865, total=  36.1s\n",
      "[CV] alpha=1.0, hidden_layer_sizes=(100,) ............................\n"
     ]
    },
    {
     "name": "stderr",
     "output_type": "stream",
     "text": [
      "[Parallel(n_jobs=3)]: Done 108 tasks      | elapsed: 19.0min\n"
     ]
    },
    {
     "name": "stdout",
     "output_type": "stream",
     "text": [
      "[CV]  alpha=1.0, hidden_layer_sizes=(50,), score=-0.539297396978, total=  35.5s\n",
      "[CV] alpha=1.0, hidden_layer_sizes=(100,) ............................\n"
     ]
    },
    {
     "name": "stderr",
     "output_type": "stream",
     "text": [
      "[Parallel(n_jobs=3)]: Done 109 tasks      | elapsed: 19.1min\n"
     ]
    },
    {
     "name": "stdout",
     "output_type": "stream",
     "text": [
      "[CV]  alpha=1.0, hidden_layer_sizes=(50,), score=-0.539217630139, total=  40.3s\n",
      "[CV] alpha=1.0, hidden_layer_sizes=(100,) ............................\n"
     ]
    },
    {
     "name": "stderr",
     "output_type": "stream",
     "text": [
      "[Parallel(n_jobs=3)]: Done 110 tasks      | elapsed: 19.6min\n"
     ]
    },
    {
     "name": "stdout",
     "output_type": "stream",
     "text": [
      "[CV]  alpha=1.0, hidden_layer_sizes=(100,), score=-0.4935173644, total=  54.1s\n",
      "[CV] alpha=1.0, hidden_layer_sizes=(100,) ............................\n"
     ]
    },
    {
     "name": "stderr",
     "output_type": "stream",
     "text": [
      "[Parallel(n_jobs=3)]: Done 111 tasks      | elapsed: 19.9min\n"
     ]
    },
    {
     "name": "stdout",
     "output_type": "stream",
     "text": [
      "[CV]  alpha=1.0, hidden_layer_sizes=(100,), score=-0.438936204037, total=  53.7s\n",
      "[CV] alpha=1.0, hidden_layer_sizes=(100,) ............................\n"
     ]
    },
    {
     "name": "stderr",
     "output_type": "stream",
     "text": [
      "[Parallel(n_jobs=3)]: Done 112 tasks      | elapsed: 20.0min\n"
     ]
    },
    {
     "name": "stdout",
     "output_type": "stream",
     "text": [
      "[CV]  alpha=1.0, hidden_layer_sizes=(100,), score=-0.477184097184, total=  53.2s\n",
      "[CV] alpha=1.0, hidden_layer_sizes=(100,) ............................\n"
     ]
    },
    {
     "name": "stderr",
     "output_type": "stream",
     "text": [
      "[Parallel(n_jobs=3)]: Done 113 tasks      | elapsed: 20.4min\n"
     ]
    },
    {
     "name": "stdout",
     "output_type": "stream",
     "text": [
      "[CV]  alpha=1.0, hidden_layer_sizes=(100,), score=-0.433540360565, total=  53.9s\n",
      "[CV] alpha=1.0, hidden_layer_sizes=(100,) ............................\n"
     ]
    },
    {
     "name": "stderr",
     "output_type": "stream",
     "text": [
      "[Parallel(n_jobs=3)]: Done 114 tasks      | elapsed: 20.8min\n"
     ]
    },
    {
     "name": "stdout",
     "output_type": "stream",
     "text": [
      "[CV]  alpha=1.0, hidden_layer_sizes=(100,), score=-0.506410611464, total=  52.1s\n",
      "[CV] alpha=1.0, hidden_layer_sizes=(100,) ............................\n"
     ]
    },
    {
     "name": "stderr",
     "output_type": "stream",
     "text": [
      "[Parallel(n_jobs=3)]: Done 115 tasks      | elapsed: 20.8min\n"
     ]
    },
    {
     "name": "stdout",
     "output_type": "stream",
     "text": [
      "[CV]  alpha=1.0, hidden_layer_sizes=(100,), score=-0.471065303366, total=  59.0s\n",
      "[CV] alpha=1.0, hidden_layer_sizes=(100,) ............................\n"
     ]
    },
    {
     "name": "stderr",
     "output_type": "stream",
     "text": [
      "[Parallel(n_jobs=3)]: Done 116 tasks      | elapsed: 21.4min\n"
     ]
    },
    {
     "name": "stdout",
     "output_type": "stream",
     "text": [
      "[CV]  alpha=1.0, hidden_layer_sizes=(100,), score=-0.464105721289, total= 1.2min\n",
      "[CV] alpha=1.0, hidden_layer_sizes=(100,) ............................\n"
     ]
    },
    {
     "name": "stderr",
     "output_type": "stream",
     "text": [
      "[Parallel(n_jobs=3)]: Done 117 tasks      | elapsed: 22.0min\n"
     ]
    },
    {
     "name": "stdout",
     "output_type": "stream",
     "text": [
      "[CV]  alpha=1.0, hidden_layer_sizes=(100,), score=-0.491868771771, total= 1.2min\n",
      "[CV] alpha=100, hidden_layer_sizes=(2,) ..............................\n"
     ]
    },
    {
     "name": "stderr",
     "output_type": "stream",
     "text": [
      "[Parallel(n_jobs=3)]: Done 118 tasks      | elapsed: 22.0min\n"
     ]
    },
    {
     "name": "stdout",
     "output_type": "stream",
     "text": [
      "[CV]  alpha=100, hidden_layer_sizes=(2,), score=-0.893197291067, total=  30.2s\n",
      "[CV] alpha=100, hidden_layer_sizes=(2,) ..............................\n"
     ]
    },
    {
     "name": "stderr",
     "output_type": "stream",
     "text": [
      "[Parallel(n_jobs=3)]: Done 119 tasks      | elapsed: 22.5min\n"
     ]
    },
    {
     "name": "stdout",
     "output_type": "stream",
     "text": [
      "[CV]  alpha=1.0, hidden_layer_sizes=(100,), score=-0.475048556923, total= 1.1min\n",
      "[CV] alpha=100, hidden_layer_sizes=(2,) ..............................\n"
     ]
    },
    {
     "name": "stderr",
     "output_type": "stream",
     "text": [
      "[Parallel(n_jobs=3)]: Done 120 tasks      | elapsed: 22.5min\n"
     ]
    },
    {
     "name": "stdout",
     "output_type": "stream",
     "text": [
      "[CV]  alpha=1.0, hidden_layer_sizes=(100,), score=-0.483567908741, total=  53.0s\n",
      "[CV] alpha=100, hidden_layer_sizes=(2,) ..............................\n"
     ]
    },
    {
     "name": "stderr",
     "output_type": "stream",
     "text": [
      "[Parallel(n_jobs=3)]: Done 121 tasks      | elapsed: 22.8min\n"
     ]
    },
    {
     "name": "stdout",
     "output_type": "stream",
     "text": [
      "[CV]  alpha=100, hidden_layer_sizes=(2,), score=-0.999803199968, total=  22.6s\n",
      "[CV] alpha=100, hidden_layer_sizes=(2,) ..............................\n"
     ]
    },
    {
     "name": "stderr",
     "output_type": "stream",
     "text": [
      "[Parallel(n_jobs=3)]: Done 122 tasks      | elapsed: 22.9min\n"
     ]
    },
    {
     "name": "stdout",
     "output_type": "stream",
     "text": [
      "[CV]  alpha=100, hidden_layer_sizes=(2,), score=-0.949560830788, total=  23.1s\n",
      "[CV] alpha=100, hidden_layer_sizes=(2,) ..............................\n"
     ]
    },
    {
     "name": "stderr",
     "output_type": "stream",
     "text": [
      "[Parallel(n_jobs=3)]: Done 123 tasks      | elapsed: 22.9min\n"
     ]
    },
    {
     "name": "stdout",
     "output_type": "stream",
     "text": [
      "[CV]  alpha=100, hidden_layer_sizes=(2,), score=-0.951234480457, total=  19.2s\n",
      "[CV] alpha=100, hidden_layer_sizes=(2,) ..............................\n"
     ]
    },
    {
     "name": "stderr",
     "output_type": "stream",
     "text": [
      "[Parallel(n_jobs=3)]: Done 124 tasks      | elapsed: 23.2min\n"
     ]
    },
    {
     "name": "stdout",
     "output_type": "stream",
     "text": [
      "[CV]  alpha=100, hidden_layer_sizes=(2,), score=-0.944118883381, total=  18.7s\n",
      "[CV] alpha=100, hidden_layer_sizes=(2,) ..............................\n"
     ]
    },
    {
     "name": "stderr",
     "output_type": "stream",
     "text": [
      "[Parallel(n_jobs=3)]: Done 125 tasks      | elapsed: 23.2min\n"
     ]
    },
    {
     "name": "stdout",
     "output_type": "stream",
     "text": [
      "[CV]  alpha=100, hidden_layer_sizes=(2,), score=-0.877387060976, total=  18.2s\n",
      "[CV] alpha=100, hidden_layer_sizes=(2,) ..............................\n"
     ]
    },
    {
     "name": "stderr",
     "output_type": "stream",
     "text": [
      "[Parallel(n_jobs=3)]: Done 126 tasks      | elapsed: 23.2min\n"
     ]
    },
    {
     "name": "stdout",
     "output_type": "stream",
     "text": [
      "[CV]  alpha=100, hidden_layer_sizes=(2,), score=-0.871268651534, total=  17.3s\n",
      "[CV] alpha=100, hidden_layer_sizes=(2,) ..............................\n"
     ]
    },
    {
     "name": "stderr",
     "output_type": "stream",
     "text": [
      "[Parallel(n_jobs=3)]: Done 127 tasks      | elapsed: 23.5min\n"
     ]
    },
    {
     "name": "stdout",
     "output_type": "stream",
     "text": [
      "[CV]  alpha=100, hidden_layer_sizes=(2,), score=-0.873575905773, total=  17.5s\n",
      "[CV] alpha=100, hidden_layer_sizes=(20,) .............................\n"
     ]
    },
    {
     "name": "stderr",
     "output_type": "stream",
     "text": [
      "[Parallel(n_jobs=3)]: Done 128 tasks      | elapsed: 23.5min\n"
     ]
    },
    {
     "name": "stdout",
     "output_type": "stream",
     "text": [
      "[CV]  alpha=100, hidden_layer_sizes=(2,), score=-0.949268433443, total=  17.8s\n",
      "[CV] alpha=100, hidden_layer_sizes=(20,) .............................\n"
     ]
    },
    {
     "name": "stderr",
     "output_type": "stream",
     "text": [
      "[Parallel(n_jobs=3)]: Done 129 tasks      | elapsed: 23.5min\n"
     ]
    },
    {
     "name": "stdout",
     "output_type": "stream",
     "text": [
      "[CV]  alpha=100, hidden_layer_sizes=(2,), score=-0.943513702409, total=  20.0s\n",
      "[CV] alpha=100, hidden_layer_sizes=(20,) .............................\n"
     ]
    },
    {
     "name": "stderr",
     "output_type": "stream",
     "text": [
      "[Parallel(n_jobs=3)]: Done 130 tasks      | elapsed: 23.8min\n"
     ]
    },
    {
     "name": "stdout",
     "output_type": "stream",
     "text": [
      "[CV]  alpha=100, hidden_layer_sizes=(20,), score=-0.608934461085, total=  25.7s\n",
      "[CV] alpha=100, hidden_layer_sizes=(20,) .............................\n"
     ]
    },
    {
     "name": "stderr",
     "output_type": "stream",
     "text": [
      "[Parallel(n_jobs=3)]: Done 131 tasks      | elapsed: 23.9min\n"
     ]
    },
    {
     "name": "stdout",
     "output_type": "stream",
     "text": [
      "[CV]  alpha=100, hidden_layer_sizes=(20,), score=-0.596400978124, total=  25.4s\n",
      "[CV] alpha=100, hidden_layer_sizes=(20,) .............................\n"
     ]
    },
    {
     "name": "stderr",
     "output_type": "stream",
     "text": [
      "[Parallel(n_jobs=3)]: Done 132 tasks      | elapsed: 23.9min\n"
     ]
    },
    {
     "name": "stdout",
     "output_type": "stream",
     "text": [
      "[CV]  alpha=100, hidden_layer_sizes=(20,), score=-0.620806429778, total=  25.1s\n",
      "[CV] alpha=100, hidden_layer_sizes=(20,) .............................\n"
     ]
    },
    {
     "name": "stderr",
     "output_type": "stream",
     "text": [
      "[Parallel(n_jobs=3)]: Done 133 tasks      | elapsed: 24.2min\n"
     ]
    },
    {
     "name": "stdout",
     "output_type": "stream",
     "text": [
      "[CV]  alpha=100, hidden_layer_sizes=(20,), score=-0.585076085178, total=  24.8s\n",
      "[CV] alpha=100, hidden_layer_sizes=(20,) .............................\n"
     ]
    },
    {
     "name": "stderr",
     "output_type": "stream",
     "text": [
      "[Parallel(n_jobs=3)]: Done 134 tasks      | elapsed: 24.3min\n"
     ]
    },
    {
     "name": "stdout",
     "output_type": "stream",
     "text": [
      "[CV]  alpha=100, hidden_layer_sizes=(20,), score=-0.602538346372, total=  24.8s\n",
      "[CV] alpha=100, hidden_layer_sizes=(20,) .............................\n"
     ]
    },
    {
     "name": "stderr",
     "output_type": "stream",
     "text": [
      "[Parallel(n_jobs=3)]: Done 135 tasks      | elapsed: 24.4min\n"
     ]
    },
    {
     "name": "stdout",
     "output_type": "stream",
     "text": [
      "[CV]  alpha=100, hidden_layer_sizes=(20,), score=-0.581812553845, total=  25.0s\n",
      "[CV] alpha=100, hidden_layer_sizes=(20,) .............................\n"
     ]
    },
    {
     "name": "stderr",
     "output_type": "stream",
     "text": [
      "[Parallel(n_jobs=3)]: Done 136 tasks      | elapsed: 24.6min\n"
     ]
    },
    {
     "name": "stdout",
     "output_type": "stream",
     "text": [
      "[CV]  alpha=100, hidden_layer_sizes=(20,), score=-0.646195479793, total=  24.8s\n",
      "[CV] alpha=100, hidden_layer_sizes=(20,) .............................\n"
     ]
    },
    {
     "name": "stderr",
     "output_type": "stream",
     "text": [
      "[Parallel(n_jobs=3)]: Done 137 tasks      | elapsed: 24.8min\n"
     ]
    },
    {
     "name": "stdout",
     "output_type": "stream",
     "text": [
      "[CV]  alpha=100, hidden_layer_sizes=(20,), score=-0.611652829751, total=  24.8s\n",
      "[CV] alpha=100, hidden_layer_sizes=(50,) .............................\n"
     ]
    },
    {
     "name": "stderr",
     "output_type": "stream",
     "text": [
      "[Parallel(n_jobs=3)]: Done 138 tasks      | elapsed: 24.8min\n"
     ]
    },
    {
     "name": "stdout",
     "output_type": "stream",
     "text": [
      "[CV]  alpha=100, hidden_layer_sizes=(20,), score=-0.610804781308, total=  25.3s\n",
      "[CV] alpha=100, hidden_layer_sizes=(50,) .............................\n"
     ]
    },
    {
     "name": "stderr",
     "output_type": "stream",
     "text": [
      "[Parallel(n_jobs=3)]: Done 139 tasks      | elapsed: 25.0min\n"
     ]
    },
    {
     "name": "stdout",
     "output_type": "stream",
     "text": [
      "[CV]  alpha=100, hidden_layer_sizes=(20,), score=-0.577993067706, total=  25.6s\n",
      "[CV] alpha=100, hidden_layer_sizes=(50,) .............................\n"
     ]
    },
    {
     "name": "stderr",
     "output_type": "stream",
     "text": [
      "[Parallel(n_jobs=3)]: Done 140 tasks      | elapsed: 25.2min\n"
     ]
    },
    {
     "name": "stdout",
     "output_type": "stream",
     "text": [
      "[CV]  alpha=100, hidden_layer_sizes=(50,), score=-0.571769546083, total=  33.6s\n",
      "[CV] alpha=100, hidden_layer_sizes=(50,) .............................\n"
     ]
    },
    {
     "name": "stderr",
     "output_type": "stream",
     "text": [
      "[Parallel(n_jobs=3)]: Done 141 tasks      | elapsed: 25.3min\n"
     ]
    },
    {
     "name": "stdout",
     "output_type": "stream",
     "text": [
      "[CV]  alpha=100, hidden_layer_sizes=(50,), score=-0.516094705631, total=  35.8s\n",
      "[CV] alpha=100, hidden_layer_sizes=(50,) .............................\n"
     ]
    },
    {
     "name": "stderr",
     "output_type": "stream",
     "text": [
      "[Parallel(n_jobs=3)]: Done 142 tasks      | elapsed: 25.6min\n"
     ]
    },
    {
     "name": "stdout",
     "output_type": "stream",
     "text": [
      "[CV]  alpha=100, hidden_layer_sizes=(50,), score=-0.584128568486, total=  35.8s\n",
      "[CV] alpha=100, hidden_layer_sizes=(50,) .............................\n"
     ]
    },
    {
     "name": "stderr",
     "output_type": "stream",
     "text": [
      "[Parallel(n_jobs=3)]: Done 143 tasks      | elapsed: 25.8min\n"
     ]
    },
    {
     "name": "stdout",
     "output_type": "stream",
     "text": [
      "[CV]  alpha=100, hidden_layer_sizes=(50,), score=-0.502385496491, total=  35.5s\n",
      "[CV] alpha=100, hidden_layer_sizes=(50,) .............................\n"
     ]
    },
    {
     "name": "stderr",
     "output_type": "stream",
     "text": [
      "[Parallel(n_jobs=3)]: Done 144 tasks      | elapsed: 25.9min\n"
     ]
    },
    {
     "name": "stdout",
     "output_type": "stream",
     "text": [
      "[CV]  alpha=100, hidden_layer_sizes=(50,), score=-0.57340979192, total=  34.6s\n",
      "[CV] alpha=100, hidden_layer_sizes=(50,) .............................\n"
     ]
    },
    {
     "name": "stderr",
     "output_type": "stream",
     "text": [
      "[Parallel(n_jobs=3)]: Done 145 tasks      | elapsed: 26.2min\n"
     ]
    },
    {
     "name": "stdout",
     "output_type": "stream",
     "text": [
      "[CV]  alpha=100, hidden_layer_sizes=(50,), score=-0.562059692828, total=  34.0s\n",
      "[CV] alpha=100, hidden_layer_sizes=(50,) .............................\n"
     ]
    },
    {
     "name": "stderr",
     "output_type": "stream",
     "text": [
      "[Parallel(n_jobs=3)]: Done 146 tasks      | elapsed: 26.4min\n"
     ]
    },
    {
     "name": "stdout",
     "output_type": "stream",
     "text": [
      "[CV]  alpha=100, hidden_layer_sizes=(50,), score=-0.552091434162, total=  37.9s\n",
      "[CV] alpha=100, hidden_layer_sizes=(50,) .............................\n"
     ]
    },
    {
     "name": "stderr",
     "output_type": "stream",
     "text": [
      "[Parallel(n_jobs=3)]: Done 147 tasks      | elapsed: 26.6min\n"
     ]
    },
    {
     "name": "stdout",
     "output_type": "stream",
     "text": [
      "[CV]  alpha=100, hidden_layer_sizes=(50,), score=-0.549932106494, total=  38.4s\n",
      "[CV] alpha=100, hidden_layer_sizes=(100,) ............................\n"
     ]
    },
    {
     "name": "stderr",
     "output_type": "stream",
     "text": [
      "[Parallel(n_jobs=3)]: Done 148 tasks      | elapsed: 26.9min\n"
     ]
    },
    {
     "name": "stdout",
     "output_type": "stream",
     "text": [
      "[CV]  alpha=100, hidden_layer_sizes=(50,), score=-0.545688339625, total=  43.3s\n",
      "[CV] alpha=100, hidden_layer_sizes=(100,) ............................\n"
     ]
    },
    {
     "name": "stderr",
     "output_type": "stream",
     "text": [
      "[Parallel(n_jobs=3)]: Done 149 tasks      | elapsed: 27.1min\n"
     ]
    },
    {
     "name": "stdout",
     "output_type": "stream",
     "text": [
      "[CV]  alpha=100, hidden_layer_sizes=(50,), score=-0.549687525901, total=  43.0s\n",
      "[CV] alpha=100, hidden_layer_sizes=(100,) ............................\n"
     ]
    },
    {
     "name": "stderr",
     "output_type": "stream",
     "text": [
      "[Parallel(n_jobs=3)]: Done 150 tasks      | elapsed: 27.3min\n"
     ]
    },
    {
     "name": "stdout",
     "output_type": "stream",
     "text": [
      "[CV]  alpha=100, hidden_layer_sizes=(100,), score=-0.508680458845, total= 1.0min\n",
      "[CV] alpha=100, hidden_layer_sizes=(100,) ............................\n"
     ]
    },
    {
     "name": "stderr",
     "output_type": "stream",
     "text": [
      "[Parallel(n_jobs=3)]: Done 151 tasks      | elapsed: 27.9min\n"
     ]
    },
    {
     "name": "stdout",
     "output_type": "stream",
     "text": [
      "[CV]  alpha=100, hidden_layer_sizes=(100,), score=-0.433852402065, total=  59.2s\n",
      "[CV] alpha=100, hidden_layer_sizes=(100,) ............................\n"
     ]
    },
    {
     "name": "stderr",
     "output_type": "stream",
     "text": [
      "[Parallel(n_jobs=3)]: Done 152 tasks      | elapsed: 28.1min\n"
     ]
    },
    {
     "name": "stdout",
     "output_type": "stream",
     "text": [
      "[CV]  alpha=100, hidden_layer_sizes=(100,), score=-0.482476885135, total=  58.9s\n",
      "[CV] alpha=100, hidden_layer_sizes=(100,) ............................\n"
     ]
    },
    {
     "name": "stderr",
     "output_type": "stream",
     "text": [
      "[Parallel(n_jobs=3)]: Done 153 tasks      | elapsed: 28.3min\n"
     ]
    },
    {
     "name": "stdout",
     "output_type": "stream",
     "text": [
      "[CV]  alpha=100, hidden_layer_sizes=(100,), score=-0.439683742673, total=  57.3s\n",
      "[CV] alpha=100, hidden_layer_sizes=(100,) ............................\n"
     ]
    },
    {
     "name": "stderr",
     "output_type": "stream",
     "text": [
      "[Parallel(n_jobs=3)]: Done 154 tasks      | elapsed: 28.9min\n"
     ]
    },
    {
     "name": "stdout",
     "output_type": "stream",
     "text": [
      "[CV]  alpha=100, hidden_layer_sizes=(100,), score=-0.50555101125, total=  58.0s\n",
      "[CV] alpha=100, hidden_layer_sizes=(100,) ............................\n"
     ]
    },
    {
     "name": "stderr",
     "output_type": "stream",
     "text": [
      "[Parallel(n_jobs=3)]: Done 155 tasks      | elapsed: 29.0min\n"
     ]
    },
    {
     "name": "stdout",
     "output_type": "stream",
     "text": [
      "[CV]  alpha=100, hidden_layer_sizes=(100,), score=-0.480049145354, total=  57.1s\n",
      "[CV] alpha=100, hidden_layer_sizes=(100,) ............................\n",
      "[CV]  alpha=100, hidden_layer_sizes=(100,), score=-0.468153754054, total= 1.0min\n",
      "[CV] alpha=100, hidden_layer_sizes=(100,) ............................\n",
      "[CV]  alpha=100, hidden_layer_sizes=(100,), score=-0.484410879618, total= 1.0min\n",
      "[CV]  alpha=100, hidden_layer_sizes=(100,), score=-0.468494326792, total=  58.6s\n",
      "[CV]  alpha=100, hidden_layer_sizes=(100,), score=-0.478642005746, total=  43.1s\n"
     ]
    },
    {
     "name": "stderr",
     "output_type": "stream",
     "text": [
      "[Parallel(n_jobs=3)]: Done 160 out of 160 | elapsed: 30.6min finished\n"
     ]
    },
    {
     "name": "stdout",
     "output_type": "stream",
     "text": [
      "('nn best para:', {'alpha': 0.01, 'hidden_layer_sizes': (100,)})\n",
      "('nn best score:', -0.46740761595770186)\n",
      "('results', {'std_train_score': array([0.04454563, 0.00957797, 0.00859853, 0.00347943, 0.02511375,\n",
      "       0.02607913, 0.01002308, 0.00408969, 0.03436148, 0.01018604,\n",
      "       0.01767343, 0.00439132, 0.04122141, 0.008993  , 0.00669918,\n",
      "       0.00438139]), 'split4_test_score': array([-0.89101314, -0.61681973, -0.57809212, -0.50188084, -0.89124226,\n",
      "       -0.61973556, -0.57507691, -0.5049513 , -0.92761329, -0.59615305,\n",
      "       -0.5818548 , -0.50641061, -0.94411888, -0.60253835, -0.57340979,\n",
      "       -0.50555101]), 'mean_train_score': array([-0.9327198 , -0.60577756, -0.54777888, -0.47401115, -0.93228452,\n",
      "       -0.61517582, -0.55414484, -0.47176379, -0.95214974, -0.59036512,\n",
      "       -0.5619876 , -0.47772272, -0.9269756 , -0.60364113, -0.55474923,\n",
      "       -0.47907297]), 'param_hidden_layer_sizes': masked_array(data=[(2,), (20,), (50,), (100,), (2,), (20,), (50,), (100,),\n",
      "                   (2,), (20,), (50,), (100,), (2,), (20,), (50,), (100,)],\n",
      "             mask=[False, False, False, False, False, False, False, False,\n",
      "                   False, False, False, False, False, False, False, False],\n",
      "       fill_value='?',\n",
      "            dtype=object), 'split6_test_score': array([-0.90597263, -0.6313756 , -0.54512643, -0.46979795, -0.91921528,\n",
      "       -0.63856177, -0.54513809, -0.45809534, -0.99980033, -0.62530798,\n",
      "       -0.54755875, -0.46410572, -0.87126865, -0.64619548, -0.55209143,\n",
      "       -0.46815375]), 'split2_train_score': array([-0.99979668, -0.59919142, -0.54970141, -0.47423259, -0.94972937,\n",
      "       -0.5973734 , -0.54422172, -0.47422662, -0.99980078, -0.57310386,\n",
      "       -0.54603312, -0.48020795, -0.94954438, -0.59478709, -0.56570767,\n",
      "       -0.48269979]), 'split7_train_score': array([-0.89997806, -0.60627182, -0.53883303, -0.47846918, -0.87369889,\n",
      "       -0.60398651, -0.55708625, -0.46648929, -0.90057061, -0.59650071,\n",
      "       -0.55290139, -0.48067146, -0.87413165, -0.61794125, -0.54629766,\n",
      "       -0.47551091]), 'std_score_time': array([0.00154782, 0.00131469, 0.00021232, 0.00044664, 0.00029049,\n",
      "       0.00015129, 0.00015431, 0.00090235, 0.00035627, 0.00028825,\n",
      "       0.00025115, 0.01393344, 0.00046812, 0.00014858, 0.00192174,\n",
      "       0.00076649]), 'split4_train_score': array([-0.90138904, -0.61131385, -0.549234  , -0.46796183, -0.90160085,\n",
      "       -0.60343341, -0.54526092, -0.47248683, -0.9243992 , -0.58806909,\n",
      "       -0.54998061, -0.47361705, -0.9495629 , -0.59540899, -0.5442902 ,\n",
      "       -0.47270475]), 'split2_test_score': array([-0.99979149, -0.62390182, -0.56058079, -0.47368941, -0.94973452,\n",
      "       -0.62261491, -0.55502991, -0.47157037, -0.99979569, -0.5864223 ,\n",
      "       -0.55735621, -0.4771841 , -0.94956083, -0.62080643, -0.58412857,\n",
      "       -0.48247689]), 'mean_score_time': array([0.00231035, 0.00188193, 0.00160072, 0.00237913, 0.00109427,\n",
      "       0.00124705, 0.00169034, 0.00296865, 0.0010756 , 0.00134995,\n",
      "       0.00192211, 0.00752153, 0.00125124, 0.00124285, 0.00248277,\n",
      "       0.00302732]), 'mean_fit_time': array([16.70088191, 27.68327303, 34.5142586 , 46.10411999, 17.52918463,\n",
      "       25.86380825, 37.17298572, 57.64526663, 19.30478206, 26.3253659 ,\n",
      "       36.52727911, 58.42114637, 20.46517639, 25.12427807, 37.18659091,\n",
      "       57.60631282]), 'split3_train_score': array([-0.89995739, -0.61341445, -0.56340033, -0.47231661, -0.94952737,\n",
      "       -0.60889906, -0.55313884, -0.47999396, -0.92393452, -0.57933704,\n",
      "       -0.55514457, -0.47573699, -0.94938019, -0.60577599, -0.55029765,\n",
      "       -0.48479875]), 'split0_train_score': array([-0.99979562, -0.59542146, -0.552917  , -0.47087331, -0.94989202,\n",
      "       -0.68649516, -0.55637532, -0.46695671, -0.92483966, -0.59197971,\n",
      "       -0.59486524, -0.47089349, -0.90075131, -0.59967364, -0.54979106,\n",
      "       -0.48617445]), 'split9_train_score': array([-0.92583855, -0.59367571, -0.53773093, -0.4718606 , -0.95013405,\n",
      "       -0.61482565, -0.54897159, -0.47427887, -0.94988718, -0.60572861,\n",
      "       -0.55186985, -0.48430254, -0.94987551, -0.59728963, -0.5582315 ,\n",
      "       -0.47630814]), 'rank_test_score': array([15, 11,  5,  2, 14, 12,  6,  1, 16,  9,  8,  3, 13, 10,  7,  4],\n",
      "      dtype=int32), 'split5_test_score': array([-0.89346686, -0.61403869, -0.5561389 , -0.46961773, -0.93245279,\n",
      "       -0.57320631, -0.55326209, -0.46896119, -0.99979995, -0.58580834,\n",
      "       -0.56077534, -0.4710653 , -0.87738706, -0.58181255, -0.56205969,\n",
      "       -0.48004915]), 'split6_train_score': array([-0.89940237, -0.60204251, -0.55020143, -0.47952292, -0.92573689,\n",
      "       -0.63126174, -0.55055994, -0.46691218, -0.99980503, -0.60014268,\n",
      "       -0.55070894, -0.47316397, -0.87437803, -0.62095738, -0.55389501,\n",
      "       -0.48039542]), 'split9_test_score': array([-0.92640127, -0.5727185 , -0.52806865, -0.47564393, -0.94381365,\n",
      "       -0.59178907, -0.53908974, -0.47677545, -0.94351408, -0.58847759,\n",
      "       -0.53921763, -0.48356791, -0.9435137 , -0.57799307, -0.54968753,\n",
      "       -0.47864201]), 'std_test_score': array([0.0453982 , 0.01640709, 0.02259911, 0.02205581, 0.02626942,\n",
      "       0.02911646, 0.01853334, 0.02118397, 0.03351484, 0.02000382,\n",
      "       0.02525138, 0.02196395, 0.04122292, 0.01943781, 0.02401385,\n",
      "       0.02297939]), 'split8_train_score': array([-0.90009326, -0.61598604, -0.53221187, -0.47580895, -0.94947995,\n",
      "       -0.61601475, -0.54909428, -0.47017619, -0.94924174, -0.59530082,\n",
      "       -0.56015981, -0.481408  , -0.94922128, -0.60885242, -0.56293758,\n",
      "       -0.47379295]), 'split1_train_score': array([-0.99979574, -0.59656754, -0.55275563, -0.47708705, -0.94933869,\n",
      "       -0.59456766, -0.58146118, -0.47482865, -0.94921556, -0.57699134,\n",
      "       -0.59775364, -0.48256795, -0.99979903, -0.59651168, -0.5569839 ,\n",
      "       -0.47758129]), 'split7_test_score': array([-0.89900632, -0.60950384, -0.54931168, -0.48840977, -0.87310429,\n",
      "       -0.60051359, -0.56105945, -0.47253961, -0.89958646, -0.59448477,\n",
      "       -0.55822124, -0.49186877, -0.87357591, -0.61165283, -0.54993211,\n",
      "       -0.48441088]), 'split0_test_score': array([-0.99980103, -0.60177484, -0.57524025, -0.49253245, -0.94514294,\n",
      "       -0.68141065, -0.57405977, -0.48845107, -0.93086001, -0.59410729,\n",
      "       -0.61179719, -0.49351736, -0.89319729, -0.60893446, -0.57176955,\n",
      "       -0.50868046]), 'mean_test_score': array([-0.93184038, -0.60754926, -0.54424767, -0.47028348, -0.93054677,\n",
      "       -0.61303842, -0.54937191, -0.46740762, -0.95293221, -0.58738048,\n",
      "       -0.55772871, -0.47352449, -0.92529284, -0.6042215 , -0.55072472,\n",
      "       -0.47499946]), 'params': [{'alpha': 0.0001, 'hidden_layer_sizes': (2,)}, {'alpha': 0.0001, 'hidden_layer_sizes': (20,)}, {'alpha': 0.0001, 'hidden_layer_sizes': (50,)}, {'alpha': 0.0001, 'hidden_layer_sizes': (100,)}, {'alpha': 0.01, 'hidden_layer_sizes': (2,)}, {'alpha': 0.01, 'hidden_layer_sizes': (20,)}, {'alpha': 0.01, 'hidden_layer_sizes': (50,)}, {'alpha': 0.01, 'hidden_layer_sizes': (100,)}, {'alpha': 1.0, 'hidden_layer_sizes': (2,)}, {'alpha': 1.0, 'hidden_layer_sizes': (20,)}, {'alpha': 1.0, 'hidden_layer_sizes': (50,)}, {'alpha': 1.0, 'hidden_layer_sizes': (100,)}, {'alpha': 100, 'hidden_layer_sizes': (2,)}, {'alpha': 100, 'hidden_layer_sizes': (20,)}, {'alpha': 100, 'hidden_layer_sizes': (50,)}, {'alpha': 100, 'hidden_layer_sizes': (100,)}], 'std_fit_time': array([1.0170004 , 1.42713501, 0.80691233, 2.10523415, 0.72235472,\n",
      "       4.28500518, 5.01158305, 6.1343157 , 1.60822645, 0.77950936,\n",
      "       1.35448577, 6.83002918, 3.77272999, 0.32535194, 3.31829165,\n",
      "       5.06672589]), 'split3_test_score': array([-0.90349152, -0.58948391, -0.51873483, -0.43004317, -0.95137864,\n",
      "       -0.59172902, -0.50791384, -0.43683138, -0.92933526, -0.54596347,\n",
      "       -0.51331967, -0.43354036, -0.95123448, -0.58507609, -0.5023855 ,\n",
      "       -0.43968374]), 'split5_train_score': array([-0.90115131, -0.62389078, -0.55080312, -0.47197844, -0.92370711,\n",
      "       -0.59490088, -0.55527841, -0.47128864, -0.9998031 , -0.59649729,\n",
      "       -0.56045886, -0.47465783, -0.87311176, -0.59921324, -0.55906006,\n",
      "       -0.48076328]), 'param_alpha': masked_array(data=[0.0001, 0.0001, 0.0001, 0.0001, 0.01, 0.01, 0.01, 0.01,\n",
      "                   1.0, 1.0, 1.0, 1.0, 100, 100, 100, 100],\n",
      "             mask=[False, False, False, False, False, False, False, False,\n",
      "                   False, False, False, False, False, False, False, False],\n",
      "       fill_value='?',\n",
      "            dtype=object), 'split1_test_score': array([-0.99979998, -0.59922678, -0.51318253, -0.43317116, -0.94985565,\n",
      "       -0.59424279, -0.54436541, -0.42894222, -0.94972676, -0.5625075 ,\n",
      "       -0.56788883, -0.4389362 , -0.9998032 , -0.59640098, -0.51609471,\n",
      "       -0.4338524 ]), 'split8_test_score': array([-0.89965959, -0.6166489 , -0.5180005 , -0.46804843, -0.94952771,\n",
      "       -0.61658054, -0.53872389, -0.46695823, -0.94929023, -0.59457251,\n",
      "       -0.5392974 , -0.47504856, -0.94926843, -0.61080478, -0.54568834,\n",
      "       -0.46849433])})\n"
     ]
    },
    {
     "name": "stderr",
     "output_type": "stream",
     "text": [
      "/Users/wqshen/anaconda2/lib/python2.7/site-packages/sklearn/neural_network/multilayer_perceptron.py:564: ConvergenceWarning: Stochastic Optimizer: Maximum iterations (1000) reached and the optimization hasn't converged yet.\n",
      "  % self.max_iter, ConvergenceWarning)\n"
     ]
    }
   ],
   "source": [
    "nn_model = MLPRegressor(hidden_layer_sizes=(1, ), activation='relu',\n",
    "             solver='adam', alpha=0.00001, batch_size='auto',\n",
    "             learning_rate='constant', learning_rate_init=0.001,\n",
    "             power_t=0.5, max_iter=1000, shuffle=True,\n",
    "             random_state=None, tol=0.0001, verbose=False, \n",
    "             warm_start=False, momentum=0.9, nesterovs_momentum=True, \n",
    "             early_stopping=False, validation_fraction=0.1,\n",
    "             beta_1=0.9, beta_2=0.999, epsilon=1e-08)\n",
    "parameters = {'hidden_layer_sizes':[(2,),(20,),(50,),(100,)],'alpha':[0.0001,0.01,1.0,100]}\n",
    "clfridgenn = GridSearchCV(nn_model, parameters,scoring=my_scorer,cv=cv_para,verbose=30,n_jobs=3)\n",
    "clfridgenn.fit(data_X_encoded_p,data_y)\n",
    "print (\"nn best para:\",clfridgenn.best_params_)\n",
    "print (\"nn best score:\",clfridgenn.best_score_)\n",
    "print (\"results\",clfridgenn.cv_results_)"
   ]
  },
  {
   "cell_type": "code",
   "execution_count": 11,
   "metadata": {},
   "outputs": [
    {
     "name": "stdout",
     "output_type": "stream",
     "text": [
      "[CV]  ................................................................\n",
      "[CV]  ................................................................\n",
      "[CV]  ................................................................\n",
      "[CV] ........................... , score=-0.43721966753, total=   0.1s\n",
      "[CV] .......................... , score=-0.385164567192, total=   0.1s\n",
      "[CV] .......................... , score=-0.422900174776, total=   0.1s\n",
      "[CV]  ................................................................\n",
      "[CV]  ................................................................\n",
      "[CV] .......................... , score=-0.392348908909, total=   0.0s\n",
      "[CV]  ................................................................\n",
      "[CV] .......................... , score=-0.444480902582, total=   0.0s\n",
      "[CV]  ................................................................\n",
      "[CV]  ................................................................\n",
      "[CV] .......................... , score=-0.422893858518, total=   0.0s\n",
      "[CV] .......................... , score=-0.410648816221, total=   0.0s\n",
      "[CV] ........................... , score=-0.40697631266, total=   0.0s\n",
      "[CV]  ................................................................\n",
      "[CV]  ................................................................\n",
      "[CV] .......................... , score=-0.423983190163, total=   0.0s\n",
      "[CV] .......................... , score=-0.428517852077, total=   0.0s\n",
      "cross validation score of rf_model: -0.41751342506277556\n"
     ]
    },
    {
     "name": "stderr",
     "output_type": "stream",
     "text": [
      "[Parallel(n_jobs=3)]: Done   5 out of  10 | elapsed:    0.2s remaining:    0.2s\n",
      "[Parallel(n_jobs=3)]: Done   8 out of  10 | elapsed:    0.3s remaining:    0.1s\n",
      "[Parallel(n_jobs=3)]: Done  10 out of  10 | elapsed:    0.3s finished\n"
     ]
    }
   ],
   "source": [
    "ridge1_model = Ridge(alpha=100, fit_intercept=True, normalize=False, copy_X=True, \n",
    "      max_iter=None, tol=0.001, solver='auto', random_state=None)\n",
    "print 'cross validation score of rf_model: '+str(cross_val_score(ridge1_model, data_X_encoded_p, data_y,n_jobs=3,verbose=5,cv=cv_para, scoring=my_scorer).mean())\n",
    "   \n"
   ]
  },
  {
   "cell_type": "code",
   "execution_count": 12,
   "metadata": {},
   "outputs": [
    {
     "name": "stdout",
     "output_type": "stream",
     "text": [
      "Fitting 10 folds for each of 7 candidates, totalling 70 fits\n",
      "[CV] alpha=0.0001 ....................................................\n",
      "[CV] alpha=0.0001 ....................................................\n",
      "[CV] alpha=0.0001 ....................................................\n",
      "[CV] .............. alpha=0.0001, score=-0.392134866489, total=   0.1s\n",
      "[CV] .............. alpha=0.0001, score=-0.354291748588, total=   0.1s\n",
      "[CV] .............. alpha=0.0001, score=-0.408031453265, total=   0.1s\n",
      "[CV] alpha=0.0001 ....................................................\n",
      "[CV] alpha=0.0001 ....................................................\n",
      "[CV] .............. alpha=0.0001, score=-0.365581443549, total=   0.0s\n",
      "[CV] alpha=0.0001 ....................................................\n",
      "[CV] alpha=0.0001 ....................................................\n",
      "[CV] .............. alpha=0.0001, score=-0.402000848892, total=   0.0s\n",
      "[CV] .............. alpha=0.0001, score=-0.385072546889, total=   0.0s\n",
      "[CV] alpha=0.0001 ....................................................\n",
      "[CV] .............. alpha=0.0001, score=-0.369563735075, total=   0.0s\n",
      "[CV] alpha=0.0001 ....................................................\n",
      "[CV] alpha=0.001 .....................................................\n",
      "[CV] .............. alpha=0.0001, score=-0.394668729441, total=   0.0s\n",
      "[CV] .............. alpha=0.0001, score=-0.375529455302, total=   0.0s\n",
      "[CV] alpha=0.0001 ....................................................\n",
      "[CV] alpha=0.001 .....................................................\n",
      "[CV] .............. alpha=0.0001, score=-0.393283012258, total=   0.0s\n",
      "[CV] ............... alpha=0.001, score=-0.392196030869, total=   0.0s\n",
      "[CV] alpha=0.001 .....................................................\n",
      "[CV] alpha=0.001 .....................................................\n",
      "[CV] ............... alpha=0.001, score=-0.407966505081, total=   0.0s\n",
      "[CV] alpha=0.001 .....................................................\n",
      "[CV] ............... alpha=0.001, score=-0.354339131072, total=   0.0s\n",
      "[CV] ............... alpha=0.001, score=-0.402185669685, total=   0.0s\n",
      "[CV] alpha=0.001 .....................................................\n",
      "[CV] alpha=0.001 .....................................................\n",
      "[CV] ............... alpha=0.001, score=-0.365479419976, total=   0.0s\n",
      "[CV] ............... alpha=0.001, score=-0.385061961365, total=   0.0s\n",
      "[CV] ............... alpha=0.001, score=-0.369579596162, total=   0.0s\n",
      "[CV] alpha=0.001 .....................................................\n",
      "[CV] ............... alpha=0.001, score=-0.394573890791, total=   0.0s\n"
     ]
    },
    {
     "name": "stderr",
     "output_type": "stream",
     "text": [
      "[Parallel(n_jobs=3)]: Done   1 tasks      | elapsed:    0.1s\n",
      "[Parallel(n_jobs=3)]: Batch computation too fast (0.1433s.) Setting batch_size=2.\n",
      "[Parallel(n_jobs=3)]: Done   2 tasks      | elapsed:    0.2s\n",
      "[Parallel(n_jobs=3)]: Done   3 tasks      | elapsed:    0.2s\n",
      "[Parallel(n_jobs=3)]: Done   4 tasks      | elapsed:    0.2s\n",
      "[Parallel(n_jobs=3)]: Done   5 tasks      | elapsed:    0.2s\n",
      "[Parallel(n_jobs=3)]: Done   6 tasks      | elapsed:    0.2s\n",
      "[Parallel(n_jobs=3)]: Done   8 tasks      | elapsed:    0.2s\n",
      "[Parallel(n_jobs=3)]: Batch computation too fast (0.0703s.) Setting batch_size=10.\n",
      "[Parallel(n_jobs=3)]: Done  10 tasks      | elapsed:    0.3s\n",
      "[Parallel(n_jobs=3)]: Done  12 tasks      | elapsed:    0.3s\n",
      "[Parallel(n_jobs=3)]: Done  14 tasks      | elapsed:    0.3s\n",
      "[Parallel(n_jobs=3)]: Done  16 tasks      | elapsed:    0.3s\n",
      "[Parallel(n_jobs=3)]: Done  18 tasks      | elapsed:    0.4s\n"
     ]
    },
    {
     "name": "stdout",
     "output_type": "stream",
     "text": [
      "[CV] alpha=0.001 .....................................................\n",
      "[CV] alpha=0.01 ......................................................\n",
      "[CV] ................. alpha=0.001, score=-0.3757350559, total=   0.0s\n",
      "[CV] alpha=0.001 .....................................................\n",
      "[CV] alpha=0.1 .......................................................\n",
      "[CV] ................ alpha=0.01, score=-0.377219467288, total=   0.0s\n",
      "[CV] alpha=0.01 ......................................................\n",
      "[CV] ............... alpha=0.001, score=-0.393406580493, total=   0.0s\n",
      "[CV] alpha=0.01 ......................................................\n",
      "[CV] ................ alpha=0.01, score=-0.394640326952, total=   0.0s\n",
      "[CV] alpha=0.1 .......................................................\n",
      "[CV] ................ alpha=0.01, score=-0.392795241618, total=   0.0s\n",
      "[CV] alpha=0.01 ......................................................\n",
      "[CV] ................. alpha=0.1, score=-0.381556185517, total=   0.0s\n",
      "[CV] ................. alpha=0.1, score=-0.395037991688, total=   0.0s\n",
      "[CV] alpha=0.1 .......................................................\n",
      "[CV] ................ alpha=0.01, score=-0.354737327875, total=   0.0s\n",
      "[CV] alpha=0.1 .......................................................\n",
      "[CV] alpha=0.01 ......................................................\n",
      "[CV] ................. alpha=0.1, score=-0.356616023936, total=   0.0s\n",
      "[CV] alpha=0.1 .......................................................\n",
      "[CV] .................. alpha=0.1, score=-0.39814929653, total=   0.0s\n",
      "[CV] alpha=1 .........................................................\n",
      "[CV] ................ alpha=0.01, score=-0.407183147118, total=   0.0s\n",
      "[CV] alpha=0.01 ......................................................\n",
      "[CV] .................. alpha=0.1, score=-0.40441893248, total=   0.0s\n",
      "[CV] alpha=0.1 .......................................................\n",
      "[CV] ................... alpha=1, score=-0.399046339609, total=   0.0s\n",
      "[CV] alpha=1 .........................................................\n",
      "[CV] ................ alpha=0.01, score=-0.365108975663, total=   0.0s\n",
      "[CV] alpha=0.01 ......................................................\n",
      "[CV] ................. alpha=0.1, score=-0.365416268519, total=   0.0s\n",
      "[CV] ................... alpha=1, score=-0.358836288229, total=   0.0s\n",
      "[CV] alpha=0.1 .......................................................\n",
      "[CV] alpha=1 .........................................................\n",
      "[CV] ................ alpha=0.01, score=-0.403787664955, total=   0.0s\n",
      "[CV] alpha=0.01 ......................................................\n",
      "[CV] ................. alpha=0.1, score=-0.409000957999, total=   0.0s\n",
      "[CV] ................... alpha=1, score=-0.403181618682, total=   0.0s\n",
      "[CV] alpha=0.1 .......................................................\n",
      "[CV] alpha=1 .........................................................\n",
      "[CV] ................ alpha=0.01, score=-0.385019178661, total=   0.0s\n",
      "[CV] ................... alpha=1, score=-0.366848357493, total=   0.0s\n",
      "[CV] ................. alpha=0.1, score=-0.385828347767, total=   0.0s\n",
      "[CV] alpha=0.01 ......................................................\n",
      "[CV] alpha=0.1 .......................................................\n",
      "[CV] alpha=1 .........................................................\n",
      "[CV] ................... alpha=1, score=-0.413048472562, total=   0.0s\n",
      "[CV] ................ alpha=0.01, score=-0.369788823332, total=   0.0s\n",
      "[CV] alpha=1 .........................................................\n",
      "[CV] ................. alpha=0.1, score=-0.371107999668, total=   0.0s\n",
      "[CV] alpha=0.01 ......................................................\n",
      "[CV] alpha=0.1 .......................................................\n",
      "[CV] ................... alpha=1, score=-0.388461062674, total=   0.0s\n",
      "[CV] ................ alpha=0.01, score=-0.394348324026, total=   0.0s\n",
      "[CV] ................. alpha=0.1, score=-0.395648401076, total=   0.0s\n",
      "[CV] alpha=1 .........................................................\n",
      "[CV] alpha=1 .........................................................\n",
      "[CV] alpha=10 ........................................................\n",
      "[CV] ................... alpha=1, score=-0.384673477992, total=   0.0s\n",
      "[CV] ................... alpha=1, score=-0.372305092578, total=   0.0s\n",
      "[CV] alpha=1 .........................................................\n",
      "[CV] alpha=1 .........................................................\n",
      "[CV] .................. alpha=10, score=-0.389807549997, total=   0.0s\n",
      "[CV] ................... alpha=1, score=-0.397380823566, total=   0.0s\n",
      "[CV] alpha=10 ........................................................\n",
      "[CV] ................... alpha=1, score=-0.401800513195, total=   0.0s\n",
      "[CV] alpha=10 ........................................................\n",
      "[CV] .................. alpha=10, score=-0.406928420318, total=   0.0s\n",
      "[CV] alpha=100 .......................................................\n",
      "[CV] alpha=100 .......................................................\n",
      "[CV] ................... alpha=10, score=-0.40760096939, total=   0.0s\n",
      "[CV] ................. alpha=100, score=-0.410648816221, total=   0.0s\n",
      "[CV] alpha=100 .......................................................\n",
      "[CV] alpha=10 ........................................................\n",
      "[CV] .................. alpha=100, score=-0.43721966753, total=   0.0s\n",
      "[CV] alpha=100 .......................................................\n",
      "[CV] .................. alpha=10, score=-0.363683790703, total=   0.0s\n",
      "[CV] ................. alpha=100, score=-0.428517852077, total=   0.0s\n",
      "[CV] alpha=10 ........................................................\n",
      "[CV] ................. alpha=100, score=-0.385164567192, total=   0.0s\n",
      "[CV] alpha=100 .......................................................\n",
      "[CV] .................. alpha=10, score=-0.404325215808, total=   0.0s\n",
      "[CV] alpha=10 ........................................................\n",
      "[CV] ................. alpha=100, score=-0.422900174776, total=   0.0s\n",
      "[CV] .................. alpha=10, score=-0.370036381414, total=   0.0s\n",
      "[CV] alpha=100 .......................................................\n",
      "[CV] alpha=10 ........................................................\n",
      "[CV] ................. alpha=100, score=-0.392348908909, total=   0.0s\n"
     ]
    },
    {
     "name": "stderr",
     "output_type": "stream",
     "text": [
      "[Parallel(n_jobs=3)]: Done  28 tasks      | elapsed:    0.7s\n",
      "[Parallel(n_jobs=3)]: Done  38 out of  70 | elapsed:    0.7s remaining:    0.6s\n",
      "[Parallel(n_jobs=3)]: Done  50 out of  70 | elapsed:    0.8s remaining:    0.3s\n"
     ]
    },
    {
     "name": "stdout",
     "output_type": "stream",
     "text": [
      "[CV] alpha=100 .......................................................\n",
      "[CV] .................. alpha=10, score=-0.419106291346, total=   0.0s\n",
      "[CV] alpha=10 ........................................................\n",
      "[CV] ................. alpha=100, score=-0.444480902582, total=   0.0s\n",
      "[CV] alpha=100 .......................................................\n",
      "[CV] .................. alpha=10, score=-0.395193245044, total=   0.0s\n",
      "[CV] alpha=10 ........................................................\n",
      "[CV] ................. alpha=100, score=-0.422893858518, total=   0.0s\n",
      "[CV] alpha=100 .......................................................\n",
      "[CV] .................. alpha=10, score=-0.377692129129, total=   0.0s\n",
      "[CV] alpha=10 ........................................................\n",
      "[CV] .................. alpha=100, score=-0.40697631266, total=   0.0s\n",
      "[CV] .................. alpha=10, score=-0.401866179197, total=   0.0s\n",
      "[CV] alpha=100 .......................................................\n",
      "[CV] ................. alpha=100, score=-0.423983190163, total=   0.0s\n",
      "('rf best para:', {'alpha': 0.0001})\n",
      "('rf best score:', -0.3840157839748148)\n",
      "('results', {'rank_test_score': array([1, 2, 3, 4, 5, 6, 7], dtype=int32), 'split6_test_score': array([-0.36956374, -0.3695796 , -0.36978882, -0.371108  , -0.37230509,\n",
      "       -0.37769213, -0.40697631]), 'split7_train_score': array([-0.38165477, -0.38169606, -0.38215713, -0.3846564 , -0.38785106,\n",
      "       -0.39460143, -0.41992194]), 'split0_train_score': array([-0.37977346, -0.37981656, -0.38026434, -0.38266977, -0.38553768,\n",
      "       -0.39155449, -0.41542599]), 'split2_test_score': array([-0.40803145, -0.40796651, -0.40718315, -0.40441893, -0.40318162,\n",
      "       -0.40432522, -0.42290017]), 'mean_fit_time': array([0.02932577, 0.013604  , 0.00898712, 0.01312568, 0.01034651,\n",
      "       0.00874014, 0.00884516]), 'split3_train_score': array([-0.38233325, -0.38238929, -0.38296279, -0.3856514 , -0.38889506,\n",
      "       -0.3954505 , -0.42023795]), 'split6_train_score': array([-0.38357535, -0.38364342, -0.38423696, -0.38693635, -0.3901807 ,\n",
      "       -0.39667178, -0.42144274]), 'split9_test_score': array([-0.39328301, -0.39340658, -0.39464033, -0.3981493 , -0.40180051,\n",
      "       -0.40692842, -0.42851785]), 'std_test_score': array([0.01634271, 0.01634844, 0.01639108, 0.01648808, 0.01676541,\n",
      "       0.01711083, 0.01781673]), 'params': [{'alpha': 0.0001}, {'alpha': 0.001}, {'alpha': 0.01}, {'alpha': 0.1}, {'alpha': 1}, {'alpha': 10}, {'alpha': 100}], 'std_fit_time': array([0.03034867, 0.00897233, 0.00118011, 0.00648336, 0.00280952,\n",
      "       0.00226041, 0.00164698]), 'std_score_time': array([0.0007758 , 0.00148595, 0.00094385, 0.0012248 , 0.00143899,\n",
      "       0.00055492, 0.00099361]), 'split8_test_score': array([-0.37552946, -0.37573506, -0.37721947, -0.38155619, -0.38467348,\n",
      "       -0.38980755, -0.41064882]), 'std_train_score': array([0.0015076 , 0.00151195, 0.00154864, 0.00164251, 0.00171007,\n",
      "       0.00180154, 0.00204203]), 'split4_test_score': array([-0.40200085, -0.40218567, -0.40378766, -0.40900096, -0.41304847,\n",
      "       -0.41910629, -0.4444809 ]), 'split1_train_score': array([-0.38493164, -0.38497343, -0.3854676 , -0.38809363, -0.39110906,\n",
      "       -0.39762021, -0.42318041]), 'split2_train_score': array([-0.38046785, -0.38052596, -0.38111658, -0.38411275, -0.38761895,\n",
      "       -0.39465073, -0.42030018]), 'split4_train_score': array([-0.38163337, -0.38165979, -0.38200794, -0.38419009, -0.38725465,\n",
      "       -0.39389556, -0.41874433]), 'mean_score_time': array([0.0015871 , 0.0017344 , 0.00147879, 0.00178504, 0.00202417,\n",
      "       0.0010849 , 0.00173321]), 'split9_train_score': array([-0.38013137, -0.38016631, -0.38056311, -0.38291098, -0.38579111,\n",
      "       -0.39205034, -0.41739735]), 'split5_test_score': array([-0.38507255, -0.38506196, -0.38501918, -0.38582835, -0.38846106,\n",
      "       -0.39519325, -0.42289386]), 'mean_train_score': array([-0.38179159, -0.38183622, -0.38231266, -0.38483296, -0.38792261,\n",
      "       -0.39442213, -0.41941649]), 'split8_train_score': array([-0.38109337, -0.38111547, -0.38144657, -0.38361595, -0.38651843,\n",
      "       -0.39306501, -0.41831417]), 'split7_test_score': array([-0.39466873, -0.39457389, -0.39434832, -0.3956484 , -0.39738082,\n",
      "       -0.40186618, -0.42398319]), 'split0_test_score': array([-0.39213487, -0.39219603, -0.39279524, -0.39503799, -0.39904634,\n",
      "       -0.40760097, -0.43721967]), 'mean_test_score': array([-0.38401578, -0.38405238, -0.38446285, -0.38627804, -0.3885582 ,\n",
      "       -0.39362402, -0.41751343]), 'split3_test_score': array([-0.36558144, -0.36547942, -0.36510898, -0.36541627, -0.36684836,\n",
      "       -0.37003638, -0.39234891]), 'split5_train_score': array([-0.38232148, -0.38237592, -0.38290358, -0.38549231, -0.38846936,\n",
      "       -0.39466123, -0.41919983]), 'param_alpha': masked_array(data=[0.0001, 0.001, 0.01, 0.1, 1, 10, 100],\n",
      "             mask=[False, False, False, False, False, False, False],\n",
      "       fill_value='?',\n",
      "            dtype=object), 'split1_test_score': array([-0.35429175, -0.35433913, -0.35473733, -0.35661602, -0.35883629,\n",
      "       -0.36368379, -0.38516457])})\n"
     ]
    },
    {
     "name": "stderr",
     "output_type": "stream",
     "text": [
      "[Parallel(n_jobs=3)]: Done  70 out of  70 | elapsed:    0.9s finished\n"
     ]
    }
   ],
   "source": [
    "parameters = {'alpha':[0.0001,0.001,0.01,0.1,1,10,100]}\n",
    "clfridge1 = GridSearchCV(ridge1_model, parameters,scoring=my_scorer,cv=cv_para,verbose=30,n_jobs=3)\n",
    "clfridge1.fit(data_X_encoded_p,data_y)\n",
    "print (\"rf best para:\",clfridge1.best_params_)\n",
    "print (\"rf best score:\",clfridge1.best_score_)\n",
    "print (\"results\",clfridge1.cv_results_)"
   ]
  },
  {
   "cell_type": "code",
   "execution_count": 13,
   "metadata": {},
   "outputs": [
    {
     "data": {
      "text/plain": [
       "-0.221515708"
      ]
     },
     "execution_count": 13,
     "metadata": {},
     "output_type": "execute_result"
    }
   ],
   "source": [
    "cv_score = np.array([-0.23824588, -0.20844122, -0.23356121, -0.21602981, -0.2285855,  -0.22002714,-0.21376681, -0.22638707, -0.21034281, -0.21976963])\n",
    "cv_score.mean()"
   ]
  },
  {
   "cell_type": "code",
   "execution_count": 14,
   "metadata": {
    "scrolled": true
   },
   "outputs": [
    {
     "name": "stderr",
     "output_type": "stream",
     "text": [
      "/Users/wqshen/anaconda2/lib/python2.7/site-packages/sklearn/neural_network/multilayer_perceptron.py:564: ConvergenceWarning: Stochastic Optimizer: Maximum iterations (10000) reached and the optimization hasn't converged yet.\n",
      "  % self.max_iter, ConvergenceWarning)\n"
     ]
    },
    {
     "data": {
      "text/plain": [
       "MLPRegressor(activation='relu', alpha=1e-05, batch_size='auto', beta_1=0.9,\n",
       "       beta_2=0.999, early_stopping=False, epsilon=1e-08,\n",
       "       hidden_layer_sizes=(1,), learning_rate='constant',\n",
       "       learning_rate_init=0.001, max_iter=10000, momentum=0.9,\n",
       "       nesterovs_momentum=True, power_t=0.5, random_state=None,\n",
       "       shuffle=True, solver='adam', tol=0.001, validation_fraction=0.1,\n",
       "       verbose=False, warm_start=False)"
      ]
     },
     "execution_count": 14,
     "metadata": {},
     "output_type": "execute_result"
    }
   ],
   "source": [
    "nn_model.fit(data_X_encoded, data_y)\n"
   ]
  },
  {
   "cell_type": "code",
   "execution_count": 15,
   "metadata": {},
   "outputs": [
    {
     "ename": "ValueError",
     "evalue": "shapes (1,8) and (28,1) not aligned: 8 (dim 1) != 28 (dim 0)",
     "output_type": "error",
     "traceback": [
      "\u001b[0;31m---------------------------------------------------------------------------\u001b[0m",
      "\u001b[0;31mValueError\u001b[0m                                Traceback (most recent call last)",
      "\u001b[0;32m<ipython-input-15-b88ed8f56320>\u001b[0m in \u001b[0;36m<module>\u001b[0;34m()\u001b[0m\n\u001b[1;32m      3\u001b[0m \u001b[0;31m#to use saved model to predict\u001b[0m\u001b[0;34m\u001b[0m\u001b[0;34m\u001b[0m\u001b[0m\n\u001b[1;32m      4\u001b[0m \u001b[0mrf\u001b[0m \u001b[0;34m=\u001b[0m \u001b[0mjoblib\u001b[0m\u001b[0;34m.\u001b[0m\u001b[0mload\u001b[0m\u001b[0;34m(\u001b[0m\u001b[0;34m'nn_model_without_d.pkl'\u001b[0m\u001b[0;34m)\u001b[0m\u001b[0;34m\u001b[0m\u001b[0m\n\u001b[0;32m----> 5\u001b[0;31m \u001b[0mrf\u001b[0m\u001b[0;34m.\u001b[0m\u001b[0mpredict\u001b[0m\u001b[0;34m(\u001b[0m\u001b[0;34m[\u001b[0m\u001b[0mx_test\u001b[0m\u001b[0;34m]\u001b[0m\u001b[0;34m)\u001b[0m\u001b[0;34m\u001b[0m\u001b[0m\n\u001b[0m",
      "\u001b[0;32m/Users/wqshen/anaconda2/lib/python2.7/site-packages/sklearn/neural_network/multilayer_perceptron.pyc\u001b[0m in \u001b[0;36mpredict\u001b[0;34m(self, X)\u001b[0m\n\u001b[1;32m   1295\u001b[0m         \"\"\"\n\u001b[1;32m   1296\u001b[0m         \u001b[0mcheck_is_fitted\u001b[0m\u001b[0;34m(\u001b[0m\u001b[0mself\u001b[0m\u001b[0;34m,\u001b[0m \u001b[0;34m\"coefs_\"\u001b[0m\u001b[0;34m)\u001b[0m\u001b[0;34m\u001b[0m\u001b[0m\n\u001b[0;32m-> 1297\u001b[0;31m         \u001b[0my_pred\u001b[0m \u001b[0;34m=\u001b[0m \u001b[0mself\u001b[0m\u001b[0;34m.\u001b[0m\u001b[0m_predict\u001b[0m\u001b[0;34m(\u001b[0m\u001b[0mX\u001b[0m\u001b[0;34m)\u001b[0m\u001b[0;34m\u001b[0m\u001b[0m\n\u001b[0m\u001b[1;32m   1298\u001b[0m         \u001b[0;32mif\u001b[0m \u001b[0my_pred\u001b[0m\u001b[0;34m.\u001b[0m\u001b[0mshape\u001b[0m\u001b[0;34m[\u001b[0m\u001b[0;36m1\u001b[0m\u001b[0;34m]\u001b[0m \u001b[0;34m==\u001b[0m \u001b[0;36m1\u001b[0m\u001b[0;34m:\u001b[0m\u001b[0;34m\u001b[0m\u001b[0m\n\u001b[1;32m   1299\u001b[0m             \u001b[0;32mreturn\u001b[0m \u001b[0my_pred\u001b[0m\u001b[0;34m.\u001b[0m\u001b[0mravel\u001b[0m\u001b[0;34m(\u001b[0m\u001b[0;34m)\u001b[0m\u001b[0;34m\u001b[0m\u001b[0m\n",
      "\u001b[0;32m/Users/wqshen/anaconda2/lib/python2.7/site-packages/sklearn/neural_network/multilayer_perceptron.pyc\u001b[0m in \u001b[0;36m_predict\u001b[0;34m(self, X)\u001b[0m\n\u001b[1;32m    676\u001b[0m                                          layer_units[i + 1])))\n\u001b[1;32m    677\u001b[0m         \u001b[0;31m# forward propagate\u001b[0m\u001b[0;34m\u001b[0m\u001b[0;34m\u001b[0m\u001b[0m\n\u001b[0;32m--> 678\u001b[0;31m         \u001b[0mself\u001b[0m\u001b[0;34m.\u001b[0m\u001b[0m_forward_pass\u001b[0m\u001b[0;34m(\u001b[0m\u001b[0mactivations\u001b[0m\u001b[0;34m)\u001b[0m\u001b[0;34m\u001b[0m\u001b[0m\n\u001b[0m\u001b[1;32m    679\u001b[0m         \u001b[0my_pred\u001b[0m \u001b[0;34m=\u001b[0m \u001b[0mactivations\u001b[0m\u001b[0;34m[\u001b[0m\u001b[0;34m-\u001b[0m\u001b[0;36m1\u001b[0m\u001b[0;34m]\u001b[0m\u001b[0;34m\u001b[0m\u001b[0m\n\u001b[1;32m    680\u001b[0m \u001b[0;34m\u001b[0m\u001b[0m\n",
      "\u001b[0;32m/Users/wqshen/anaconda2/lib/python2.7/site-packages/sklearn/neural_network/multilayer_perceptron.pyc\u001b[0m in \u001b[0;36m_forward_pass\u001b[0;34m(self, activations)\u001b[0m\n\u001b[1;32m    103\u001b[0m         \u001b[0;32mfor\u001b[0m \u001b[0mi\u001b[0m \u001b[0;32min\u001b[0m \u001b[0mrange\u001b[0m\u001b[0;34m(\u001b[0m\u001b[0mself\u001b[0m\u001b[0;34m.\u001b[0m\u001b[0mn_layers_\u001b[0m \u001b[0;34m-\u001b[0m \u001b[0;36m1\u001b[0m\u001b[0;34m)\u001b[0m\u001b[0;34m:\u001b[0m\u001b[0;34m\u001b[0m\u001b[0m\n\u001b[1;32m    104\u001b[0m             activations[i + 1] = safe_sparse_dot(activations[i],\n\u001b[0;32m--> 105\u001b[0;31m                                                  self.coefs_[i])\n\u001b[0m\u001b[1;32m    106\u001b[0m             \u001b[0mactivations\u001b[0m\u001b[0;34m[\u001b[0m\u001b[0mi\u001b[0m \u001b[0;34m+\u001b[0m \u001b[0;36m1\u001b[0m\u001b[0;34m]\u001b[0m \u001b[0;34m+=\u001b[0m \u001b[0mself\u001b[0m\u001b[0;34m.\u001b[0m\u001b[0mintercepts_\u001b[0m\u001b[0;34m[\u001b[0m\u001b[0mi\u001b[0m\u001b[0;34m]\u001b[0m\u001b[0;34m\u001b[0m\u001b[0m\n\u001b[1;32m    107\u001b[0m \u001b[0;34m\u001b[0m\u001b[0m\n",
      "\u001b[0;32m/Users/wqshen/anaconda2/lib/python2.7/site-packages/sklearn/utils/extmath.pyc\u001b[0m in \u001b[0;36msafe_sparse_dot\u001b[0;34m(a, b, dense_output)\u001b[0m\n\u001b[1;32m    138\u001b[0m         \u001b[0;32mreturn\u001b[0m \u001b[0mret\u001b[0m\u001b[0;34m\u001b[0m\u001b[0m\n\u001b[1;32m    139\u001b[0m     \u001b[0;32melse\u001b[0m\u001b[0;34m:\u001b[0m\u001b[0;34m\u001b[0m\u001b[0m\n\u001b[0;32m--> 140\u001b[0;31m         \u001b[0;32mreturn\u001b[0m \u001b[0mnp\u001b[0m\u001b[0;34m.\u001b[0m\u001b[0mdot\u001b[0m\u001b[0;34m(\u001b[0m\u001b[0ma\u001b[0m\u001b[0;34m,\u001b[0m \u001b[0mb\u001b[0m\u001b[0;34m)\u001b[0m\u001b[0;34m\u001b[0m\u001b[0m\n\u001b[0m\u001b[1;32m    141\u001b[0m \u001b[0;34m\u001b[0m\u001b[0m\n\u001b[1;32m    142\u001b[0m \u001b[0;34m\u001b[0m\u001b[0m\n",
      "\u001b[0;31mValueError\u001b[0m: shapes (1,8) and (28,1) not aligned: 8 (dim 1) != 28 (dim 0)"
     ]
    }
   ],
   "source": [
    "#store the model\n",
    "joblib.dump(nn_model, 'nn_model_without_d.pkl')\n",
    "#to use saved model to predict\n",
    "rf = joblib.load('nn_model_without_d.pkl')\n",
    "rf.predict([x_test])"
   ]
  }
 ],
 "metadata": {
  "kernelspec": {
   "display_name": "Python 2",
   "language": "python",
   "name": "python2"
  },
  "language_info": {
   "codemirror_mode": {
    "name": "ipython",
    "version": 2
   },
   "file_extension": ".py",
   "mimetype": "text/x-python",
   "name": "python",
   "nbconvert_exporter": "python",
   "pygments_lexer": "ipython2",
   "version": "2.7.13"
  }
 },
 "nbformat": 4,
 "nbformat_minor": 2
}
