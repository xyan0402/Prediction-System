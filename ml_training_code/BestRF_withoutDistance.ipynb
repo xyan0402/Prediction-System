{
 "cells": [
  {
   "cell_type": "code",
   "execution_count": 1,
   "metadata": {
    "collapsed": true
   },
   "outputs": [],
   "source": [
    "from sklearn import preprocessing\n",
    "from sklearn.preprocessing import LabelEncoder\n",
    "import math\n",
    "from collections import defaultdict\n",
    "import csv\n",
    "import pandas as pd\n",
    "import numpy as np\n",
    "from flask import jsonify\n",
    "from sklearn.ensemble import RandomForestRegressor\n",
    "from sklearn.metrics import mean_absolute_error\n",
    "from sklearn.model_selection import cross_val_score,GridSearchCV\n",
    "from sklearn.model_selection import ShuffleSplit\n",
    "from sklearn.model_selection import cross_val_predict\n",
    "from sklearn.model_selection import train_test_split\n",
    "from sklearn.linear_model import Ridge\n",
    "from sklearn.externals import joblib\n",
    "from sklearn.neural_network import MLPRegressor\n",
    "from sklearn.ensemble import GradientBoostingRegressor"
   ]
  },
  {
   "cell_type": "code",
   "execution_count": 2,
   "metadata": {
    "collapsed": true
   },
   "outputs": [],
   "source": [
    "data = pd.read_csv('house_prediction/data/output copy.csv')\n",
    "\n",
    "# Separate out the x_data and y_data.\n",
    "data_X = data.loc[:, [col for col in data.columns if col in [\"latitude\",\"longitude\",\"city\",\"state\",\"postal_code\",\"#bedrooms\",\"#bathrooms\",\"sqft\"]]]\n",
    "data_y = data.loc[:, \"price\"]\n",
    "#print data_X"
   ]
  },
  {
   "cell_type": "code",
   "execution_count": 3,
   "metadata": {
    "collapsed": true
   },
   "outputs": [],
   "source": [
    "\"\"\" about label encoder\n",
    "#https://stackoverflow.com/questions/24458645/label-encoding-across-multiple-columns-in-scikit-learn\n",
    "# Encoding the variable\n",
    "fit = df.apply(lambda x: d[x.name].fit_transform(x))\n",
    "# Inverse the encoded\n",
    "fit.apply(lambda x: d[x.name].inverse_transform(x))\n",
    "# Using the dictionary to label future data\n",
    "df.apply(lambda x: d[x.name].transform(x))\n",
    "\"\"\"\n",
    "encode_list = ['city','state']\n",
    "d = defaultdict(LabelEncoder)\n",
    "data_X_encoded = data_X.apply(lambda x: d[x.name].fit_transform(x) if x.name in encode_list else x)\n",
    "#print data_X_encoded"
   ]
  },
  {
   "cell_type": "code",
   "execution_count": 4,
   "metadata": {},
   "outputs": [
    {
     "name": "stdout",
     "output_type": "stream",
     "text": [
      "LabelEncoder()\n",
      "[0 1 2 3 4 5 6]\n"
     ]
    }
   ],
   "source": [
    "print d['city']\n",
    "np.save('city.npy', d['city'].classes_)\n",
    "np.save('state.npy', d['state'].classes_)\n",
    "le_city = LabelEncoder()\n",
    "le_city.classes_ = np.load('city.npy')\n",
    "le_state = LabelEncoder()\n",
    "le_state.classes_ = np.load('state.npy')\n",
    "print le_city.transform(['Atlanta','Brookhaven','College Park','Dunwoody','Marietta','Sandy Springs','Smyrna'])\n"
   ]
  },
  {
   "cell_type": "code",
   "execution_count": 12,
   "metadata": {
    "collapsed": true
   },
   "outputs": [],
   "source": [
    "#input format: latitude\tlongitude\tcity\tstate\tpostal_code\n",
    "#  #bedrooms\t#bathrooms\tsqft\td1\td2\td3\td4\td5\td6\td7\td8\td9\td10\td11\td12\td13\td14\td15\td16\td17\td18\td19\td20\n",
    "x_test = [33.913258,-84.451048,le_city.transform(['Atlanta'])[0],\n",
    "          le_state.transform(['GA'])[0],30339,5,7,8407]\n"
   ]
  },
  {
   "cell_type": "code",
   "execution_count": 6,
   "metadata": {
    "scrolled": false
   },
   "outputs": [
    {
     "name": "stdout",
     "output_type": "stream",
     "text": [
      "cross validation score of rf_model: [-0.23824588 -0.20844122 -0.23356121 -0.21602981 -0.2285855  -0.22002714\n",
      " -0.21376681 -0.22638707 -0.21034281 -0.21976963]\n"
     ]
    }
   ],
   "source": [
    "rf_model = RandomForestRegressor(n_estimators=150, criterion='mse',\n",
    "\tmax_depth=20, min_samples_split=2, min_samples_leaf=1,\n",
    "\tmin_weight_fraction_leaf=0.0, max_features='sqrt', \n",
    "\tmax_leaf_nodes=None, min_impurity_decrease=0.0, \n",
    "\tmin_impurity_split=None, bootstrap=True, oob_score=False, \n",
    "\tn_jobs=1, random_state=None, verbose=0, warm_start=False)\n",
    "\n",
    "from sklearn.metrics import fbeta_score, make_scorer\n",
    "def my_custom_loss_func(ground_truth, predictions):\n",
    "    diff = -np.abs((ground_truth - predictions)/ground_truth).mean()\n",
    "    return diff\n",
    "my_scorer = make_scorer(my_custom_loss_func, greater_is_better=True)\n",
    "cv_para = ShuffleSplit(n_splits=10, test_size=0.1, random_state=100)\n",
    "print 'cross validation score of rf_model: '+str(cross_val_score(rf_model, data_X_encoded, data_y,cv=cv_para, scoring=my_scorer))\n",
    "   \n"
   ]
  },
  {
   "cell_type": "code",
   "execution_count": 11,
   "metadata": {},
   "outputs": [
    {
     "data": {
      "text/plain": [
       "-0.221515708"
      ]
     },
     "execution_count": 11,
     "metadata": {},
     "output_type": "execute_result"
    }
   ],
   "source": [
    "cv_score = np.array([-0.23824588, -0.20844122, -0.23356121, -0.21602981, -0.2285855,  -0.22002714,-0.21376681, -0.22638707, -0.21034281, -0.21976963])\n",
    "cv_score.mean()"
   ]
  },
  {
   "cell_type": "code",
   "execution_count": 8,
   "metadata": {},
   "outputs": [
    {
     "data": {
      "text/plain": [
       "RandomForestRegressor(bootstrap=True, criterion='mse', max_depth=20,\n",
       "           max_features='sqrt', max_leaf_nodes=None,\n",
       "           min_impurity_decrease=0.0, min_impurity_split=None,\n",
       "           min_samples_leaf=1, min_samples_split=2,\n",
       "           min_weight_fraction_leaf=0.0, n_estimators=150, n_jobs=1,\n",
       "           oob_score=False, random_state=None, verbose=0, warm_start=False)"
      ]
     },
     "execution_count": 8,
     "metadata": {},
     "output_type": "execute_result"
    }
   ],
   "source": [
    "rf_model.fit(data_X_encoded, data_y)\n"
   ]
  },
  {
   "cell_type": "code",
   "execution_count": 15,
   "metadata": {},
   "outputs": [
    {
     "data": {
      "text/plain": [
       "array([896189.86666667])"
      ]
     },
     "execution_count": 15,
     "metadata": {},
     "output_type": "execute_result"
    }
   ],
   "source": [
    "#store the model\n",
    "joblib.dump(rf_model, 'rf_model_without_d.pkl')\n",
    "#to use saved model to predict\n",
    "rf = joblib.load('rf_model_without_d.pkl')\n",
    "rf.predict([x_test])"
   ]
  }
 ],
 "metadata": {
  "kernelspec": {
   "display_name": "Python 2",
   "language": "python",
   "name": "python2"
  },
  "language_info": {
   "codemirror_mode": {
    "name": "ipython",
    "version": 2
   },
   "file_extension": ".py",
   "mimetype": "text/x-python",
   "name": "python",
   "nbconvert_exporter": "python",
   "pygments_lexer": "ipython2",
   "version": "2.7.13"
  }
 },
 "nbformat": 4,
 "nbformat_minor": 2
}
