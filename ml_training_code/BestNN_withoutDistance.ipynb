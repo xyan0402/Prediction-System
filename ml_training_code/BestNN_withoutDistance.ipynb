{
 "cells": [
  {
   "cell_type": "code",
   "execution_count": 1,
   "metadata": {
    "collapsed": true
   },
   "outputs": [],
   "source": [
    "from sklearn import preprocessing\n",
    "from sklearn.preprocessing import LabelEncoder\n",
    "import math\n",
    "from collections import defaultdict\n",
    "import csv\n",
    "import pandas as pd\n",
    "import numpy as np\n",
    "from flask import jsonify\n",
    "from sklearn.ensemble import RandomForestRegressor\n",
    "from sklearn.metrics import mean_absolute_error\n",
    "from sklearn.model_selection import cross_val_score,GridSearchCV\n",
    "from sklearn.model_selection import ShuffleSplit\n",
    "from sklearn.model_selection import cross_val_predict\n",
    "from sklearn.model_selection import train_test_split\n",
    "from sklearn.linear_model import Ridge\n",
    "from sklearn.externals import joblib\n",
    "from sklearn.neural_network import MLPRegressor\n",
    "from sklearn.ensemble import GradientBoostingRegressor"
   ]
  },
  {
   "cell_type": "code",
   "execution_count": 2,
   "metadata": {
    "collapsed": true
   },
   "outputs": [],
   "source": [
    "data = pd.read_csv('house_prediction/data/output copy.csv')\n",
    "\n",
    "# Separate out the x_data and y_data.\n",
    "data_X = data.loc[:, [col for col in data.columns if col in [\"latitude\",\"longitude\",\"city\",\"state\",\"postal_code\",\"#bedrooms\",\"#bathrooms\",\"sqft\"]]]\n",
    "data_y = data.loc[:, \"price\"]\n",
    "#print data_X"
   ]
  },
  {
   "cell_type": "code",
   "execution_count": 3,
   "metadata": {
    "collapsed": true
   },
   "outputs": [],
   "source": [
    "\"\"\" about label encoder\n",
    "#https://stackoverflow.com/questions/24458645/label-encoding-across-multiple-columns-in-scikit-learn\n",
    "# Encoding the variable\n",
    "fit = df.apply(lambda x: d[x.name].fit_transform(x))\n",
    "# Inverse the encoded\n",
    "fit.apply(lambda x: d[x.name].inverse_transform(x))\n",
    "# Using the dictionary to label future data\n",
    "df.apply(lambda x: d[x.name].transform(x))\n",
    "\"\"\"\n",
    "encode_list = ['city','state']\n",
    "d = defaultdict(LabelEncoder)\n",
    "data_X_encoded = data_X.apply(lambda x: d[x.name].fit_transform(x) if x.name in encode_list else x)\n",
    "#print data_X_encoded"
   ]
  },
  {
   "cell_type": "code",
   "execution_count": 4,
   "metadata": {},
   "outputs": [
    {
     "name": "stdout",
     "output_type": "stream",
     "text": [
      "LabelEncoder()\n",
      "[0 1 2 3 4 5 6]\n"
     ]
    }
   ],
   "source": [
    "print d['city']\n",
    "np.save('city.npy', d['city'].classes_)\n",
    "np.save('state.npy', d['state'].classes_)\n",
    "le_city = LabelEncoder()\n",
    "le_city.classes_ = np.load('city.npy')\n",
    "le_state = LabelEncoder()\n",
    "le_state.classes_ = np.load('state.npy')\n",
    "print le_city.transform(['Atlanta','Brookhaven','College Park','Dunwoody','Marietta','Sandy Springs','Smyrna'])\n"
   ]
  },
  {
   "cell_type": "code",
   "execution_count": 6,
   "metadata": {
    "collapsed": true
   },
   "outputs": [],
   "source": [
    "#input format: latitude\tlongitude\tcity\tstate\tpostal_code\n",
    "#  #bedrooms\t#bathrooms\tsqft\td1\td2\td3\td4\td5\td6\td7\td8\td9\td10\td11\td12\td13\td14\td15\td16\td17\td18\td19\td20\n",
    "x_test = [33.913258,-84.451048,le_city.transform(['Atlanta'])[0],\n",
    "          le_state.transform(['GA'])[0],30339,5,7,8407]\n"
   ]
  },
  {
   "cell_type": "code",
   "execution_count": 7,
   "metadata": {
    "collapsed": true
   },
   "outputs": [],
   "source": [
    "from sklearn.metrics import fbeta_score, make_scorer\n",
    "def my_custom_loss_func(ground_truth, predictions):\n",
    "    diff = -np.abs((ground_truth - predictions)/ground_truth).mean()\n",
    "    return diff\n",
    "my_scorer = make_scorer(my_custom_loss_func, greater_is_better=True)\n",
    "cv_para = ShuffleSplit(n_splits=10, test_size=0.1, random_state=100)"
   ]
  },
  {
   "cell_type": "code",
   "execution_count": 24,
   "metadata": {},
   "outputs": [
    {
     "name": "stdout",
     "output_type": "stream",
     "text": [
      "[CV]  ................................................................\n",
      "[CV]  ................................................................\n",
      "[CV]  ................................................................\n",
      "[CV] .......................... , score=-0.666815486827, total=   7.0s\n",
      "[CV]  ................................................................\n",
      "[CV] .......................... , score=-0.623588034448, total=   7.2s\n",
      "[CV]  ................................................................\n",
      "[CV] .......................... , score=-0.617937194273, total=   7.5s\n",
      "[CV]  ................................................................\n",
      "[CV] .......................... , score=-0.614037661707, total=   8.1s\n",
      "[CV]  ................................................................\n",
      "[CV] .......................... , score=-0.660729768062, total=   9.6s\n",
      "[CV]  ................................................................\n",
      "[CV] .......................... , score=-0.628211864116, total= 1.2min\n",
      "[CV]  ................................................................\n"
     ]
    },
    {
     "name": "stderr",
     "output_type": "stream",
     "text": [
      "/Users/wqshen/anaconda2/lib/python2.7/site-packages/sklearn/neural_network/multilayer_perceptron.py:564: ConvergenceWarning: Stochastic Optimizer: Maximum iterations (10000) reached and the optimization hasn't converged yet.\n",
      "  % self.max_iter, ConvergenceWarning)\n"
     ]
    },
    {
     "name": "stdout",
     "output_type": "stream",
     "text": [
      "[CV] .......................... , score=-0.997970832152, total= 3.1min\n",
      "[CV]  ................................................................\n"
     ]
    },
    {
     "name": "stderr",
     "output_type": "stream",
     "text": [
      "/Users/wqshen/anaconda2/lib/python2.7/site-packages/sklearn/neural_network/multilayer_perceptron.py:564: ConvergenceWarning: Stochastic Optimizer: Maximum iterations (10000) reached and the optimization hasn't converged yet.\n",
      "  % self.max_iter, ConvergenceWarning)\n"
     ]
    },
    {
     "name": "stdout",
     "output_type": "stream",
     "text": [
      "[CV] .......................... , score=-0.998051736409, total= 3.3min\n"
     ]
    },
    {
     "name": "stderr",
     "output_type": "stream",
     "text": [
      "[Parallel(n_jobs=3)]: Done   8 out of  10 | elapsed:  3.7min remaining:   55.8s\n"
     ]
    },
    {
     "name": "stdout",
     "output_type": "stream",
     "text": [
      "[CV] .......................... , score=-0.640464439604, total=  51.5s\n"
     ]
    },
    {
     "name": "stderr",
     "output_type": "stream",
     "text": [
      "/Users/wqshen/anaconda2/lib/python2.7/site-packages/sklearn/neural_network/multilayer_perceptron.py:564: ConvergenceWarning: Stochastic Optimizer: Maximum iterations (10000) reached and the optimization hasn't converged yet.\n",
      "  % self.max_iter, ConvergenceWarning)\n"
     ]
    },
    {
     "name": "stdout",
     "output_type": "stream",
     "text": [
      "[CV] .......................... , score=-0.998034374631, total= 2.8min\n",
      "cross validation score of rf_model: -0.7445841392228868\n"
     ]
    },
    {
     "name": "stderr",
     "output_type": "stream",
     "text": [
      "[Parallel(n_jobs=3)]: Done  10 out of  10 | elapsed:  4.2min finished\n"
     ]
    }
   ],
   "source": [
    "nn_model = MLPRegressor(hidden_layer_sizes=(1, ), activation='relu',\n",
    "             solver='adam', alpha=0.00001, batch_size='auto',\n",
    "             learning_rate='constant', learning_rate_init=0.001,\n",
    "             power_t=0.5, max_iter=10000, shuffle=True,\n",
    "             random_state=None, tol=0.001, verbose=False, \n",
    "             warm_start=False, momentum=0.9, nesterovs_momentum=True, \n",
    "             early_stopping=False, validation_fraction=0.1,\n",
    "             beta_1=0.9, beta_2=0.999, epsilon=1e-08)\n",
    "\n",
    "\n",
    "print 'cross validation score of rf_model: '+str(cross_val_score(nn_model, data_X_encoded, data_y,n_jobs=3,verbose=5,cv=cv_para, scoring=my_scorer).mean())\n",
    "   \n"
   ]
  },
  {
   "cell_type": "code",
   "execution_count": 9,
   "metadata": {
    "scrolled": true
   },
   "outputs": [
    {
     "name": "stdout",
     "output_type": "stream",
     "text": [
      "[CV]  ................................................................\n",
      "[CV]  ................................................................\n",
      "[CV]  ................................................................\n",
      "[CV] .......................... , score=-0.461521046711, total= 1.8min\n",
      "[CV]  ................................................................\n",
      "[CV] .......................... , score=-0.485031430779, total= 1.8min\n",
      "[CV]  ................................................................\n",
      "[CV] .......................... , score=-0.478265010351, total= 1.8min\n",
      "[CV]  ................................................................\n",
      "[CV] .......................... , score=-0.457180777178, total= 1.9min\n",
      "[CV]  ................................................................\n",
      "[CV] .......................... , score=-0.450722283666, total= 1.9min\n",
      "[CV]  ................................................................\n",
      "[CV] ........................... , score=-0.47736119045, total= 1.9min\n",
      "[CV]  ................................................................\n",
      "[CV] .......................... , score=-0.472823967747, total= 1.9min\n",
      "[CV]  ................................................................\n",
      "[CV] .......................... , score=-0.465474265071, total= 1.9min\n"
     ]
    },
    {
     "name": "stderr",
     "output_type": "stream",
     "text": [
      "[Parallel(n_jobs=3)]: Done   8 out of  10 | elapsed:  5.6min remaining:  1.4min\n"
     ]
    },
    {
     "name": "stdout",
     "output_type": "stream",
     "text": [
      "[CV] .......................... , score=-0.460421576576, total= 1.9min\n",
      "[CV] .......................... , score=-0.477096477882, total= 1.2min\n",
      "cross validation score of rf_model: -0.46858980264105565\n"
     ]
    },
    {
     "name": "stderr",
     "output_type": "stream",
     "text": [
      "[Parallel(n_jobs=3)]: Done  10 out of  10 | elapsed:  6.8min finished\n"
     ]
    }
   ],
   "source": [
    "from sklearn.svm import SVC\n",
    "svc_model = SVC()\n",
    "print 'cross validation score of rf_model: '+str(cross_val_score(svc_model, data_X_encoded, data_y,n_jobs=3,verbose=5,cv=cv_para, scoring=my_scorer).mean())\n",
    "   \n"
   ]
  },
  {
   "cell_type": "code",
   "execution_count": 8,
   "metadata": {},
   "outputs": [
    {
     "name": "stdout",
     "output_type": "stream",
     "text": [
      "[[ 0.17792227  0.54697493 -0.39687684 ... -1.53343023 -1.23569297\n",
      "  -0.97767581]\n",
      " [ 1.33052822 -0.77654031 -0.39687684 ...  1.72579362  4.00495537\n",
      "   6.37645612]\n",
      " [-0.3522976   0.6008744  -0.39687684 ...  0.09618169  0.07446912\n",
      "   1.80089736]\n",
      " ...\n",
      " [ 0.96056049 -1.64351593  3.1885446  ... -0.71862427 -1.23569297\n",
      "  -0.93491358]\n",
      " [ 1.07629065 -1.28557789  3.1885446  ...  0.09618169 -0.79897227\n",
      "  -0.77261148]\n",
      " [-0.17704909 -0.33560701 -0.39687684 ...  0.91098766  0.51118981\n",
      "   0.92718722]]\n"
     ]
    }
   ],
   "source": [
    "from sklearn.preprocessing import StandardScaler, normalize\n",
    "scaler = StandardScaler()\n",
    "scaler.fit(data_X_encoded)\n",
    "data_X_encoded_p = scaler.transform(data_X_encoded)\n",
    "print data_X_encoded_p"
   ]
  },
  {
   "cell_type": "code",
   "execution_count": 12,
   "metadata": {},
   "outputs": [
    {
     "name": "stdout",
     "output_type": "stream",
     "text": [
      "Fitting 10 folds for each of 3 candidates, totalling 30 fits\n",
      "[CV] C=0.001 .........................................................\n",
      "[CV] C=0.001 .........................................................\n",
      "[CV] C=0.001 .........................................................\n",
      "[CV] ................... C=0.001, score=-0.548685773639, total= 1.8min\n",
      "[CV] C=0.001 .........................................................\n"
     ]
    },
    {
     "name": "stderr",
     "output_type": "stream",
     "text": [
      "[Parallel(n_jobs=3)]: Done   1 tasks      | elapsed: 13.5min\n"
     ]
    },
    {
     "name": "stdout",
     "output_type": "stream",
     "text": [
      "[CV] ................... C=0.001, score=-0.552738766195, total= 1.8min\n",
      "[CV] C=0.001 .........................................................\n"
     ]
    },
    {
     "name": "stderr",
     "output_type": "stream",
     "text": [
      "[Parallel(n_jobs=3)]: Done   2 tasks      | elapsed: 13.7min\n"
     ]
    },
    {
     "name": "stdout",
     "output_type": "stream",
     "text": [
      "[CV] ................... C=0.001, score=-0.555131516748, total= 1.8min\n",
      "[CV] C=0.001 .........................................................\n"
     ]
    },
    {
     "name": "stderr",
     "output_type": "stream",
     "text": [
      "[Parallel(n_jobs=3)]: Done   3 tasks      | elapsed: 13.7min\n"
     ]
    },
    {
     "name": "stdout",
     "output_type": "stream",
     "text": [
      "[CV] ................... C=0.001, score=-0.548157195611, total= 1.4min\n",
      "[CV] C=0.001 .........................................................\n"
     ]
    },
    {
     "name": "stderr",
     "output_type": "stream",
     "text": [
      "[Parallel(n_jobs=3)]: Done   4 tasks      | elapsed: 25.0min\n"
     ]
    },
    {
     "name": "stdout",
     "output_type": "stream",
     "text": [
      "[CV] ................... C=0.001, score=-0.534930729332, total= 1.4min\n",
      "[CV] C=0.001 .........................................................\n"
     ]
    },
    {
     "name": "stderr",
     "output_type": "stream",
     "text": [
      "[Parallel(n_jobs=3)]: Done   5 tasks      | elapsed: 25.3min\n"
     ]
    },
    {
     "name": "stdout",
     "output_type": "stream",
     "text": [
      "[CV] ................... C=0.001, score=-0.545654846005, total= 1.4min\n",
      "[CV] C=0.001 .........................................................\n"
     ]
    },
    {
     "name": "stderr",
     "output_type": "stream",
     "text": [
      "[Parallel(n_jobs=3)]: Done   6 tasks      | elapsed: 25.4min\n"
     ]
    },
    {
     "name": "stdout",
     "output_type": "stream",
     "text": [
      "[CV] ................... C=0.001, score=-0.550977461554, total= 1.4min\n",
      "[CV] C=0.001 .........................................................\n"
     ]
    },
    {
     "name": "stderr",
     "output_type": "stream",
     "text": [
      "[Parallel(n_jobs=3)]: Done   7 tasks      | elapsed: 37.4min\n"
     ]
    },
    {
     "name": "stdout",
     "output_type": "stream",
     "text": [
      "[CV] ................... C=0.001, score=-0.533347070178, total= 1.5min\n",
      "[CV] C=0.1 ...........................................................\n"
     ]
    },
    {
     "name": "stderr",
     "output_type": "stream",
     "text": [
      "[Parallel(n_jobs=3)]: Done   8 tasks      | elapsed: 37.6min\n"
     ]
    },
    {
     "name": "stdout",
     "output_type": "stream",
     "text": [
      "[CV] .................... C=0.001, score=-0.53593552453, total= 1.5min\n",
      "[CV] C=0.1 ...........................................................\n"
     ]
    },
    {
     "name": "stderr",
     "output_type": "stream",
     "text": [
      "[Parallel(n_jobs=3)]: Done   9 tasks      | elapsed: 37.7min\n"
     ]
    },
    {
     "name": "stdout",
     "output_type": "stream",
     "text": [
      "[CV] ................... C=0.001, score=-0.532168792498, total= 1.4min\n",
      "[CV] C=0.1 ...........................................................\n"
     ]
    },
    {
     "name": "stderr",
     "output_type": "stream",
     "text": [
      "[Parallel(n_jobs=3)]: Done  10 tasks      | elapsed: 49.6min\n"
     ]
    },
    {
     "name": "stdout",
     "output_type": "stream",
     "text": [
      "[CV] ..................... C=0.1, score=-0.461028660597, total= 1.5min\n",
      "[CV] C=0.1 ...........................................................\n"
     ]
    },
    {
     "name": "stderr",
     "output_type": "stream",
     "text": [
      "[Parallel(n_jobs=3)]: Done  11 tasks      | elapsed: 49.7min\n"
     ]
    },
    {
     "name": "stdout",
     "output_type": "stream",
     "text": [
      "[CV] ..................... C=0.1, score=-0.495865812193, total= 1.5min\n",
      "[CV] C=0.1 ...........................................................\n"
     ]
    },
    {
     "name": "stderr",
     "output_type": "stream",
     "text": [
      "[Parallel(n_jobs=3)]: Done  12 tasks      | elapsed: 49.9min\n"
     ]
    },
    {
     "name": "stdout",
     "output_type": "stream",
     "text": [
      "[CV] ..................... C=0.1, score=-0.501050486902, total= 1.7min\n",
      "[CV] C=0.1 ...........................................................\n"
     ]
    },
    {
     "name": "stderr",
     "output_type": "stream",
     "text": [
      "[Parallel(n_jobs=3)]: Done  13 tasks      | elapsed: 62.8min\n"
     ]
    },
    {
     "name": "stdout",
     "output_type": "stream",
     "text": [
      "[CV] ..................... C=0.1, score=-0.496909949181, total= 1.6min\n",
      "[CV] C=0.1 ...........................................................\n"
     ]
    },
    {
     "name": "stderr",
     "output_type": "stream",
     "text": [
      "[Parallel(n_jobs=3)]: Done  14 tasks      | elapsed: 62.9min\n"
     ]
    },
    {
     "name": "stdout",
     "output_type": "stream",
     "text": [
      "[CV] ..................... C=0.1, score=-0.447653606935, total= 1.7min\n",
      "[CV] C=0.1 ...........................................................\n"
     ]
    },
    {
     "name": "stderr",
     "output_type": "stream",
     "text": [
      "[Parallel(n_jobs=3)]: Done  15 tasks      | elapsed: 63.2min\n"
     ]
    },
    {
     "name": "stdout",
     "output_type": "stream",
     "text": [
      "[CV] ....................... C=0.1, score=-0.4571503133, total= 1.6min\n",
      "[CV] C=0.1 ...........................................................\n"
     ]
    },
    {
     "name": "stderr",
     "output_type": "stream",
     "text": [
      "[Parallel(n_jobs=3)]: Done  16 tasks      | elapsed: 75.8min\n"
     ]
    },
    {
     "name": "stdout",
     "output_type": "stream",
     "text": [
      "[CV] ..................... C=0.1, score=-0.490249889201, total= 1.6min\n",
      "[CV] C=0.1 ...........................................................\n"
     ]
    },
    {
     "name": "stderr",
     "output_type": "stream",
     "text": [
      "[Parallel(n_jobs=3)]: Done  17 tasks      | elapsed: 76.3min\n"
     ]
    },
    {
     "name": "stdout",
     "output_type": "stream",
     "text": [
      "[CV] ..................... C=0.1, score=-0.429328977152, total= 1.7min\n",
      "[CV] C=10 ............................................................\n"
     ]
    },
    {
     "name": "stderr",
     "output_type": "stream",
     "text": [
      "[Parallel(n_jobs=3)]: Done  18 tasks      | elapsed: 76.5min\n"
     ]
    },
    {
     "name": "stdout",
     "output_type": "stream",
     "text": [
      "[CV] ..................... C=0.1, score=-0.406919519827, total= 1.6min\n",
      "[CV] C=10 ............................................................\n"
     ]
    },
    {
     "name": "stderr",
     "output_type": "stream",
     "text": [
      "[Parallel(n_jobs=3)]: Done  19 tasks      | elapsed: 89.8min\n"
     ]
    },
    {
     "name": "stdout",
     "output_type": "stream",
     "text": [
      "[CV] ..................... C=0.1, score=-0.423048273594, total= 1.7min\n",
      "[CV] C=10 ............................................................\n"
     ]
    },
    {
     "name": "stderr",
     "output_type": "stream",
     "text": [
      "[Parallel(n_jobs=3)]: Done  20 tasks      | elapsed: 90.3min\n"
     ]
    },
    {
     "name": "stdout",
     "output_type": "stream",
     "text": [
      "[CV] ...................... C=10, score=-0.326332437021, total= 1.9min\n",
      "[CV] C=10 ............................................................\n"
     ]
    },
    {
     "name": "stderr",
     "output_type": "stream",
     "text": [
      "[Parallel(n_jobs=3)]: Done  21 tasks      | elapsed: 91.3min\n"
     ]
    },
    {
     "name": "stdout",
     "output_type": "stream",
     "text": [
      "[CV] ...................... C=10, score=-0.275029344757, total= 1.8min\n",
      "[CV] C=10 ............................................................\n"
     ]
    },
    {
     "name": "stderr",
     "output_type": "stream",
     "text": [
      "[Parallel(n_jobs=3)]: Done  22 tasks      | elapsed: 103.9min\n"
     ]
    },
    {
     "name": "stdout",
     "output_type": "stream",
     "text": [
      "[CV] ...................... C=10, score=-0.319762636839, total= 1.8min\n",
      "[CV] C=10 ............................................................\n"
     ]
    },
    {
     "name": "stderr",
     "output_type": "stream",
     "text": [
      "[Parallel(n_jobs=3)]: Done  23 tasks      | elapsed: 104.8min\n"
     ]
    },
    {
     "name": "stdout",
     "output_type": "stream",
     "text": [
      "[CV] ...................... C=10, score=-0.303650514269, total= 1.9min\n",
      "[CV] C=10 ............................................................\n"
     ]
    },
    {
     "name": "stderr",
     "output_type": "stream",
     "text": [
      "[Parallel(n_jobs=3)]: Done  24 tasks      | elapsed: 105.5min\n"
     ]
    },
    {
     "name": "stdout",
     "output_type": "stream",
     "text": [
      "[CV] ...................... C=10, score=-0.319252849186, total= 1.8min\n",
      "[CV] C=10 ............................................................\n"
     ]
    },
    {
     "name": "stderr",
     "output_type": "stream",
     "text": [
      "[Parallel(n_jobs=3)]: Done  25 tasks      | elapsed: 117.8min\n"
     ]
    },
    {
     "name": "stdout",
     "output_type": "stream",
     "text": [
      "[CV] ...................... C=10, score=-0.304298274157, total= 1.8min\n",
      "[CV] C=10 ............................................................\n",
      "[CV] ...................... C=10, score=-0.300108217563, total= 2.0min\n",
      "[CV] C=10 ............................................................\n"
     ]
    },
    {
     "name": "stderr",
     "output_type": "stream",
     "text": [
      "[Parallel(n_jobs=3)]: Done  27 out of  30 | elapsed: 119.2min remaining: 13.2min\n"
     ]
    },
    {
     "name": "stdout",
     "output_type": "stream",
     "text": [
      "[CV] ...................... C=10, score=-0.309919726508, total= 1.6min\n",
      "[CV] ...................... C=10, score=-0.287017812432, total= 1.7min\n",
      "[CV] ...................... C=10, score=-0.305581637343, total= 1.7min\n"
     ]
    },
    {
     "name": "stderr",
     "output_type": "stream",
     "text": [
      "[Parallel(n_jobs=3)]: Done  30 out of  30 | elapsed: 131.2min finished\n"
     ]
    },
    {
     "name": "stdout",
     "output_type": "stream",
     "text": [
      "('rf best para:', {'C': 10})\n",
      "('rf best score:', -0.30509534500757457)\n",
      "('results', {'rank_test_score': array([3, 2, 1], dtype=int32), 'split6_test_score': array([-0.55097746, -0.49024989, -0.30010822]), 'split7_train_score': array([-0.54306008, -0.4259885 , -0.27006753]), 'split0_train_score': array([-0.54092719, -0.47195885, -0.26373434]), 'split2_test_score': array([-0.55273877, -0.49690995, -0.31976264]), 'mean_fit_time': array([18.44693127, 22.80918329, 27.83457992]), 'split3_train_score': array([-0.54170212, -0.49190211, -0.26397375]), 'param_C': masked_array(data=[0.001, 0.1, 10],\n",
      "             mask=[False, False, False],\n",
      "       fill_value='?',\n",
      "            dtype=object), 'split6_train_score': array([-0.54138875, -0.48103573, -0.26822729]), 'split9_test_score': array([-0.53216879, -0.42304827, -0.30558164]), 'std_test_score': array([0.00831368, 0.03244336, 0.01465758]), 'params': [{'C': 0.001}, {'C': 0.1}, {'C': 10}], 'std_fit_time': array([0.60951674, 0.9254287 , 1.29243519]), 'std_score_time': array([9.38244611, 4.78871463, 5.3638929 ]), 'split8_test_score': array([-0.53334707, -0.40691952, -0.28701781]), 'std_train_score': array([0.00092374, 0.0254618 , 0.00235815]), 'split4_test_score': array([-0.54565485, -0.44765361, -0.31925285]), 'split1_train_score': array([-0.54164338, -0.47124263, -0.26275242]), 'split2_train_score': array([-0.54119305, -0.48278602, -0.26673277]), 'split4_train_score': array([-0.54198015, -0.44302477, -0.26448863]), 'mean_score_time': array([73.36190081, 74.06640401, 79.92794487]), 'split9_train_score': array([-0.5434786 , -0.43170556, -0.2658083 ]), 'split5_test_score': array([-0.53493073, -0.45715031, -0.30429827]), 'mean_train_score': array([-0.54218927, -0.45763164, -0.2655058 ]), 'split8_train_score': array([-0.54334768, -0.41481913, -0.26237997]), 'split7_test_score': array([-0.53593552, -0.42932898, -0.30991973]), 'split0_test_score': array([-0.55513152, -0.49586581, -0.32633244]), 'mean_test_score': array([-0.54377277, -0.46092055, -0.30509535]), 'split3_test_score': array([-0.5481572 , -0.50105049, -0.30365051]), 'split5_train_score': array([-0.54317172, -0.4618531 , -0.26689299]), 'split1_test_score': array([-0.54868577, -0.46102866, -0.27502934])})\n"
     ]
    }
   ],
   "source": [
    "parameters = {'C':[0.001,0.1,10]}\n",
    "clf = GridSearchCV(svc_model, parameters,scoring=my_scorer,cv=cv_para,verbose=30,n_jobs=3)\n",
    "clf.fit(data_X_encoded_p,data_y)\n",
    "print (\"rf best para:\",clf.best_params_)\n",
    "print (\"rf best score:\",clf.best_score_)\n",
    "print (\"results\",clf.cv_results_)"
   ]
  },
  {
   "cell_type": "code",
   "execution_count": 23,
   "metadata": {},
   "outputs": [
    {
     "name": "stdout",
     "output_type": "stream",
     "text": [
      "[CV]  ................................................................\n",
      "[CV]  ................................................................\n",
      "[CV]  ................................................................\n",
      "[CV] .......................... , score=-0.490700514525, total=   0.0s\n",
      "[CV]  ................................................................\n",
      "[CV] .......................... , score=-0.434454080605, total=   0.0s\n",
      "[CV] .......................... , score=-0.485308229445, total=   0.0s\n",
      "[CV] .......................... , score=-0.458384502219, total=   0.0s\n",
      "[CV]  ................................................................\n",
      "[CV]  ................................................................\n",
      "[CV] .......................... , score=-0.497703194798, total=   0.0s\n",
      "[CV] .......................... , score=-0.477885625895, total=   0.0s\n",
      "[CV]  ................................................................\n",
      "[CV] ........................... , score=-0.47646771997, total=   0.0s\n",
      "[CV]  ................................................................\n",
      "[CV] ........................... , score=-0.46217441952, total=   0.0s\n",
      "[CV]  ................................................................\n",
      "[CV] .......................... , score=-0.461933998454, total=   0.0s\n",
      "[CV]  ................................................................\n",
      "[CV] .......................... , score=-0.474676117838, total=   0.0s\n",
      "cross validation score of rf_model: -0.47196884032690345\n"
     ]
    },
    {
     "name": "stderr",
     "output_type": "stream",
     "text": [
      "[Parallel(n_jobs=3)]: Done   5 out of  10 | elapsed:    0.1s remaining:    0.1s\n",
      "[Parallel(n_jobs=3)]: Done  10 out of  10 | elapsed:    0.2s finished\n"
     ]
    }
   ],
   "source": [
    "ridge1_model = Ridge(alpha=100, fit_intercept=True, normalize=False, copy_X=True, \n",
    "      max_iter=None, tol=0.001, solver='auto', random_state=None)\n",
    "print 'cross validation score of rf_model: '+str(cross_val_score(ridge1_model, data_X_encoded_p, data_y,n_jobs=3,verbose=5,cv=cv_para, scoring=my_scorer).mean())\n",
    "   \n"
   ]
  },
  {
   "cell_type": "code",
   "execution_count": 16,
   "metadata": {},
   "outputs": [
    {
     "name": "stdout",
     "output_type": "stream",
     "text": [
      "Fitting 10 folds for each of 7 candidates, totalling 70 fits\n",
      "[CV] alpha=0.0001 ....................................................\n",
      "[CV] alpha=0.0001 ....................................................\n",
      "[CV] alpha=0.0001 ....................................................\n",
      "[CV] .............. alpha=0.0001, score=-0.489634001408, total=   0.1s\n",
      "[CV] .............. alpha=0.0001, score=-0.432766017941, total=   0.1s\n",
      "[CV] alpha=0.0001 ....................................................\n",
      "[CV] .............. alpha=0.0001, score=-0.483605198348, total=   0.1s\n",
      "[CV] .............. alpha=0.0001, score=-0.456300361862, total=   0.0s\n",
      "[CV] alpha=0.0001 ....................................................\n",
      "[CV] alpha=0.0001 ....................................................\n",
      "[CV] .............. alpha=0.0001, score=-0.494684896224, total=   0.0s\n",
      "[CV] alpha=0.0001 ....................................................\n",
      "[CV] .............. alpha=0.0001, score=-0.475047196042, total=   0.0s\n",
      "[CV] ............... alpha=0.0001, score=-0.47524079933, total=   0.0s\n",
      "[CV] alpha=0.001 .....................................................\n",
      "[CV] alpha=0.0001 ....................................................\n",
      "[CV] alpha=0.0001 ....................................................\n",
      "[CV] .............. alpha=0.0001, score=-0.459818025345, total=   0.0s\n",
      "[CV] alpha=0.001 .....................................................\n",
      "[CV] ............... alpha=0.001, score=-0.489634011139, total=   0.0s\n",
      "[CV] .............. alpha=0.0001, score=-0.459870442065, total=   0.0s\n",
      "[CV] alpha=0.0001 ....................................................\n",
      "[CV] alpha=0.001 .....................................................\n",
      "[CV] ................ alpha=0.001, score=-0.48360521326, total=   0.0s\n",
      "[CV] .............. alpha=0.0001, score=-0.472638946901, total=   0.0s\n",
      "[CV] ............... alpha=0.001, score=-0.432766032247, total=   0.0s\n",
      "[CV] alpha=0.001 .....................................................\n",
      "[CV] alpha=0.001 .....................................................\n",
      "[CV] alpha=0.001 .....................................................\n",
      "[CV] ............... alpha=0.001, score=-0.456300380489, total=   0.0s\n",
      "[CV] ............... alpha=0.001, score=-0.494684923139, total=   0.0s\n",
      "[CV] ............... alpha=0.001, score=-0.475240810233, total=   0.0s\n",
      "[CV] alpha=0.001 .....................................................\n",
      "[CV] alpha=0.001 .....................................................\n",
      "[CV] alpha=0.001 .....................................................\n",
      "[CV] ............... alpha=0.001, score=-0.475047222086, total=   0.0s\n"
     ]
    },
    {
     "name": "stderr",
     "output_type": "stream",
     "text": [
      "[Parallel(n_jobs=3)]: Done   1 tasks      | elapsed:    0.1s\n",
      "[Parallel(n_jobs=3)]: Batch computation too fast (0.1295s.) Setting batch_size=2.\n",
      "[Parallel(n_jobs=3)]: Done   2 tasks      | elapsed:    0.2s\n",
      "[Parallel(n_jobs=3)]: Done   3 tasks      | elapsed:    0.2s\n",
      "[Parallel(n_jobs=3)]: Done   4 tasks      | elapsed:    0.2s\n",
      "[Parallel(n_jobs=3)]: Done   5 tasks      | elapsed:    0.2s\n",
      "[Parallel(n_jobs=3)]: Done   6 tasks      | elapsed:    0.2s\n",
      "[Parallel(n_jobs=3)]: Done   8 tasks      | elapsed:    0.2s\n",
      "[Parallel(n_jobs=3)]: Batch computation too fast (0.1039s.) Setting batch_size=6.\n",
      "[Parallel(n_jobs=3)]: Done  10 tasks      | elapsed:    0.3s\n",
      "[Parallel(n_jobs=3)]: Done  12 tasks      | elapsed:    0.3s\n",
      "[Parallel(n_jobs=3)]: Done  14 tasks      | elapsed:    0.3s\n",
      "[Parallel(n_jobs=3)]: Done  16 tasks      | elapsed:    0.3s\n"
     ]
    },
    {
     "name": "stdout",
     "output_type": "stream",
     "text": [
      "[CV] ............... alpha=0.001, score=-0.459818046424, total=   0.0s\n",
      "[CV] ............... alpha=0.001, score=-0.459870459792, total=   0.0s\n",
      "[CV] alpha=0.01 ......................................................\n",
      "[CV] alpha=0.001 .....................................................\n",
      "[CV] ................ alpha=0.01, score=-0.494685192287, total=   0.0s\n",
      "[CV] alpha=0.1 .......................................................\n",
      "[CV] alpha=0.01 ......................................................\n",
      "[CV] ............... alpha=0.001, score=-0.472638964783, total=   0.0s\n",
      "[CV] ................. alpha=0.1, score=-0.489635081469, total=   0.0s\n",
      "[CV] ................ alpha=0.01, score=-0.475047482521, total=   0.0s\n",
      "[CV] alpha=0.01 ......................................................\n",
      "[CV] alpha=0.01 ......................................................\n",
      "[CV] alpha=0.1 .......................................................\n",
      "[CV] ................ alpha=0.01, score=-0.489634108444, total=   0.0s\n",
      "[CV] ................ alpha=0.01, score=-0.475240919266, total=   0.0s\n",
      "[CV] alpha=0.01 ......................................................\n",
      "[CV] alpha=0.01 ......................................................\n",
      "[CV] ................. alpha=0.1, score=-0.432767605823, total=   0.0s\n",
      "[CV] alpha=0.1 .......................................................\n",
      "[CV] ................ alpha=0.01, score=-0.432766175304, total=   0.0s\n",
      "[CV] ................. alpha=0.1, score=-0.483606853515, total=   0.0s\n",
      "[CV] ................ alpha=0.01, score=-0.459818257212, total=   0.0s\n",
      "[CV] alpha=0.01 ......................................................\n",
      "[CV] alpha=0.01 ......................................................\n",
      "[CV] ................ alpha=0.01, score=-0.459870637061, total=   0.0s\n",
      "[CV] alpha=0.01 ......................................................\n",
      "[CV] alpha=0.1 .......................................................\n",
      "[CV] ................ alpha=0.01, score=-0.483605362378, total=   0.0s\n",
      "[CV] alpha=0.01 ......................................................\n",
      "[CV] ................ alpha=0.01, score=-0.472639143607, total=   0.0s\n",
      "[CV] ................. alpha=0.1, score=-0.456302429426, total=   0.0s\n",
      "[CV] alpha=0.1 .......................................................\n",
      "[CV] alpha=0.1 .......................................................\n",
      "[CV] ................. alpha=0.1, score=-0.475242009571, total=   0.0s\n",
      "[CV] ................ alpha=0.01, score=-0.456300566762, total=   0.0s\n",
      "[CV] alpha=0.1 .......................................................\n",
      "[CV] alpha=1 .........................................................\n",
      "[CV] ................. alpha=0.1, score=-0.494687883666, total=   0.0s\n",
      "[CV] ................. alpha=0.1, score=-0.459820364993, total=   0.0s\n",
      "[CV] alpha=0.1 .......................................................\n",
      "[CV] alpha=0.1 .......................................................\n",
      "[CV] ................... alpha=1, score=-0.483621760421, total=   0.0s\n",
      "[CV] alpha=1 .........................................................\n",
      "[CV] ................. alpha=0.1, score=-0.459872409688, total=   0.0s\n",
      "[CV] ................. alpha=0.1, score=-0.475050086777, total=   0.0s\n"
     ]
    },
    {
     "name": "stderr",
     "output_type": "stream",
     "text": [
      "[Parallel(n_jobs=3)]: Done  18 tasks      | elapsed:    0.3s\n",
      "[Parallel(n_jobs=3)]: Done  24 tasks      | elapsed:    0.5s\n",
      "[Parallel(n_jobs=3)]: Batch computation too fast (0.1943s.) Setting batch_size=12.\n",
      "[Parallel(n_jobs=3)]: Done  30 tasks      | elapsed:    0.5s\n",
      "[Parallel(n_jobs=3)]: Done  36 tasks      | elapsed:    0.6s\n"
     ]
    },
    {
     "name": "stdout",
     "output_type": "stream",
     "text": [
      "[CV] ................... alpha=1, score=-0.456321049624, total=   0.0s\n",
      "[CV] alpha=0.1 .......................................................\n",
      "[CV] alpha=1 .........................................................\n",
      "[CV] alpha=1 .........................................................\n",
      "[CV] ................... alpha=1, score=-0.459890129843, total=   0.0s\n",
      "[CV] ................. alpha=0.1, score=-0.472640931786, total=   0.0s\n",
      "[CV] alpha=1 .........................................................\n",
      "[CV] alpha=1 .........................................................\n",
      "[CV] ................... alpha=1, score=-0.494714951165, total=   0.0s\n",
      "[CV] ................... alpha=1, score=-0.489644808551, total=   0.0s\n",
      "[CV] alpha=1 .........................................................\n",
      "[CV] alpha=1 .........................................................\n",
      "[CV] ................... alpha=1, score=-0.472658807603, total=   0.0s\n",
      "[CV] .................... alpha=1, score=-0.43278190566, total=   0.0s\n",
      "[CV] ................... alpha=1, score=-0.475076119743, total=   0.0s\n",
      "[CV] alpha=10 ........................................................\n",
      "[CV] alpha=1 .........................................................\n",
      "[CV] alpha=10 ........................................................\n",
      "[CV] .................. alpha=10, score=-0.489741765405, total=   0.0s\n",
      "[CV] ................... alpha=1, score=-0.475252910023, total=   0.0s\n",
      "[CV] .................. alpha=10, score=-0.494987232957, total=   0.0s\n",
      "[CV] alpha=10 ........................................................\n",
      "[CV] alpha=1 .........................................................\n",
      "[CV] alpha=10 ........................................................\n",
      "[CV] ................... alpha=1, score=-0.459841432976, total=   0.0s\n",
      "[CV] .................. alpha=10, score=-0.432924372444, total=   0.0s\n",
      "[CV] .................. alpha=10, score=-0.475336608002, total=   0.0s\n",
      "[CV] alpha=10 ........................................................\n",
      "[CV] alpha=10 ........................................................\n",
      "[CV] alpha=100 .......................................................\n",
      "[CV] .................. alpha=10, score=-0.483770386088, total=   0.0s\n",
      "[CV] .................. alpha=10, score=-0.475362966141, total=   0.0s\n",
      "[CV] alpha=10 ........................................................\n",
      "[CV] .................. alpha=100, score=-0.47646771997, total=   0.0s\n",
      "[CV] alpha=10 ........................................................\n",
      "[CV] .................. alpha=10, score=-0.456507596464, total=   0.0s\n",
      "[CV] alpha=100 .......................................................\n",
      "[CV] .................. alpha=10, score=-0.460051134984, total=   0.0s\n",
      "[CV] alpha=10 ........................................................\n",
      "[CV] .................. alpha=100, score=-0.46217441952, total=   0.0s\n",
      "[CV] alpha=100 .......................................................\n",
      "[CV] .................. alpha=10, score=-0.460068161965, total=   0.0s\n",
      "[CV] alpha=10 ........................................................\n",
      "[CV] ................. alpha=100, score=-0.461933998454, total=   0.0s\n",
      "[CV] alpha=100 .......................................................\n",
      "[CV] .................. alpha=10, score=-0.472836972141, total=   0.0s\n",
      "[CV] ................. alpha=100, score=-0.474676117838, total=   0.0s\n",
      "[CV] alpha=100 .......................................................\n",
      "[CV] ................. alpha=100, score=-0.490700514525, total=   0.0s\n",
      "[CV] alpha=100 .......................................................\n",
      "[CV] ................. alpha=100, score=-0.434454080605, total=   0.0s\n",
      "[CV] alpha=100 .......................................................\n",
      "[CV] ................. alpha=100, score=-0.485308229445, total=   0.0s\n",
      "[CV] alpha=100 .......................................................\n",
      "[CV] ................. alpha=100, score=-0.458384502219, total=   0.0s\n",
      "[CV] alpha=100 .......................................................\n",
      "[CV] ................. alpha=100, score=-0.497703194798, total=   0.0s\n",
      "[CV] alpha=100 .......................................................\n",
      "[CV] ................. alpha=100, score=-0.477885625895, total=   0.0s\n",
      "('rf best para:', {'alpha': 0.0001})\n",
      "('rf best score:', -0.46996058854658307)\n",
      "('results', {'rank_test_score': array([1, 2, 3, 4, 5, 6, 7], dtype=int32), 'split6_test_score': array([-0.4752408 , -0.47524081, -0.47524092, -0.47524201, -0.47525291,\n",
      "       -0.47536297, -0.47646772]), 'split7_train_score': array([-0.47336796, -0.47336798, -0.47336816, -0.47336994, -0.47338777,\n",
      "       -0.47356881, -0.47547651]), 'split0_train_score': array([-0.46673673, -0.46673674, -0.46673692, -0.46673871, -0.46675655,\n",
      "       -0.46693468, -0.46879691]), 'split2_test_score': array([-0.4836052 , -0.48360521, -0.48360536, -0.48360685, -0.48362176,\n",
      "       -0.48377039, -0.48530823]), 'mean_fit_time': array([0.02850592, 0.00473051, 0.00512474, 0.00397959, 0.00404034,\n",
      "       0.00377822, 0.00333319]), 'split3_train_score': array([-0.47120434, -0.47120435, -0.47120453, -0.47120632, -0.47122426,\n",
      "       -0.47140404, -0.47323915]), 'split6_train_score': array([-0.47241719, -0.47241721, -0.4724174 , -0.47241928, -0.47243809,\n",
      "       -0.47262609, -0.47460548]), 'split9_test_score': array([-0.47263895, -0.47263896, -0.47263914, -0.47264093, -0.47265881,\n",
      "       -0.47283697, -0.47467612]), 'std_test_score': array([0.0173786 , 0.0173786 , 0.01737861, 0.01737868, 0.01737939,\n",
      "       0.01738686, 0.01744182]), 'params': [{'alpha': 0.0001}, {'alpha': 0.001}, {'alpha': 0.01}, {'alpha': 0.1}, {'alpha': 1}, {'alpha': 10}, {'alpha': 100}], 'std_fit_time': array([0.03525923, 0.00307936, 0.00240943, 0.00092594, 0.00161634,\n",
      "       0.00075062, 0.00064138]), 'std_score_time': array([0.00134281, 0.00021841, 0.00059551, 0.0004766 , 0.00011514,\n",
      "       0.00015459, 0.00051666]), 'split8_test_score': array([-0.45987044, -0.45987046, -0.45987064, -0.45987241, -0.45989013,\n",
      "       -0.46006816, -0.461934  ]), 'std_train_score': array([0.00219894, 0.00219894, 0.00219894, 0.00219894, 0.00219899,\n",
      "       0.00219978, 0.002217  ]), 'split4_test_score': array([-0.4946849 , -0.49468492, -0.49468519, -0.49468788, -0.49471495,\n",
      "       -0.49498723, -0.49770319]), 'split1_train_score': array([-0.47507066, -0.47507067, -0.47507085, -0.47507264, -0.47509058,\n",
      "       -0.47527004, -0.47715003]), 'split2_train_score': array([-0.47131193, -0.47131195, -0.47131213, -0.47131392, -0.4713318 ,\n",
      "       -0.47151003, -0.47339876]), 'split4_train_score': array([-0.47041492, -0.47041494, -0.47041512, -0.47041695, -0.47043518,\n",
      "       -0.47061811, -0.47252711]), 'mean_score_time': array([0.00175443, 0.00102222, 0.00124686, 0.00123274, 0.00097289,\n",
      "       0.00098701, 0.00124362]), 'split9_train_score': array([-0.4699251 , -0.46992512, -0.4699253 , -0.46992709, -0.46994502,\n",
      "       -0.47012532, -0.47199092]), 'split5_test_score': array([-0.4750472 , -0.47504722, -0.47504748, -0.47505009, -0.47507612,\n",
      "       -0.47533661, -0.47788563]), 'mean_train_score': array([-0.47109926, -0.47109928, -0.47109946, -0.47110125, -0.47111922,\n",
      "       -0.47129934, -0.47318053]), 'split8_train_score': array([-0.46896935, -0.46896937, -0.46896955, -0.46897133, -0.46898917,\n",
      "       -0.46916751, -0.47099346]), 'split7_test_score': array([-0.45981803, -0.45981805, -0.45981826, -0.45982036, -0.45984143,\n",
      "       -0.46005113, -0.46217442]), 'split0_test_score': array([-0.489634  , -0.48963401, -0.48963411, -0.48963508, -0.48964481,\n",
      "       -0.48974177, -0.49070051]), 'mean_test_score': array([-0.46996059, -0.46996061, -0.46996078, -0.46996257, -0.46998039,\n",
      "       -0.47015872, -0.47196884]), 'split3_test_score': array([-0.45630036, -0.45630038, -0.45630057, -0.45630243, -0.45632105,\n",
      "       -0.4565076 , -0.4583845 ]), 'split5_train_score': array([-0.47157444, -0.47157446, -0.47157463, -0.47157637, -0.47159376,\n",
      "       -0.47176881, -0.47362702]), 'param_alpha': masked_array(data=[0.0001, 0.001, 0.01, 0.1, 1, 10, 100],\n",
      "             mask=[False, False, False, False, False, False, False],\n",
      "       fill_value='?',\n",
      "            dtype=object), 'split1_test_score': array([-0.43276602, -0.43276603, -0.43276618, -0.43276761, -0.43278191,\n",
      "       -0.43292437, -0.43445408])})\n"
     ]
    },
    {
     "name": "stderr",
     "output_type": "stream",
     "text": [
      "[Parallel(n_jobs=3)]: Done  70 out of  70 | elapsed:    0.8s finished\n"
     ]
    }
   ],
   "source": [
    "parameters = {'alpha':[0.0001,0.001,0.01,0.1,1,10,100]}\n",
    "clfridge1 = GridSearchCV(ridge1_model, parameters,scoring=my_scorer,cv=cv_para,verbose=30,n_jobs=3)\n",
    "clfridge1.fit(data_X_encoded_p,data_y)\n",
    "print (\"rf best para:\",clfridge1.best_params_)\n",
    "print (\"rf best score:\",clfridge1.best_score_)\n",
    "print (\"results\",clfridge1.cv_results_)"
   ]
  },
  {
   "cell_type": "code",
   "execution_count": null,
   "metadata": {
    "collapsed": true
   },
   "outputs": [],
   "source": [
    "cv_score = np.array([-0.23824588, -0.20844122, -0.23356121, -0.21602981, -0.2285855,  -0.22002714,-0.21376681, -0.22638707, -0.21034281, -0.21976963])\n",
    "cv_score.mean()"
   ]
  },
  {
   "cell_type": "code",
   "execution_count": null,
   "metadata": {
    "collapsed": true,
    "scrolled": true
   },
   "outputs": [],
   "source": [
    "nn_model.fit(data_X_encoded, data_y)\n"
   ]
  },
  {
   "cell_type": "code",
   "execution_count": null,
   "metadata": {
    "collapsed": true
   },
   "outputs": [],
   "source": [
    "#store the model\n",
    "joblib.dump(nn_model, 'nn_model_without_d.pkl')\n",
    "#to use saved model to predict\n",
    "rf = joblib.load('nn_model_without_d.pkl')\n",
    "rf.predict([x_test])"
   ]
  }
 ],
 "metadata": {
  "kernelspec": {
   "display_name": "Python 2",
   "language": "python",
   "name": "python2"
  },
  "language_info": {
   "codemirror_mode": {
    "name": "ipython",
    "version": 2
   },
   "file_extension": ".py",
   "mimetype": "text/x-python",
   "name": "python",
   "nbconvert_exporter": "python",
   "pygments_lexer": "ipython2",
   "version": "2.7.13"
  }
 },
 "nbformat": 4,
 "nbformat_minor": 2
}
